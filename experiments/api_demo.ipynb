{
  "cells": [
    {
      "cell_type": "markdown",
      "metadata": {},
      "source": [
        "## Demo notebook to check out the Google Places API and the results"
      ]
    },
    {
      "cell_type": "code",
      "execution_count": 1,
      "metadata": {},
      "outputs": [],
      "source": [
        "import requests\n",
        "from openai import OpenAI\n",
        "import os\n",
        "import nltk\n",
        "import sqlite3"
      ]
    },
    {
      "cell_type": "markdown",
      "metadata": {},
      "source": [
        "# Connect to database"
      ]
    },
    {
      "cell_type": "code",
      "execution_count": 2,
      "metadata": {},
      "outputs": [
        {
          "data": {
            "text/plain": [
              "<sqlite3.Cursor at 0x2211eeb6440>"
            ]
          },
          "execution_count": 2,
          "metadata": {},
          "output_type": "execute_result"
        }
      ],
      "source": [
        "conn = sqlite3.connect('reviews.db')\n",
        "cursor = conn.cursor()\n",
        "\n",
        "cursor.execute('''CREATE TABLE IF NOT EXISTS review_summaries (\n",
        "    id TEXT PRIMARY KEY,\n",
        "    review_summary TEXT,\n",
        "    date DATETIME DEFAULT CURRENT_TIMESTAMP\n",
        ")''')"
      ]
    },
    {
      "cell_type": "code",
      "execution_count": 3,
      "metadata": {},
      "outputs": [
        {
          "data": {
            "text/plain": [
              "<sqlite3.Cursor at 0x2211eeb6440>"
            ]
          },
          "execution_count": 3,
          "metadata": {},
          "output_type": "execute_result"
        }
      ],
      "source": [
        "cursor.execute('''CREATE TABLE IF NOT EXISTS review_summaries (\n",
        "    id TEXT PRIMARY KEY,\n",
        "    review_summary TEXT,\n",
        "    date DATETIME DEFAULT CURRENT_TIMESTAMP\n",
        ")''')"
      ]
    },
    {
      "cell_type": "code",
      "execution_count": 4,
      "metadata": {},
      "outputs": [],
      "source": [
        "conn.commit()"
      ]
    },
    {
      "cell_type": "code",
      "execution_count": 5,
      "metadata": {},
      "outputs": [
        {
          "name": "stderr",
          "output_type": "stream",
          "text": [
            "[nltk_data] Downloading package punkt to\n",
            "[nltk_data]     C:\\Users\\gulBa\\AppData\\Roaming\\nltk_data...\n",
            "[nltk_data]   Package punkt is already up-to-date!\n"
          ]
        }
      ],
      "source": [
        "nltk.download('punkt')\n",
        "\n",
        "def insert_newlines(text):\n",
        "    sentences = nltk.sent_tokenize(text)\n",
        "    text_with_newlines = '\\n'.join(sentences)\n",
        "    return text_with_newlines"
      ]
    },
    {
      "cell_type": "markdown",
      "metadata": {},
      "source": [
        "### Set api keys from env"
      ]
    },
    {
      "cell_type": "code",
      "execution_count": 6,
      "metadata": {},
      "outputs": [
        {
          "name": "stdout",
          "output_type": "stream",
          "text": [
            "Google key found!\n",
            "OpenAI key found!\n"
          ]
        }
      ],
      "source": [
        "#get api keys from env file\n",
        "google_api_key = os.environ.get(\"GOOGLE_API_KEY\")\n",
        "openai_api_key = os.environ.get(\"OPENAI_API_KEY\")\n",
        "if google_api_key is not None:\n",
        "    print(\"Google key found!\")\n",
        "if openai_api_key is not None:\n",
        "    print(\"OpenAI key found!\")"
      ]
    },
    {
      "cell_type": "markdown",
      "metadata": {},
      "source": [
        "### Define functions"
      ]
    },
    {
      "cell_type": "code",
      "execution_count": 7,
      "metadata": {},
      "outputs": [],
      "source": [
        "#get nearby restaurants\n",
        "def get_nearby_restaurants(api_key, location, radius=200, keyword='restaurant', num_results=5):\n",
        "    '''\n",
        "    Returns the restaurants from the API call based on location, radius\n",
        "    '''\n",
        "    # base_url = 'https://maps.googleapis.com/maps/api/place/nearbysearch/json'\n",
        "    base_url = 'https://maps.googleapis.com/maps/api/place/textsearch/json'\n",
        "    \n",
        "    params = {\n",
        "        'location': location,\n",
        "        'radius': radius,\n",
        "        'keyword': keyword,\n",
        "        'query': 'german food',\n",
        "        'key': api_key,\n",
        "    }\n",
        "    \n",
        "    response = requests.get(base_url, params=params)\n",
        "    results = response.json().get('results', [])\n",
        "\n",
        "    # Limit the number of results to the top 'num_results'\n",
        "    results = results[:num_results]\n",
        "    \n",
        "    return results\n",
        "\n",
        "\n",
        "def get_place_details(api_key, place_id):\n",
        "    '''\n",
        "    Returns details on a place defined by the place_id, e.g. reviews\n",
        "    '''\n",
        "    base_url = 'https://maps.googleapis.com/maps/api/place/details/json'\n",
        "\n",
        "    params = {\n",
        "        'place_id': place_id,\n",
        "        'key': api_key\n",
        "    }\n",
        "\n",
        "    response = requests.get(base_url, params=params)\n",
        "    result = response.json().get('result', {})\n",
        "    \n",
        "    photo_ref = result[\"photos\"][0][\"photo_reference\"]\n",
        "    \n",
        "    response = requests.get(\n",
        "        \"https://maps.googleapis.com/maps/api/place/photo\", \n",
        "        params={\"photo_reference\": photo_ref, \"key\": api_key, \"maxwidth\": 400}\n",
        "    )\n",
        "    photo_url = response.url\n",
        "    \n",
        "    address = result[\"formatted_address\"]\n",
        "    \n",
        "    lat = result[\"geometry\"][\"location\"][\"lat\"]\n",
        "    lng = result[\"geometry\"][\"location\"][\"lng\"]\n",
        "    nav_address = address.replace(\" \", \"%20\")\n",
        "    \n",
        "    return {\n",
        "        \"name\": result[\"name\"],\n",
        "        \"address\": address,\n",
        "        \"photo_url\": photo_url,\n",
        "        \"rating\": result[\"rating\"],\n",
        "        \"reviews\": result[\"reviews\"],\n",
        "        \"navigation_url\": f\"https://www.google.de/maps/dir/{lat},{lng}/{nav_address}\"\n",
        "    }\n",
        "\n",
        "\n",
        "def generate_summary(client, reviews):\n",
        "    #Concatenate all reviews\n",
        "    review_text = \"\\n\".join(review.get('text', '') for review in reviews)\n",
        "\n",
        "    #Define the prompt for GPT\n",
        "    prompt = f\"Summarize the reviews for this place in one sentence:\\n{review_text}\"\n",
        "\n",
        "    response = client.chat.completions.create(\n",
        "        model=\"gpt-3.5-turbo\",\n",
        "        messages=[\n",
        "            {\"role\": \"user\", \"content\": prompt},\n",
        "        ]\n",
        "    )\n",
        "    \n",
        "\n",
        "    #Extract the generated summary from GPT's response\n",
        "    summary = response.choices[0].message.content\n",
        "\n",
        "    return summary\n",
        "\n",
        "def fetch_review(place_id):\n",
        "    cursor.execute('SELECT * FROM review_summaries WHERE id = ?', (place_id,))\n",
        "    return cursor.fetchall()\n",
        "\n",
        "def get_summary(place_id):\n",
        "    review_array = fetch_review(place_id)\n",
        "\n",
        "    if len(review_array) > 0:\n",
        "        print(\"Found in database!\")\n",
        "        review = review_array[0]\n",
        "        summary = review[1]\n",
        "    else:\n",
        "        reviews = get_place_details(google_api_key, place_id).get('reviews', [])\n",
        "        summary = generate_summary(OpenAI(), reviews)\n",
        "        cursor.execute('INSERT INTO review_summaries (id, review_summary) VALUES (?, ?)', (place_id, summary))\n",
        "        conn.commit()\n",
        "\n",
        "    return summary\n",
        "\n",
        "def get_all_summaries(restaurants):\n",
        "    summaries = []\n",
        "    for restaurant in restaurants:\n",
        "        summaries.append(get_summary(restaurant['place_id']))\n",
        "\n",
        "    return summaries"
      ]
    },
    {
      "cell_type": "markdown",
      "metadata": {},
      "source": [
        "### Search for places using Google Places API"
      ]
    },
    {
      "cell_type": "code",
      "execution_count": 8,
      "metadata": {},
      "outputs": [
        {
          "name": "stdout",
          "output_type": "stream",
          "text": [
            "Restaurant name:  Nuernberger Bratwurst Gloeckl am Dom\n",
            "Rating:   4.3\n",
            "{'business_status': 'OPERATIONAL', 'formatted_address': 'Frauenplatz 9, 80331 München, Germany', 'geometry': {'location': {'lat': 48.1381846, 'lng': 11.5741547}, 'viewport': {'northeast': {'lat': 48.13996802989272, 'lng': 11.57524972989272}, 'southwest': {'lat': 48.13726837010727, 'lng': 11.57255007010728}}}, 'icon': 'https://maps.gstatic.com/mapfiles/place_api/icons/v1/png_71/restaurant-71.png', 'icon_background_color': '#FF9E67', 'icon_mask_base_uri': 'https://maps.gstatic.com/mapfiles/place_api/icons/v2/restaurant_pinlet', 'name': 'Nuernberger Bratwurst Gloeckl am Dom', 'opening_hours': {'open_now': True}, 'photos': [{'height': 1366, 'html_attributions': ['<a href=\"https://maps.google.com/maps/contrib/102303653129799008016\">Morawek &amp; Mencner Gastronomie GmbH</a>'], 'photo_reference': 'AWU5eFgKov1XgtLFX1M9qPOh3sEsIyl0h6JlTKpQQPiijkKlS3eiX5wZmVgp1r8rXnsuNoC3ssqKW3FBirHlW7djrtB7Qe5LkKLMfT1lRwaHbIwb5T3KuLq2sriItDoVSh7uOBQ-ufJgtfMcJ-NjwwYgAAYpyBozljPWeD2KqmPn-RIck3Y3', 'width': 2048}], 'place_id': 'ChIJtWd9xPR1nkcRIoDG-yQEcHc', 'plus_code': {'compound_code': '4HQF+7M Munich', 'global_code': '8FWH4HQF+7M'}, 'rating': 4.3, 'reference': 'ChIJtWd9xPR1nkcRIoDG-yQEcHc', 'types': ['bar', 'restaurant', 'food', 'lodging', 'point_of_interest', 'establishment'], 'user_ratings_total': 3924}\n",
            "Restaurant name:  Bratwurstherzl\n",
            "Rating:   4\n",
            "{'business_status': 'OPERATIONAL', 'formatted_address': 'Dreifaltigkeitspl. 1, 80331 München, Germany', 'geometry': {'location': {'lat': 48.1354284, 'lng': 11.5774833}, 'viewport': {'northeast': {'lat': 48.13627627989271, 'lng': 11.57871452989272}, 'southwest': {'lat': 48.13357662010727, 'lng': 11.57601487010728}}}, 'icon': 'https://maps.gstatic.com/mapfiles/place_api/icons/v1/png_71/restaurant-71.png', 'icon_background_color': '#FF9E67', 'icon_mask_base_uri': 'https://maps.gstatic.com/mapfiles/place_api/icons/v2/restaurant_pinlet', 'name': 'Bratwurstherzl', 'opening_hours': {'open_now': True}, 'photos': [{'height': 3024, 'html_attributions': ['<a href=\"https://maps.google.com/maps/contrib/100715953898676903150\">Zora</a>'], 'photo_reference': 'AWU5eFg6iajkO1ozcofmnpePE2fJuSw8WgGUPlom5b7iIZ1s835UYcLn2pcKyZctoFCHNSaW0V1fVV67vTtfbcRFrBId_JFa1adLffoaGuTELIRrTLWHzsc7BLLWCaJ97DgvdiWg1goUjrD8ro9_RKiV8ELlDVL5t7ucgXok_URIqjLyXff9', 'width': 4032}], 'place_id': 'ChIJI2QUiIp1nkcRkfw4wnWJOUU', 'plus_code': {'compound_code': '4HPG+5X Munich', 'global_code': '8FWH4HPG+5X'}, 'price_level': 2, 'rating': 4, 'reference': 'ChIJI2QUiIp1nkcRkfw4wnWJOUU', 'types': ['restaurant', 'food', 'point_of_interest', 'establishment'], 'user_ratings_total': 1647}\n",
            "Restaurant name:  Hochreiter Gaststättenbetrieb oHG\n",
            "Rating:   1.6\n",
            "{'business_status': 'OPERATIONAL', 'formatted_address': 'Viktualienmarkt 9, 80331 München, Germany', 'geometry': {'location': {'lat': 48.1353932, 'lng': 11.576477}, 'viewport': {'northeast': {'lat': 48.13641967989272, 'lng': 11.57734537989272}, 'southwest': {'lat': 48.13372002010728, 'lng': 11.57464572010728}}}, 'icon': 'https://maps.gstatic.com/mapfiles/place_api/icons/v1/png_71/restaurant-71.png', 'icon_background_color': '#FF9E67', 'icon_mask_base_uri': 'https://maps.gstatic.com/mapfiles/place_api/icons/v2/restaurant_pinlet', 'name': 'Hochreiter Gaststättenbetrieb oHG', 'opening_hours': {'open_now': True}, 'photos': [{'height': 4000, 'html_attributions': ['<a href=\"https://maps.google.com/maps/contrib/109593286892208299499\">Manuel Kleinert</a>'], 'photo_reference': 'AWU5eFgvQpF1irCTJDQg6ZCBSJe0F_JGrGs3SQXjkTltb1KrSJbtQ34Ip9ehe8BiVmdKL_eOGn2MQr82zN_tHf-HmGqIq-EcvCEla-vi5WRoNyCKrcdrEIMIGNIIjmF_fnETPhHMBn-daEOWXolm2QOYvVNqpq9t1W_BJF3qYJParqgA_NBo', 'width': 3000}], 'place_id': 'ChIJswwDjLt1nkcRpfOE9IgsYUE', 'plus_code': {'compound_code': '4HPG+5H Munich', 'global_code': '8FWH4HPG+5H'}, 'rating': 1.6, 'reference': 'ChIJswwDjLt1nkcRpfOE9IgsYUE', 'types': ['restaurant', 'food', 'point_of_interest', 'establishment'], 'user_ratings_total': 45}\n",
            "Restaurant name:  Augustiner Klosterwirt\n",
            "Rating:   4.5\n",
            "{'business_status': 'OPERATIONAL', 'formatted_address': 'Augustinerstraße 1, 80331 München, Germany', 'geometry': {'location': {'lat': 48.1385971, 'lng': 11.5721771}, 'viewport': {'northeast': {'lat': 48.14016847989273, 'lng': 11.57395362989272}, 'southwest': {'lat': 48.13746882010729, 'lng': 11.57125397010728}}}, 'icon': 'https://maps.gstatic.com/mapfiles/place_api/icons/v1/png_71/restaurant-71.png', 'icon_background_color': '#FF9E67', 'icon_mask_base_uri': 'https://maps.gstatic.com/mapfiles/place_api/icons/v2/restaurant_pinlet', 'name': 'Augustiner Klosterwirt', 'opening_hours': {'open_now': True}, 'photos': [{'height': 3024, 'html_attributions': ['<a href=\"https://maps.google.com/maps/contrib/103720166744965001510\">Daniel Bloemer</a>'], 'photo_reference': 'AWU5eFh-6YE27RXGB9SPxeXo_6rZb2JAu_SlN4BY6n8wOm8e2_Es4kxHHiMxl_uxA7JMCMxZSIn3z6aFEUMXlvUVrg9hOSXnumWs-TXZmQzjWuJLWJrBS_z0vvCZct-f9vk5JLRiKvA9aJzQLQQkRA9ba1ds2dTyMIztTWP882LdfQhtjqCw', 'width': 4032}], 'place_id': 'ChIJV8rJWPR1nkcRfAVGOrZIeVs', 'plus_code': {'compound_code': '4HQC+CV Munich', 'global_code': '8FWH4HQC+CV'}, 'price_level': 2, 'rating': 4.5, 'reference': 'ChIJV8rJWPR1nkcRfAVGOrZIeVs', 'types': ['restaurant', 'food', 'point_of_interest', 'establishment'], 'user_ratings_total': 9994}\n",
            "Restaurant name:  Augustiner am Platzl\n",
            "Rating:   4.3\n",
            "{'business_status': 'OPERATIONAL', 'formatted_address': 'Orlandostraße 5, 80331 München, Germany', 'geometry': {'location': {'lat': 48.1375632, 'lng': 11.57947}, 'viewport': {'northeast': {'lat': 48.13891702989273, 'lng': 11.58088152989272}, 'southwest': {'lat': 48.13621737010729, 'lng': 11.57818187010728}}}, 'icon': 'https://maps.gstatic.com/mapfiles/place_api/icons/v1/png_71/restaurant-71.png', 'icon_background_color': '#FF9E67', 'icon_mask_base_uri': 'https://maps.gstatic.com/mapfiles/place_api/icons/v2/restaurant_pinlet', 'name': 'Augustiner am Platzl', 'opening_hours': {'open_now': True}, 'photos': [{'height': 4032, 'html_attributions': ['<a href=\"https://maps.google.com/maps/contrib/104188918442144432574\">Mª Belén Trujillo Díaz</a>'], 'photo_reference': 'AWU5eFgqwYtY-32_wNhppDIgHP_TpsNTRsiakd5kv8IH-5iXmwiQaxiGZNoznZK3cpN_6x6ClqBUfYULQNi7XP5V-mkwFwC3ZxJrv6tU3fokjrjw5SzaeioUIxJUpBUX4tlM81xzDq_8bUkx0y_bZDFi1k1AQKncVMoFfgN8PDSfJIfW2DmV', 'width': 3024}], 'place_id': 'ChIJ_TjDuot1nkcRVuLxp3RKrS0', 'plus_code': {'compound_code': '4HQH+2Q Munich', 'global_code': '8FWH4HQH+2Q'}, 'price_level': 2, 'rating': 4.3, 'reference': 'ChIJ_TjDuot1nkcRVuLxp3RKrS0', 'types': ['bar', 'restaurant', 'food', 'point_of_interest', 'establishment'], 'user_ratings_total': 4888}\n"
          ]
        }
      ],
      "source": [
        "# LMU coordiantes\n",
        "# lmu_coordinates = '48.148794,11.579980'\n",
        "lmu_coordinates = '48.13743, 11.57549'\n",
        "\n",
        "# Set radius and keyword\n",
        "restaurants = get_nearby_restaurants(google_api_key, lmu_coordinates, radius=500, keyword='food', num_results=5)\n",
        "\n",
        "# Print the names of the found restaurants\n",
        "for restaurant in restaurants:\n",
        "    #Print Restaurant name and average rating\n",
        "    print(\"Restaurant name: \", restaurant.get('name'))\n",
        "    print(\"Rating:  \", restaurant.get('rating'))\n",
        "    \n",
        "    print(restaurant)"
      ]
    },
    {
      "cell_type": "code",
      "execution_count": 9,
      "metadata": {},
      "outputs": [
        {
          "data": {
            "text/plain": [
              "{'name': 'Nuernberger Bratwurst Gloeckl am Dom',\n",
              " 'address': 'Frauenplatz 9, 80331 München, Germany',\n",
              " 'photo_url': 'https://lh3.googleusercontent.com/places/ANXAkqF2bOb07bkGoNNvsPio_ud4KvDxF_uH2CmHYf65r6tivfX_PSBSpjg12i4eqbz5PPUrgjHo5LkcW6x-zP_AdlA4yi3EggTqY1I=s1600-w400',\n",
              " 'rating': 4.3,\n",
              " 'reviews': [{'author_name': 'Martin K',\n",
              "   'author_url': 'https://www.google.com/maps/contrib/103419507594162106032/reviews',\n",
              "   'language': 'en',\n",
              "   'original_language': 'en',\n",
              "   'profile_photo_url': 'https://lh3.googleusercontent.com/a/ACg8ocIETBcP5L5Ktsh8eIZgb9nvv5DmppeCbRlOg19urO9x=s128-c0x00000000-cc-rp-mo-ba4',\n",
              "   'rating': 5,\n",
              "   'relative_time_description': '3 weeks ago',\n",
              "   'text': \"Very nice ambiance.\\nNice waiters.\\nWhen arriving without a reservation, the waiters ask if you agree to share a long table with other patrons.  Gives the opportunity to talk to local people as well as ones coming from abroad.\\n\\nThe locals highlight the excellent taste of the famous grilled pork sausages.  Undeniably good.\\nFor dessert, the recommendation is the caramelized shredded pancake with apple puree.  The serving is labeled as being a plate for two (they don't offer a single portion).  Thanks said, the actual size is for a minimum of six :-).  Very good dessert but very sweet and rich consistency.\",\n",
              "   'time': 1703965447,\n",
              "   'translated': False},\n",
              "  {'author_name': 'Michelle Hillock',\n",
              "   'author_url': 'https://www.google.com/maps/contrib/106013331437514346797/reviews',\n",
              "   'language': 'en',\n",
              "   'original_language': 'en',\n",
              "   'profile_photo_url': 'https://lh3.googleusercontent.com/a/ACg8ocJTgs4uXxehDbUCANp-FG0m6DwBfB2ZqHet3JPVWeNW=s128-c0x00000000-cc-rp-mo-ba6',\n",
              "   'rating': 5,\n",
              "   'relative_time_description': '4 months ago',\n",
              "   'text': \"We came here around 8pm on Monday and were seated right away at a 4 pp patio table. The server speaks English, the menu had 3 different languages. Very tourist friendly location. There was live music for a while. Smoking allowed outside + patio seating. Heated tents! Love the atmosphere since you can see the city while we dine.\\n\\nMenu was good. I like the pork hock or pork belly. The grilled meat platter was worth it. That one is minimum 2 servings per table. We ordered 2 servings and couldn't finish it ):\",\n",
              "   'time': 1695669693,\n",
              "   'translated': False},\n",
              "  {'author_name': 'Kevin Garcia King',\n",
              "   'author_url': 'https://www.google.com/maps/contrib/101971801558172869508/reviews',\n",
              "   'language': 'en',\n",
              "   'original_language': 'en',\n",
              "   'profile_photo_url': 'https://lh3.googleusercontent.com/a-/ALV-UjUC6Y8iSqeYF2_k-PvPtqKnOpQNWqizDmWFCVFPAKan04U=s128-c0x00000000-cc-rp-mo-ba4',\n",
              "   'rating': 4,\n",
              "   'relative_time_description': '3 weeks ago',\n",
              "   'text': 'Amazing place with traditional bavarian food and beer right next to the cathedral. The place was recommended on an online site and I was not dissapointed.\\n\\nThe food was tasty and of good quality, the beer was amazing and the service was decent. The placed was almost full when I arrived so had to sit on the outside terrace but it wasn’t a problem as the place surpassed my expectations.\\n\\nIt’s hard to get wrong traditional bavarian cuisine as it relies on good quality products and its cooking simplicity, but I can see how this place differentiates itself from others due to it’s more than decent food quality.\\n\\nStrongly recommended!',\n",
              "   'time': 1704117195,\n",
              "   'translated': False},\n",
              "  {'author_name': 'Atabey Heydarli',\n",
              "   'author_url': 'https://www.google.com/maps/contrib/102909315159186371045/reviews',\n",
              "   'language': 'en',\n",
              "   'original_language': 'en',\n",
              "   'profile_photo_url': 'https://lh3.googleusercontent.com/a-/ALV-UjVBATNDGnOCUqt0GwbJ1wo90_ORxxB8OMZGK9ugfx1Wro10=s128-c0x00000000-cc-rp-mo-ba5',\n",
              "   'rating': 4,\n",
              "   'relative_time_description': '4 months ago',\n",
              "   'text': 'Sausages were really delicious & juicy, but potato salad was the best👍 The only problem is that, waiter took our order wrongly, and brought us extra plate of sausages and refuse to cancel. But anyway it was delicious\\nVery famous and busy place, but atmosphere was quite nice while sitting outside in a nice square with incredible church.\\nService was quite fast, however place was extremely crowded',\n",
              "   'time': 1694070211,\n",
              "   'translated': False},\n",
              "  {'author_name': 'Zeke Lyles',\n",
              "   'author_url': 'https://www.google.com/maps/contrib/116532295988460646298/reviews',\n",
              "   'language': 'en',\n",
              "   'original_language': 'en',\n",
              "   'profile_photo_url': 'https://lh3.googleusercontent.com/a-/ALV-UjU_T2tKIOAiBvTosIvI1_tMASVDb7IazohWw9fdVekg=s128-c0x00000000-cc-rp-mo-ba5',\n",
              "   'rating': 5,\n",
              "   'relative_time_description': 'a month ago',\n",
              "   'text': 'Guided by google map, we found this Bavarian dinner near the Marienplatz. We ordered the traditional wiener schnitzel, red cabbage, meatloaf, and of course some Augustiner beers 🍻 Lots of outdoor seating if you enjoy people.  We chose to sit inside since it was a bit rainy and cold.  The meatloaf looked like thick slices of Bologna with better flavor.  The red cabbage is rich and tangy.  The schnitzel was cripsy outside and juicy inside. Our waiter was very friendly and talkative.  We shared a table with another couple from a different region of Germany and had a good conversation & laughter over several beers.  I say check it out.',\n",
              "   'time': 1702246280,\n",
              "   'translated': False}],\n",
              " 'navigation_url': 'https://www.google.de/maps/dir/48.1381846,11.5741547/Frauenplatz%209,%2080331%20München,%20Germany'}"
            ]
          },
          "execution_count": 9,
          "metadata": {},
          "output_type": "execute_result"
        }
      ],
      "source": [
        "get_place_details(google_api_key, restaurants[0]['place_id'])"
      ]
    },
    {
      "cell_type": "code",
      "execution_count": 10,
      "metadata": {},
      "outputs": [
        {
          "data": {
            "text/plain": [
              "['This place has a nice ambiance and friendly waiters, offers the opportunity to share a table with locals and tourists, and serves excellent grilled pork sausages and a delicious but very sweet caramelized shredded pancake dessert; it has a tourist-friendly atmosphere with patio seating, heated tents, live music, and offers traditional Bavarian food and beer near the cathedral, with good quality food and decent service; the sausages and potato salad are highly recommended, but there may be issues with order accuracy, and it can get crowded; overall, it is a recommended place to visit for a traditional Bavarian dining experience.',\n",
              " 'Overall, the reviews for this place are positive as customers praise the welcoming atmosphere, delicious food such as pork knuckle, pretzels, white sausages, grilled sausages, schnitzel, and pork chop, as well as the fantastic beer and atmosphere. However, there was one negative review mentioning that the beef dish was not up to par.',\n",
              " 'The overall reviews for this place are mixed, with some praising the food and attentive staff, while others complain about rude and obnoxious waiters, poor value for money, and a lack of traditional German cuisine.',\n",
              " 'in the beer garden and the staff is friendly and efficient, making it a must-visit spot in Munich with great food and a lively atmosphere.',\n",
              " 'This place has good service and atmosphere, incredible authentic German food, great beer, and is a good value for money, making it highly recommended for visitors to Munich. However, it is advisable to make a reservation in advance.']"
            ]
          },
          "execution_count": 10,
          "metadata": {},
          "output_type": "execute_result"
        }
      ],
      "source": [
        "get_all_summaries(restaurants)"
      ]
    },
    {
      "cell_type": "code",
      "execution_count": 11,
      "metadata": {},
      "outputs": [],
      "source": [
        "res_id = restaurants[0][\"place_id\"]\n",
        "\n",
        "date = fetch_review(res_id)[0][2]\n",
        "\n",
        "# check if date is older than 1 day from today\n",
        "\n",
        "# if yes, generate new review and update database\n",
        "\n",
        "# if no, use review from database\n"
      ]
    },
    {
      "cell_type": "code",
      "execution_count": 12,
      "metadata": {},
      "outputs": [
        {
          "name": "stdout",
          "output_type": "stream",
          "text": [
            "('ChIJtWd9xPR1nkcRIoDG-yQEcHc', 'This place has a nice ambiance and friendly waiters, offers the opportunity to share a table with locals and tourists, and serves excellent grilled pork sausages and a delicious but very sweet caramelized shredded pancake dessert; it has a tourist-friendly atmosphere with patio seating, heated tents, live music, and offers traditional Bavarian food and beer near the cathedral, with good quality food and decent service; the sausages and potato salad are highly recommended, but there may be issues with order accuracy, and it can get crowded; overall, it is a recommended place to visit for a traditional Bavarian dining experience.', '2024-01-27 12:16:00')\n",
            "('ChIJI2QUiIp1nkcRkfw4wnWJOUU', 'Overall, the reviews for this place are positive as customers praise the welcoming atmosphere, delicious food such as pork knuckle, pretzels, white sausages, grilled sausages, schnitzel, and pork chop, as well as the fantastic beer and atmosphere. However, there was one negative review mentioning that the beef dish was not up to par.', '2024-01-27 12:16:03')\n",
            "('ChIJswwDjLt1nkcRpfOE9IgsYUE', 'The overall reviews for this place are mixed, with some praising the food and attentive staff, while others complain about rude and obnoxious waiters, poor value for money, and a lack of traditional German cuisine.', '2024-01-27 12:16:06')\n",
            "('ChIJV8rJWPR1nkcRfAVGOrZIeVs', 'in the beer garden and the staff is friendly and efficient, making it a must-visit spot in Munich with great food and a lively atmosphere.', '2024-01-27 12:16:08')\n",
            "('ChIJ_TjDuot1nkcRVuLxp3RKrS0', 'This place has good service and atmosphere, incredible authentic German food, great beer, and is a good value for money, making it highly recommended for visitors to Munich. However, it is advisable to make a reservation in advance.', '2024-01-27 12:16:12')\n"
          ]
        }
      ],
      "source": [
        "for elem in cursor.execute('SELECT * FROM review_summaries'):\n",
        "    print(elem)"
      ]
    },
    {
      "cell_type": "code",
      "execution_count": null,
      "metadata": {},
      "outputs": [],
      "source": []
    }
  ],
  "metadata": {
    "kernelspec": {
      "display_name": ".venv",
      "language": "python",
      "name": "python3"
    },
    "language_info": {
      "codemirror_mode": {
        "name": "ipython",
        "version": 3
      },
      "file_extension": ".py",
      "mimetype": "text/x-python",
      "name": "python",
      "nbconvert_exporter": "python",
      "pygments_lexer": "ipython3",
      "version": "3.11.3"
    }
  },
  "nbformat": 4,
  "nbformat_minor": 2
}
