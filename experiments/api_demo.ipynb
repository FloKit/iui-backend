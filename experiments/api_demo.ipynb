{
 "cells": [
  {
   "cell_type": "markdown",
   "metadata": {},
   "source": [
    "## Demo notebook to check out the Google Places API and the results"
   ]
  },
  {
   "cell_type": "code",
   "execution_count": 1,
   "metadata": {},
   "outputs": [],
   "source": [
    "import requests\n",
    "from openai import OpenAI\n",
    "import os"
   ]
  },
  {
   "cell_type": "markdown",
   "metadata": {},
   "source": [
    "### Define functions"
   ]
  },
  {
   "cell_type": "code",
   "execution_count": 24,
   "metadata": {},
   "outputs": [],
   "source": [
    "#get nearby restaurants\n",
    "def get_nearby_restaurants(api_key, location, radius=200, keyword='restaurant', num_results=5):\n",
    "    '''\n",
    "    Returns the restaurants from the API call based on location, radius\n",
    "    '''\n",
    "    base_url = 'https://maps.googleapis.com/maps/api/place/nearbysearch/json'\n",
    "    \n",
    "    params = {\n",
    "        'location': location,\n",
    "        'radius': radius,\n",
    "        'keyword': keyword,\n",
    "        'key': api_key\n",
    "    }\n",
    "    \n",
    "    response = requests.get(base_url, params=params)\n",
    "    results = response.json().get('results', [])\n",
    "\n",
    "    # Limit the number of results to the top 'num_results'\n",
    "    results = results[:num_results]\n",
    "    \n",
    "    return results\n",
    "\n",
    "\n",
    "def get_place_details(api_key, place_id):\n",
    "    '''\n",
    "    Returns details on a place defined by the place_id, e.g. reviews\n",
    "    '''\n",
    "    base_url = 'https://maps.googleapis.com/maps/api/place/details/json'\n",
    "\n",
    "    params = {\n",
    "        'place_id': place_id,\n",
    "        'key': api_key\n",
    "    }\n",
    "\n",
    "    response = requests.get(base_url, params=params)\n",
    "    result = response.json().get('result', {})\n",
    "\n",
    "    return result\n",
    "\n",
    "\n",
    "def generate_summary(client, reviews):\n",
    "    #Concatenate all reviews\n",
    "    review_text = \"\\n\".join(review.get('text', '') for review in reviews)\n",
    "\n",
    "    #Define the prompt for GPT\n",
    "    prompt = f\"Summarize the reviews for this place:\\n{review_text}\"\n",
    "\n",
    "    response = client.chat.completions.create(\n",
    "        model=\"gpt-3.5-turbo\",\n",
    "        messages=[\n",
    "            {\"role\": \"user\", \"content\": prompt},\n",
    "        ]\n",
    "    )\n",
    "    \n",
    "\n",
    "    #Extract the generated summary from GPT's response\n",
    "    summary = response.choices[0].message.content\n",
    "\n",
    "    return summary\n",
    "    "
   ]
  },
  {
   "cell_type": "markdown",
   "metadata": {},
   "source": [
    "### Set api keys from env"
   ]
  },
  {
   "cell_type": "code",
   "execution_count": 3,
   "metadata": {},
   "outputs": [
    {
     "name": "stdout",
     "output_type": "stream",
     "text": [
      "Google key found!\n",
      "OpenAI key found!\n"
     ]
    }
   ],
   "source": [
    "#get api keys from env file\n",
    "google_api_key = os.environ.get(\"GOOGLE_API_KEY\")\n",
    "openai_api_key = os.environ.get(\"OPENAI_API_KEY\")\n",
    "if google_api_key is not None:\n",
    "    print(\"Google key found!\")\n",
    "if openai_api_key is not None:\n",
    "    print(\"OpenAI key found!\")"
   ]
  },
  {
   "cell_type": "markdown",
   "metadata": {},
   "source": [
    "### Search for places using Google Places API"
   ]
  },
  {
   "cell_type": "code",
   "execution_count": 21,
   "metadata": {},
   "outputs": [
    {
     "name": "stdout",
     "output_type": "stream",
     "text": [
      "Restaurant name:  La Vecchia Masseria\n",
      "Rating:   4\n",
      "Restaurant name:  Schiller Bräu\n",
      "Rating:   4.6\n",
      "Restaurant name:  Münchner Stubn\n",
      "Rating:   4.3\n"
     ]
    }
   ],
   "source": [
    "# Munich center coordinates (for example)\n",
    "munich_center = '48.1363964,11.5609501'\n",
    "\n",
    "# Set radius and keyword\n",
    "restaurants = get_nearby_restaurants(google_api_key, munich_center, radius=200, keyword='restaurant', num_results=3)\n",
    "\n",
    "# Print the names of the found restaurants\n",
    "for restaurant in restaurants:\n",
    "    #Print Restaurant name and average rating\n",
    "    print(\"Restaurant name: \", restaurant.get('name'))\n",
    "    print(\"Rating:  \", restaurant.get('rating'))"
   ]
  },
  {
   "cell_type": "markdown",
   "metadata": {},
   "source": [
    "### Generate Summary with GPT3.5"
   ]
  },
  {
   "cell_type": "code",
   "execution_count": 22,
   "metadata": {},
   "outputs": [
    {
     "name": "stdout",
     "output_type": "stream",
     "text": [
      "Number of available reviews:  5\n",
      "Restaurant name:  La Vecchia Masseria\n",
      "Summary: Overall, the reviews for this place are positive. The restaurant is described as lovely and quaint, with a bustling atmosphere due to families. It is considered a hidden gem located on a quiet street near the Aldstadt. The food is praised as soulful and amazing, with classic dishes like Bolognese and Gorgonzola being perfect. Prices are fair and typical for a restaurant of this type, although they have recently increased. It is recommended to make a reservation, especially if going later in the day. The ambience is nice, although it can be loud when full. The Christmas decorations were enjoyed by some reviewers. The outside seating is pleasant, and the restaurant has a good vibe and service. The food quality is generally good. One reviewer considers it their favorite pizza restaurant in Munich for the past six years. Al fresco dining in mid-June was loved by another reviewer, who found the food quite good and the setting beautiful. The service is described as efficient and responsive, although not overly warm or attentive.\n",
      "\n",
      "Number of available reviews:  5\n",
      "Restaurant name:  Schiller Bräu\n",
      "Summary: The reviews for this place are overwhelmingly positive. Reviewers mention that the beer is fresh and the food is fantastic. They describe the restaurant as having an upscale take on traditional fare with a unique mix of offerings. The staff is praised for being friendly and helpful. Many reviewers specifically mention the excellent service they received from a waiter named Yousef. The food is described as delicious and flavorful, with specific recommendations for dishes such as roast pork and dumplings. Some reviewers mention that reservations are required, but note that the experience is worth it even without one. Overall, the atmosphere and food at this restaurant are highly praised, with one reviewer saying they wish they could give it more stars.\n",
      "\n",
      "Number of available reviews:  5\n",
      "Restaurant name:  Münchner Stubn\n",
      "Summary: - The restaurant gets busy, but the staff is efficient and responsive.\n",
      "- The menu offers local German specialties and a variety of beers.\n",
      "- The food has good flavor and generous portions.\n",
      "- The service is generally professional and friendly, although one waiter was rushed and rude.\n",
      "- The restaurant has a fun vibe, especially during Oktoberfest, with live music.\n",
      "- They have English menus for non-German speakers.\n",
      "- Prices are moderate, and the restaurant is conveniently located near the central main station.\n",
      "\n"
     ]
    }
   ],
   "source": [
    "from openai import OpenAI\n",
    "\n",
    "\n",
    "#Client, automatically searches for OPENAI_API_KEY in environment and sets as key\n",
    "client = OpenAI()\n",
    "\n",
    "\n",
    "#Iterate over restaurants: We want to generate a review for each one\n",
    "for restaurant in restaurants:\n",
    "    #Get place details \n",
    "    restaurant_id = restaurant.get('place_id')\n",
    "    place_details = get_place_details(google_api_key, restaurant_id)\n",
    "\n",
    "    #Get reviews for the place\n",
    "    reviews = place_details.get('reviews', [])\n",
    "    print(\"Number of available reviews: \", len(reviews))\n",
    "    \n",
    "    #Print Restaurant name\n",
    "    print(\"Restaurant name: \", restaurant.get('name'))\n",
    "\n",
    "    #Generate the summary\n",
    "    summary = generate_summary(client, reviews)\n",
    "    print(f\"Summary: {summary}\\n\")"
   ]
  },
  {
   "cell_type": "markdown",
   "metadata": {},
   "source": [
    "## Prompt trials"
   ]
  },
  {
   "cell_type": "code",
   "execution_count": 26,
   "metadata": {},
   "outputs": [],
   "source": [
    "def generate_summary_prompt(client, prompt):\n",
    "\n",
    "    response = client.chat.completions.create(\n",
    "        model=\"gpt-3.5-turbo\",\n",
    "        messages=[\n",
    "            {\"role\": \"user\", \"content\": prompt},\n",
    "        ]\n",
    "    )\n",
    "    \n",
    "\n",
    "    #Extract the generated summary from GPT's response\n",
    "    summary = response.choices[0].message.content\n",
    "\n",
    "    return summary"
   ]
  },
  {
   "cell_type": "code",
   "execution_count": 14,
   "metadata": {},
   "outputs": [
    {
     "name": "stdout",
     "output_type": "stream",
     "text": [
      "PROMPT 1: \n",
      "review_text\n",
      "Restaurant name:  La Vecchia Masseria\n",
      "Summary: This restaurant is described as a hidden gem with a lovely atmosphere and amazing soulful food. Prices are reasonable and the outside seating area is praised. Some customers mention enjoying the Christmas decorations while others mention the consistent quality of the food over the years. The service is described as efficient.\n",
      "\n",
      "review_text\n",
      "Restaurant name:  Münchner Stubn\n",
      "Summary: This restaurant is busy but has responsive and professional servers. They have a variety of local specialties and a great variety of beers on tap. The food is decent, well-presented, and comes in generous portions. They have a German and English menu and the staff is friendly and helpful. The vibe is fun with live music during Oktoberfest. The only negative is that one waiter was rude and rushed, but the overall dining experience is great. It's a cozy, moderately priced restaurant with efficient service and delicious food. It's conveniently located near the main train station.\n",
      "\n",
      "review_text\n",
      "Restaurant name:  Hindukush\n",
      "Summary: Overall, these reviews highlight the positive experiences customers had with the Afghan food at the restaurant. They praise the authentic flavors, generous portions, and tasty dishes such as the lamb dopyaza and Qabull Palau. The service is also highly regarded, with friendly and helpful staff. The atmosphere and ambience are described as amazing and authentic, contributing to a great dining experience. The restaurant is recommended for its delicious food, attentive service, and reasonable prices.\n",
      "\n"
     ]
    }
   ],
   "source": [
    "#Concatenate all reviews\n",
    "\n",
    "\n",
    "\"\"\"\n",
    "prompt1 = f\"Summarize the reviews for this place as short and easy to understand as possible:\\n{review_text}\"\n",
    "prompt2 = f\"Summarize the reviews for this restaurant please. For this, please provide positive and negative aspects with bulletpoints. Positive ones should start with 'Pros:' and negative ones with 'Cons: ', These are the reviews:\\n{review_text}\"\n",
    "prompt3 = f\"Can you give me the most common positive and negative aspects in the reviews of this restaurant:\\n{review_text}\"\n",
    "# prompt4 = f\"Summarize the reviews for this place:\\n{review_text}\"\n",
    "\"\"\"\n",
    "\n",
    "print(\"PROMPT 1: \")\n",
    "for restaurant in restaurants:\n",
    "    #Get place details \n",
    "    restaurant_id = restaurant.get('place_id')\n",
    "    place_details = get_place_details(google_api_key, restaurant_id)\n",
    "\n",
    "    #Get reviews for the place\n",
    "    reviews = place_details.get('reviews', [])\n",
    "    review_text = \"\\n\".join(review.get('text', '') for review in reviews)\n",
    "    print(\"review_text\")\n",
    "    prompt1 = f\"Look through these reviews and summarize all of them in 2 to 3 sentences with the information and experiences that might be the most interesting to potential customers:\\n{review_text}\"\n",
    "    \n",
    "    #Print Restaurant name\n",
    "    print(\"Restaurant name: \", restaurant.get('name'))\n",
    "\n",
    "    #Generate the summary\n",
    "    summary = generate_summary_prompt(client, prompt1)\n",
    "    print(f\"Summary: {summary}\\n\")\n",
    "\n",
    "\n",
    "\n"
   ]
  },
  {
   "cell_type": "code",
   "execution_count": 16,
   "metadata": {},
   "outputs": [
    {
     "name": "stdout",
     "output_type": "stream",
     "text": [
      "PROMPT 2: \n",
      "Restaurant name:  La Vecchia Masseria\n",
      "Summary: - The restaurant has a lovely and quaint atmosphere, with a bustling atmosphere due to families.\n",
      "- The location is considered a hidden gem, close to the Aldstadt but a bit of a walk away.\n",
      "- The food is soulful and amazing, with classics like Bolognese and Gorgonzola being perfect choices.\n",
      "- Prices have increased recently but are still typical for a similar restaurant.\n",
      "- It is recommended to make a reservation, although going early may allow one to skip it.\n",
      "- All pizzas are €8.99 on Sundays.\n",
      "- The ambience is nice, but it can be a bit loud when the restaurant is full.\n",
      "- The Christmas decorations add to the enjoyable atmosphere.\n",
      "- The prices are fair and not considered a rip-off for tourists.\n",
      "- The overall quality of food is great, with good service.\n",
      "- The outside seating in a quiet street is very nice, with a good vibe and service.\n",
      "- Basic dishes have good quality, and the reviewer would return for beer and the atmosphere.\n",
      "- The reviewer has been visiting the restaurant for six years and still finds the same quality and workers.\n",
      "- Al fresco dining in mid-June was loved, with good food and a beautiful setting.\n",
      "- The service is efficient and responsive, but not particularly warm or super attentive.\n",
      "\n",
      "Restaurant name:  Münchner Stubn\n",
      "Summary: - The restaurant is busy, especially during Oktoberfest, but has a fun and lively atmosphere with live music.\n",
      "- The menu offers a variety of local German dishes and a good selection of beers.\n",
      "- The food is flavorful and well-presented, with generous portion sizes.\n",
      "- The service is responsive, professional, and accommodating to non-German speakers.\n",
      "- Some customers had positive interactions with the wait staff, while others felt rushed or rudely discouraged from their menu choices.\n",
      "- Specific menu items mentioned positively include the wurst salad, gnocchi, and pizzas.\n",
      "- The restaurant is moderately priced and offers efficient and friendly service.\n",
      "- It is conveniently located opposite the central main station.\n",
      "- Overall, customers had a great dining experience and would consider returning to the restaurant.\n",
      "\n",
      "Restaurant name:  Hindukush\n",
      "Summary: - Impressively authentic flavor and taste of Afghan food\n",
      "- Amazing and generous portions of food\n",
      "- Friendly and helpful staff\n",
      "- Highly recommended\n",
      "- Tasty Afghan food with generous portions\n",
      "- Nice ambience and fine service\n",
      "- Worth trying for first timers\n",
      "- Qabull Palau rice dish with lamb, raisins, and carrots is incredibly tasty\n",
      "- Tender lamb that melts in the mouth\n",
      "- Polite and attentive service, easy to find a table\n",
      "- Highly recommended, especially the Qabull Palau\n",
      "- Pleasantly surprised by the harmony of flavors and skillful preparation\n",
      "- Excellent and plentiful food at a fair cost\n",
      "- Waiter Alberto is knowledgeable and recommends special dishes\n",
      "- Skewer with bread is enjoyable\n",
      "- Well seasoned and balanced Afghan specialties with salad greens\n",
      "- Great price value and authentic environment.\n",
      "\n"
     ]
    }
   ],
   "source": [
    "print(\"PROMPT 2: \")\n",
    "for restaurant in restaurants:\n",
    "    #Get place details \n",
    "    restaurant_id = restaurant.get('place_id')\n",
    "    place_details = get_place_details(google_api_key, restaurant_id)\n",
    "\n",
    "    #Get reviews for the place\n",
    "    reviews = place_details.get('reviews', [])\n",
    "    review_text = \"\\n\".join(review.get('text', '') for review in reviews)\n",
    "    prompt2 = f\"Look through these reviews and provide a summary in form of bulletpoints about the most common opinions:\\n{review_text}\"\n",
    "    \n",
    "    #Print Restaurant name\n",
    "    print(\"Restaurant name: \", restaurant.get('name'))\n",
    "\n",
    "    #Generate the summary\n",
    "    summary = generate_summary_prompt(client, prompt2)\n",
    "    print(f\"Summary: {summary}\\n\")\n"
   ]
  },
  {
   "cell_type": "code",
   "execution_count": 19,
   "metadata": {},
   "outputs": [
    {
     "name": "stdout",
     "output_type": "stream",
     "text": [
      "PROMPT 3: \n",
      "Restaurant name:  La Vecchia Masseria\n",
      "Summary: Summary:\n",
      "\n",
      "- Food: The food is described as soulful, amazing, and good quality. Pasta dishes like Bolognese and Gorgonzola are particularly praised.\n",
      "- Ambience: The ambience is nice, with a great atmosphere and Christmas decorations. Outside seating on a quiet street is also enjoyed.\n",
      "- Service: The service is efficient and responsive, but not overly warm or attentive.\n",
      "- Price: Prices are fair and typical for a similar restaurant, with recent increases noted.\n",
      "- Consistency: One reviewer mentions that the restaurant has maintained the same quality and workers for several years.\n",
      "- Creativeness: No specific comments about the creativity of the food.\n",
      "- Size: No specific comments about the portion sizes.\n",
      "\n",
      "Most popular meal/option: All pizzas are €8.99 on Sundays.\n",
      "\n",
      "Restaurant name:  Münchner Stubn\n",
      "Summary: Summary:\n",
      "- The food at this German restaurant is decent in flavor with generous portions and great presentation. They offer a variety of local specialties and have a good selection of beers.\n",
      "- The ambience is busy but fun, especially during Oktoberfest with live music. It is cozy and moderately priced, making it a nice place to chill.\n",
      "- The service is responsive, professional, efficient, and friendly, with staff who speak English. The menu is available in both German and English.\n",
      "- There seems to be consistency in both the quality of the food and the service.\n",
      "- One popular option mentioned is the pizzas, which looked amazing but the reviewer did not have the appetite for it.\n",
      "\n",
      "Restaurant name:  Hindukush\n",
      "Summary: Summary: These reviews highlight that the food at the Afghan restaurant is delicious, authentic, and well-portioned. The ambience is described as amazing and authentic, creating an enjoyable atmosphere. The service is friendly and attentive, and the prices are considered fair for the quality of food. There is mention of the food being creative, with interesting flavor combinations. While there is no specific mention of consistency, the positive reviews overall suggest that the restaurant maintains a high standard. The popular meal option mentioned is the Qabull Palau, a rice dish with lamb, raisins, and carrots, which is described as incredibly tasty and highly recommended.\n",
      "\n"
     ]
    }
   ],
   "source": [
    "print(\"PROMPT 3: \")\n",
    "for restaurant in restaurants:\n",
    "    #Get place details \n",
    "    restaurant_id = restaurant.get('place_id')\n",
    "    place_details = get_place_details(google_api_key, restaurant_id)\n",
    "\n",
    "    #Get reviews for the place\n",
    "    reviews = place_details.get('reviews', [])\n",
    "    review_text = \"\\n\".join(review.get('text', '') for review in reviews)\n",
    "    prompt = f\"Look through these reviews and provide a 3 sentence summary, highlighting the following topics: food, ambience, service, price, consistency, creativeness, size. Please also provide one meal/option that seems the most popular, if there is one. These are the reviews:  \\n{review_text}\"\n",
    "    \n",
    "    #Print Restaurant name\n",
    "    print(\"Restaurant name: \", restaurant.get('name'))\n",
    "\n",
    "    #Generate the summary\n",
    "    summary = generate_summary_prompt(client, prompt)\n",
    "    print(f\"Summary: {summary}\\n\")"
   ]
  },
  {
   "cell_type": "markdown",
   "metadata": {},
   "source": [
    "## Notes on experimentation"
   ]
  },
  {
   "cell_type": "markdown",
   "metadata": {},
   "source": [
    "- text or bullet points?\n",
    "- how long should a summary be, e.g. 3-4 sentences, 6-10 bullet points?\n",
    "- repetitive sentences\n",
    "- highlighting of specific criteria, e.g. food, ambience, price, service\n",
    "- popular meal option?\n",
    "- how to deal with translated reviews? Use translation or omit?"
   ]
  },
  {
   "cell_type": "markdown",
   "metadata": {},
   "source": [
    "## Detailed Look into Reviews from Places API"
   ]
  },
  {
   "cell_type": "code",
   "execution_count": 28,
   "metadata": {},
   "outputs": [
    {
     "name": "stdout",
     "output_type": "stream",
     "text": [
      "{'address_components': [{'long_name': '4', 'short_name': '4', 'types': ['street_number']}, {'long_name': 'Josephspitalstraße', 'short_name': 'Josephspitalstraße', 'types': ['route']}, {'long_name': 'Altstadt-Lehel', 'short_name': 'Altstadt-Lehel', 'types': ['sublocality_level_1', 'sublocality', 'political']}, {'long_name': 'München', 'short_name': 'München', 'types': ['locality', 'political']}, {'long_name': 'Kreisfreie Stadt München', 'short_name': 'Kreisfreie Stadt München', 'types': ['administrative_area_level_3', 'political']}, {'long_name': 'Oberbayern', 'short_name': 'Oberbayern', 'types': ['administrative_area_level_2', 'political']}, {'long_name': 'Bayern', 'short_name': 'BY', 'types': ['administrative_area_level_1', 'political']}, {'long_name': 'Germany', 'short_name': 'DE', 'types': ['country', 'political']}, {'long_name': '80331', 'short_name': '80331', 'types': ['postal_code']}], 'adr_address': '<span class=\"street-address\">Josephspitalstraße 4</span>, <span class=\"postal-code\">80331</span> <span class=\"locality\">München</span>, <span class=\"country-name\">Germany</span>', 'business_status': 'OPERATIONAL', 'current_opening_hours': {'open_now': True, 'periods': [{'close': {'date': '2023-12-18', 'day': 1, 'time': '2300'}, 'open': {'date': '2023-12-18', 'day': 1, 'time': '1130'}}, {'close': {'date': '2023-12-12', 'day': 2, 'time': '2300'}, 'open': {'date': '2023-12-12', 'day': 2, 'time': '1130'}}, {'close': {'date': '2023-12-13', 'day': 3, 'time': '2300'}, 'open': {'date': '2023-12-13', 'day': 3, 'time': '1130'}}, {'close': {'date': '2023-12-14', 'day': 4, 'time': '2300'}, 'open': {'date': '2023-12-14', 'day': 4, 'time': '1130'}}, {'close': {'date': '2023-12-15', 'day': 5, 'time': '2300'}, 'open': {'date': '2023-12-15', 'day': 5, 'time': '1130'}}, {'close': {'date': '2023-12-16', 'day': 6, 'time': '2300'}, 'open': {'date': '2023-12-16', 'day': 6, 'time': '1200'}}], 'weekday_text': ['Monday: 11:30\\u202fAM\\u2009–\\u200911:00\\u202fPM', 'Tuesday: 11:30\\u202fAM\\u2009–\\u200911:00\\u202fPM', 'Wednesday: 11:30\\u202fAM\\u2009–\\u200911:00\\u202fPM', 'Thursday: 11:30\\u202fAM\\u2009–\\u200911:00\\u202fPM', 'Friday: 11:30\\u202fAM\\u2009–\\u200911:00\\u202fPM', 'Saturday: 12:00\\u2009–\\u200911:00\\u202fPM', 'Sunday: Closed']}, 'dine_in': True, 'editorial_summary': {'language': 'en', 'overview': 'Unfussy eatery fixing up a variety of beef, chicken & vegetarian mini burgers, plus desserts & beer.'}, 'formatted_address': 'Josephspitalstraße 4, 80331 München, Germany', 'formatted_phone_number': '089 99018865', 'geometry': {'location': {'lat': 48.13647479999999, 'lng': 11.5681027}, 'viewport': {'northeast': {'lat': 48.13776718029149, 'lng': 11.5694277802915}, 'southwest': {'lat': 48.1350692197085, 'lng': 11.5667298197085}}}, 'icon': 'https://maps.gstatic.com/mapfiles/place_api/icons/v1/png_71/restaurant-71.png', 'icon_background_color': '#FF9E67', 'icon_mask_base_uri': 'https://maps.gstatic.com/mapfiles/place_api/icons/v2/restaurant_pinlet', 'international_phone_number': '+49 89 99018865', 'name': 'Der kleine Flo', 'opening_hours': {'open_now': True, 'periods': [{'close': {'day': 1, 'time': '2300'}, 'open': {'day': 1, 'time': '1130'}}, {'close': {'day': 2, 'time': '2300'}, 'open': {'day': 2, 'time': '1130'}}, {'close': {'day': 3, 'time': '2300'}, 'open': {'day': 3, 'time': '1130'}}, {'close': {'day': 4, 'time': '2300'}, 'open': {'day': 4, 'time': '1130'}}, {'close': {'day': 5, 'time': '2300'}, 'open': {'day': 5, 'time': '1130'}}, {'close': {'day': 6, 'time': '2300'}, 'open': {'day': 6, 'time': '1200'}}], 'weekday_text': ['Monday: 11:30\\u202fAM\\u2009–\\u200911:00\\u202fPM', 'Tuesday: 11:30\\u202fAM\\u2009–\\u200911:00\\u202fPM', 'Wednesday: 11:30\\u202fAM\\u2009–\\u200911:00\\u202fPM', 'Thursday: 11:30\\u202fAM\\u2009–\\u200911:00\\u202fPM', 'Friday: 11:30\\u202fAM\\u2009–\\u200911:00\\u202fPM', 'Saturday: 12:00\\u2009–\\u200911:00\\u202fPM', 'Sunday: Closed']}, 'photos': [{'height': 3024, 'html_attributions': ['<a href=\"https://maps.google.com/maps/contrib/110683862554426289852\">Daniel</a>'], 'photo_reference': 'AWU5eFgs51ymboArPjuH7sWDRCcJnTbdZK6Ryz_tD-AtTgihB1vhxz8Srjaeme-Tnh_CGTa23kIwML-b7AhcMAeIETy1Kn_fnu_AgMpRyTuBlIM__Wfvboh0z9lUXBjpPqSBcIElZ3PIXIbXtqMm6QxMY23CPYlcQTLZZgwYutkALgj9ojs2', 'width': 4032}, {'height': 2252, 'html_attributions': ['<a href=\"https://maps.google.com/maps/contrib/109178330691275551294\">G Croom</a>'], 'photo_reference': 'AWU5eFjOwvYKN5jVpBQimsXINASP8eStJLuVcQc-ZcgSHPFVpZUXJuAXuAQgHHyLRwIQ-FEDbioEYd5Rp80Y44c_PL_wbAyElnHrRmR99XWpbHBONhIZ2f7BFw2Gv6m8wsYLOuNlqp-FtT5jWj8x8oUn6LvA57bf8Xm5D6breWYMR6C_my9D', 'width': 4000}, {'height': 1143, 'html_attributions': ['<a href=\"https://maps.google.com/maps/contrib/103113507718835966097\">Der kleine Flo</a>'], 'photo_reference': 'AWU5eFgbTSDMzObGCnLeiukZiHz3XQkCnaRgbmJ8mmOSikII4pqQ1W8BrgglBTVlh-VTC5RERs55oTFmO1FlbpmWnRdZrNGkvyHdhEcNHg5QbjaYJur9CDXlED2TEhklAF-CZVJ6W2FaJh7CqDFqd1Ll-V8d8Gfq4Teia8aFgy8aLVxyY3tY', 'width': 1711}, {'height': 2252, 'html_attributions': ['<a href=\"https://maps.google.com/maps/contrib/109130371386301591637\">Thomas Oberhofer</a>'], 'photo_reference': 'AWU5eFj9XhajlgPM3Zp8HWs9RVcwOtraEc58bOyeXLQNwMcLkDQoBMBwf1RPDN4XKOU8wE2aBufn5s6XsVyJYjktoJ3-xeL9uwzalMs3vXNCcpCyRgSzz29WistNqL_nFiiaslr4-ttUw-qxIR-x88HirpyuZ6hSmbOxeE7raQFqoiXcCjG2', 'width': 4000}, {'height': 2267, 'html_attributions': ['<a href=\"https://maps.google.com/maps/contrib/108305057067291517831\">Alex Petzenhammer</a>'], 'photo_reference': 'AWU5eFiay_vbkaJJqmICZ7KRYtXovgYVbQxn49IIXizFLqLylzQOCE3rVTatdPgBkjZC0ZwSnoEFPLDP2EAKRglKPa-7Lai1EFXGbZBaKpUCzdfZuW1j5Xqta-G_mnR2nA0hI-VC0iviS_sRtDzgssuwYB4K-_IAByQOk_RbjztWwk3Xh5HT', 'width': 4031}, {'height': 9000, 'html_attributions': ['<a href=\"https://maps.google.com/maps/contrib/108656882143573316041\">Andrin Bürgler</a>'], 'photo_reference': 'AWU5eFiIkRaQRZb1NefkDzXGD9Xn_IcFTcYyaY7xKrdQJBTNB1V5WPAkT2hbIWVIK2GnMZtF37R-VhuwqUJQNuJPKlL2MKouQ7EnrrEpJVaSxXWTeQxvSCVU5OqhLSoVybN9wNTShp3JDd07DeArKMEECHpIU7Sr_aur9IEtpWGjssBAqqvG', 'width': 12000}, {'height': 3024, 'html_attributions': ['<a href=\"https://maps.google.com/maps/contrib/111013592228158973583\">Robert Ischwang</a>'], 'photo_reference': 'AWU5eFj3ZZwCWYzLSgLWTLgiGTeOyvcg5KuaJsVEdH5n2zuRHymge1N-8GePhyOG-Nr7uUlc-soriskSWcQuFOtBGB4bumyczm0M0P76eHM8-mxzjRPpIk6_WwI6zlull4KAX205qY1WZcCa7ZYSXZ_W_cOk98GGWoVvLUYg99dhBn6sPJ8r', 'width': 4032}, {'height': 3024, 'html_attributions': ['<a href=\"https://maps.google.com/maps/contrib/111013592228158973583\">Robert Ischwang</a>'], 'photo_reference': 'AWU5eFjwj1xTwZW29fMD0gme7dKSYzKyDUU9d_5M7G1Pf2Ve9Wmg1V4-X51WREPd5dhBzKiZiSoe3wkytCC6tnV6ozMPvEt1-MQVIHvYyxvI5pDJc3T58uafPnTXeX6o49BQdrCFWHDPeHsn1ehQARoxdJzELCskEy9Rgrh0AgucmGgTo059', 'width': 4032}, {'height': 4032, 'html_attributions': ['<a href=\"https://maps.google.com/maps/contrib/108603885309842026907\">Calla Mea</a>'], 'photo_reference': 'AWU5eFjPkuNz01Ia7-yYCqUeI8vefR-BuUmV_AVZkMQYZAMe5CoMP8bXAuBtpdH7WPiaIu5PYF6oIeu8clUj0PkNqZ7Cz1C0sk-s31seVT_CxmZMkYB0gNZ1GAQROC84E4IEMGfs_3iqh0UIKCg6R6RtkyI3PV9iHtKoqSZBMGBA8LrGUa9v', 'width': 3024}, {'height': 4624, 'html_attributions': ['<a href=\"https://maps.google.com/maps/contrib/104865314596208512798\">Goyi Viola</a>'], 'photo_reference': 'AWU5eFhKOTM2R4cEFfDYwSUebbyp0974pyygM5Wv1BzAG4SURqnsvscQp2Xz0o0ijbOhbTegxVsmfU_1q6St9ISjDo22GgugXXwAcl7BzVmK32-4ssAOLU9Ng2esV5GaPvhjNKdREfSDe3J_wqhlugO90elB77J7WG0YBg0V_9qq3Io23SrI', 'width': 3472}], 'place_id': 'ChIJe-rD4fV1nkcRNk5AlWoeV5k', 'plus_code': {'compound_code': '4HP9+H6 Munich, Germany', 'global_code': '8FWH4HP9+H6'}, 'price_level': 2, 'rating': 4.5, 'reference': 'ChIJe-rD4fV1nkcRNk5AlWoeV5k', 'reservable': True, 'reviews': [{'author_name': 'Rashmita Baruah', 'author_url': 'https://www.google.com/maps/contrib/113123533601990585744/reviews', 'language': 'en', 'original_language': 'en', 'profile_photo_url': 'https://lh3.googleusercontent.com/a-/ALV-UjU6m5fcYfQ_-dD5FB0sdKKHk2pOnL7yvW_K539JAU4FnUo9=s128-c0x00000000-cc-rp-mo', 'rating': 3, 'relative_time_description': '2 months ago', 'text': 'I liked their concept of mini burgers, as you get to try different varieties of mini sizes. However, the taste of the burgers are not that amazing. Some of the burgers are too saucy which ruined the overall taste. Service was good. The only downside is that they the tables can be reserved only for 1.5 hours which according to me is too short, especially when you’re catching up with friends after a long time.', 'time': 1696690147, 'translated': False}, {'author_name': 'Alberto Serrano Monferrer', 'author_url': 'https://www.google.com/maps/contrib/103995167760940536809/reviews', 'language': 'en', 'original_language': 'en', 'profile_photo_url': 'https://lh3.googleusercontent.com/a-/ALV-UjVtl25sWbA7tHGlW3NlL89CkV42i9YQ_3UgkGG-wWaG5Gc=s128-c0x00000000-cc-rp-mo-ba4', 'rating': 5, 'relative_time_description': '4 months ago', 'text': \"This is an interesting and informal restaurant, specialized in all types of hamburguers of small size. It's a nice option for having lunch if you are visiting the city center of München.\\nFurthermore, there are options of menus which include two or three hamburguers, a little drink and a complement like green salad or chips. We had 2 hamburguers menu and also a 3 hamburguers one, which was enough for lunch.\\nMara, who was our waiter, was extremely warm and explained everything to choose our food.\\nBy the way, it is important to make a reservation before!\\nA wonderful restaurant in the historical center of the city.\", 'time': 1690287341, 'translated': False}, {'author_name': 'Kenzie Hartono', 'author_url': 'https://www.google.com/maps/contrib/114071215871617690532/reviews', 'language': 'en', 'original_language': 'en', 'profile_photo_url': 'https://lh3.googleusercontent.com/a-/ALV-UjWOHW7HzCinRnpDYE6F3A8rmOdwhonZDv-oBHBITZgFELM=s128-c0x00000000-cc-rp-mo-ba3', 'rating': 3, 'relative_time_description': '2 months ago', 'text': \"A cute, exciting concept of mini burgers, even the cutleries are small too! The place was also cozy for a hangout. The staffs were very friendly and helpful, they guided us through the ordering system and made sure everything was okay.\\n\\nI took the 2-burger lunch menu for 9,90 euros, with knoblauchliebe and chimichurri burgers and flo's fries with vegan truffle mayo as the side. The flavour combinations were wonderful and confident, I particularly love the garlic sauce. Unfortunately, I reckon due to the size, the patty was a little bit dry and overcooked. The bun was also quite dry. Furthermore, I did order burgers with oily sauces, but it was a little too oily that they drenched the buns in oil. The potato fries were perfectly crispy and well seasoned, however the truffle mayo lacked in character.\\n\\nI would say it was a good experience overall, but not particularly impressive.\", 'time': 1696980801, 'translated': False}, {'author_name': 'Eana & Evgeny Kravchuk', 'author_url': 'https://www.google.com/maps/contrib/104685578801030110857/reviews', 'language': 'en', 'original_language': 'en', 'profile_photo_url': 'https://lh3.googleusercontent.com/a/ACg8ocI0OYjsqpS_JOlhPtHUBwK4axRxi0CdqJCC3-Ay5toJ=s128-c0x00000000-cc-rp-mo-ba4', 'rating': 4, 'relative_time_description': '4 months ago', 'text': \"An interesting selection of 20+ hamburgers which come in mini size. The ordinary hamburger is not the best you tasted but try some special ones and you'll enjoy for sure.\\nAlso, try one of the fruit lemonades!\\nThere is a checklist you are asked to fill out- how many mini burgers, which ones and sides. This is a German form but once you know what goes, all the rest is simple. Paying needs to be done at the cashiers', not with the waiter/ress.\", 'time': 1690233973, 'translated': False}, {'author_name': 'hagay isaak', 'author_url': 'https://www.google.com/maps/contrib/108112538300851120961/reviews', 'language': 'en', 'original_language': 'en', 'profile_photo_url': 'https://lh3.googleusercontent.com/a-/ALV-UjX9bXGXAVYgWPCjzo6IAChy5GwdcpmTXdgo3G_JYr3D_5k7=s128-c0x00000000-cc-rp-mo-ba5', 'rating': 2, 'relative_time_description': '5 months ago', 'text': 'I truly do not understand all the hype and reviews, yes the concept is nice but have seen it before many times and done a lot better, second i had the chimichuri burger and the aioli burger, both had such a thick layer of the respected sauces which blocked my taste buds for hours and you cant really taste anything else, cooking is a balance of tastes and texture and when something is so overbearing it is not enjoyable.', 'time': 1689233775, 'translated': False}], 'secondary_opening_hours': [{'open_now': False, 'periods': [{'close': {'date': '2023-12-18', 'day': 1, 'time': '2215'}, 'open': {'date': '2023-12-18', 'day': 1, 'time': '2115'}}, {'close': {'date': '2023-12-12', 'day': 2, 'time': '2215'}, 'open': {'date': '2023-12-12', 'day': 2, 'time': '2115'}}, {'close': {'date': '2023-12-13', 'day': 3, 'time': '2215'}, 'open': {'date': '2023-12-13', 'day': 3, 'time': '2115'}}, {'close': {'date': '2023-12-14', 'day': 4, 'time': '2215'}, 'open': {'date': '2023-12-14', 'day': 4, 'time': '2115'}}, {'close': {'date': '2023-12-15', 'day': 5, 'time': '2215'}, 'open': {'date': '2023-12-15', 'day': 5, 'time': '2115'}}, {'close': {'date': '2023-12-16', 'day': 6, 'time': '2215'}, 'open': {'date': '2023-12-16', 'day': 6, 'time': '2115'}}], 'type': 'HAPPY_HOUR', 'weekday_text': ['Monday: 9:15\\u2009–\\u200910:15\\u202fPM', 'Tuesday: 9:15\\u2009–\\u200910:15\\u202fPM', 'Wednesday: 9:15\\u2009–\\u200910:15\\u202fPM', 'Thursday: 9:15\\u2009–\\u200910:15\\u202fPM', 'Friday: 9:15\\u2009–\\u200910:15\\u202fPM', 'Saturday: 9:15\\u2009–\\u200910:15\\u202fPM', 'Sunday: Closed']}, {'open_now': True, 'periods': [{'close': {'date': '2023-12-18', 'day': 1, 'time': '2130'}, 'open': {'date': '2023-12-18', 'day': 1, 'time': '1130'}}, {'close': {'date': '2023-12-12', 'day': 2, 'time': '2130'}, 'open': {'date': '2023-12-12', 'day': 2, 'time': '1130'}}, {'close': {'date': '2023-12-13', 'day': 3, 'time': '2130'}, 'open': {'date': '2023-12-13', 'day': 3, 'time': '1130'}}, {'close': {'date': '2023-12-14', 'day': 4, 'time': '2130'}, 'open': {'date': '2023-12-14', 'day': 4, 'time': '1130'}}, {'close': {'date': '2023-12-15', 'day': 5, 'time': '2130'}, 'open': {'date': '2023-12-15', 'day': 5, 'time': '1130'}}, {'close': {'date': '2023-12-16', 'day': 6, 'time': '2130'}, 'open': {'date': '2023-12-16', 'day': 6, 'time': '1200'}}], 'type': 'KITCHEN', 'weekday_text': ['Monday: 11:30\\u202fAM\\u2009–\\u20099:30\\u202fPM', 'Tuesday: 11:30\\u202fAM\\u2009–\\u20099:30\\u202fPM', 'Wednesday: 11:30\\u202fAM\\u2009–\\u20099:30\\u202fPM', 'Thursday: 11:30\\u202fAM\\u2009–\\u20099:30\\u202fPM', 'Friday: 11:30\\u202fAM\\u2009–\\u20099:30\\u202fPM', 'Saturday: 12:00\\u2009–\\u20099:30\\u202fPM', 'Sunday: Closed']}, {'open_now': False, 'periods': [{'close': {'date': '2023-12-18', 'day': 1, 'time': '1400'}, 'open': {'date': '2023-12-18', 'day': 1, 'time': '1130'}}, {'close': {'date': '2023-12-12', 'day': 2, 'time': '1400'}, 'open': {'date': '2023-12-12', 'day': 2, 'time': '1130'}}, {'close': {'date': '2023-12-13', 'day': 3, 'time': '1400'}, 'open': {'date': '2023-12-13', 'day': 3, 'time': '1130'}}, {'close': {'date': '2023-12-14', 'day': 4, 'time': '1400'}, 'open': {'date': '2023-12-14', 'day': 4, 'time': '1130'}}, {'close': {'date': '2023-12-15', 'day': 5, 'time': '1400'}, 'open': {'date': '2023-12-15', 'day': 5, 'time': '1130'}}], 'type': 'LUNCH', 'weekday_text': ['Monday: 11:30\\u202fAM\\u2009–\\u20092:00\\u202fPM', 'Tuesday: 11:30\\u202fAM\\u2009–\\u20092:00\\u202fPM', 'Wednesday: 11:30\\u202fAM\\u2009–\\u20092:00\\u202fPM', 'Thursday: 11:30\\u202fAM\\u2009–\\u20092:00\\u202fPM', 'Friday: 11:30\\u202fAM\\u2009–\\u20092:00\\u202fPM', 'Saturday: Closed', 'Sunday: Closed']}], 'serves_beer': True, 'serves_breakfast': False, 'serves_brunch': False, 'serves_dinner': True, 'serves_lunch': True, 'serves_wine': True, 'takeout': True, 'types': ['restaurant', 'food', 'point_of_interest', 'establishment'], 'url': 'https://maps.google.com/?cid=11049333653896187446', 'user_ratings_total': 1923, 'utc_offset': 60, 'vicinity': 'Josephspitalstraße 4, München', 'website': 'http://www.derkleineflo.de/', 'wheelchair_accessible_entrance': True}\n",
      "address_components\n",
      "adr_address\n",
      "business_status\n",
      "current_opening_hours\n",
      "dine_in\n",
      "editorial_summary\n",
      "formatted_address\n",
      "formatted_phone_number\n",
      "geometry\n",
      "icon\n",
      "icon_background_color\n",
      "icon_mask_base_uri\n",
      "international_phone_number\n",
      "name\n",
      "opening_hours\n",
      "photos\n",
      "place_id\n",
      "plus_code\n",
      "price_level\n",
      "rating\n",
      "reference\n",
      "reservable\n",
      "reviews\n",
      "secondary_opening_hours\n",
      "serves_beer\n",
      "serves_breakfast\n",
      "serves_brunch\n",
      "serves_dinner\n",
      "serves_lunch\n",
      "serves_wine\n",
      "takeout\n",
      "types\n",
      "url\n",
      "user_ratings_total\n",
      "utc_offset\n",
      "vicinity\n",
      "website\n",
      "wheelchair_accessible_entrance\n"
     ]
    }
   ],
   "source": [
    "#Use Place ID of known place:\n",
    "place_id = 'ChIJe-rD4fV1nkcRNk5AlWoeV5k'\n",
    "\n",
    "\n",
    "place_details = get_place_details(google_api_key, place_id)\n",
    "\n",
    "print(place_details)\n",
    "for key in place_details.keys():\n",
    "    print(key)\n",
    "# print(place_details.keys())"
   ]
  },
  {
   "cell_type": "code",
   "execution_count": 29,
   "metadata": {},
   "outputs": [
    {
     "data": {
      "text/plain": [
       "[{'author_name': 'Rashmita Baruah',\n",
       "  'author_url': 'https://www.google.com/maps/contrib/113123533601990585744/reviews',\n",
       "  'language': 'en',\n",
       "  'original_language': 'en',\n",
       "  'profile_photo_url': 'https://lh3.googleusercontent.com/a-/ALV-UjU6m5fcYfQ_-dD5FB0sdKKHk2pOnL7yvW_K539JAU4FnUo9=s128-c0x00000000-cc-rp-mo',\n",
       "  'rating': 3,\n",
       "  'relative_time_description': '2 months ago',\n",
       "  'text': 'I liked their concept of mini burgers, as you get to try different varieties of mini sizes. However, the taste of the burgers are not that amazing. Some of the burgers are too saucy which ruined the overall taste. Service was good. The only downside is that they the tables can be reserved only for 1.5 hours which according to me is too short, especially when you’re catching up with friends after a long time.',\n",
       "  'time': 1696690147,\n",
       "  'translated': False},\n",
       " {'author_name': 'Alberto Serrano Monferrer',\n",
       "  'author_url': 'https://www.google.com/maps/contrib/103995167760940536809/reviews',\n",
       "  'language': 'en',\n",
       "  'original_language': 'en',\n",
       "  'profile_photo_url': 'https://lh3.googleusercontent.com/a-/ALV-UjVtl25sWbA7tHGlW3NlL89CkV42i9YQ_3UgkGG-wWaG5Gc=s128-c0x00000000-cc-rp-mo-ba4',\n",
       "  'rating': 5,\n",
       "  'relative_time_description': '4 months ago',\n",
       "  'text': \"This is an interesting and informal restaurant, specialized in all types of hamburguers of small size. It's a nice option for having lunch if you are visiting the city center of München.\\nFurthermore, there are options of menus which include two or three hamburguers, a little drink and a complement like green salad or chips. We had 2 hamburguers menu and also a 3 hamburguers one, which was enough for lunch.\\nMara, who was our waiter, was extremely warm and explained everything to choose our food.\\nBy the way, it is important to make a reservation before!\\nA wonderful restaurant in the historical center of the city.\",\n",
       "  'time': 1690287341,\n",
       "  'translated': False},\n",
       " {'author_name': 'Kenzie Hartono',\n",
       "  'author_url': 'https://www.google.com/maps/contrib/114071215871617690532/reviews',\n",
       "  'language': 'en',\n",
       "  'original_language': 'en',\n",
       "  'profile_photo_url': 'https://lh3.googleusercontent.com/a-/ALV-UjWOHW7HzCinRnpDYE6F3A8rmOdwhonZDv-oBHBITZgFELM=s128-c0x00000000-cc-rp-mo-ba3',\n",
       "  'rating': 3,\n",
       "  'relative_time_description': '2 months ago',\n",
       "  'text': \"A cute, exciting concept of mini burgers, even the cutleries are small too! The place was also cozy for a hangout. The staffs were very friendly and helpful, they guided us through the ordering system and made sure everything was okay.\\n\\nI took the 2-burger lunch menu for 9,90 euros, with knoblauchliebe and chimichurri burgers and flo's fries with vegan truffle mayo as the side. The flavour combinations were wonderful and confident, I particularly love the garlic sauce. Unfortunately, I reckon due to the size, the patty was a little bit dry and overcooked. The bun was also quite dry. Furthermore, I did order burgers with oily sauces, but it was a little too oily that they drenched the buns in oil. The potato fries were perfectly crispy and well seasoned, however the truffle mayo lacked in character.\\n\\nI would say it was a good experience overall, but not particularly impressive.\",\n",
       "  'time': 1696980801,\n",
       "  'translated': False},\n",
       " {'author_name': 'Eana & Evgeny Kravchuk',\n",
       "  'author_url': 'https://www.google.com/maps/contrib/104685578801030110857/reviews',\n",
       "  'language': 'en',\n",
       "  'original_language': 'en',\n",
       "  'profile_photo_url': 'https://lh3.googleusercontent.com/a/ACg8ocI0OYjsqpS_JOlhPtHUBwK4axRxi0CdqJCC3-Ay5toJ=s128-c0x00000000-cc-rp-mo-ba4',\n",
       "  'rating': 4,\n",
       "  'relative_time_description': '4 months ago',\n",
       "  'text': \"An interesting selection of 20+ hamburgers which come in mini size. The ordinary hamburger is not the best you tasted but try some special ones and you'll enjoy for sure.\\nAlso, try one of the fruit lemonades!\\nThere is a checklist you are asked to fill out- how many mini burgers, which ones and sides. This is a German form but once you know what goes, all the rest is simple. Paying needs to be done at the cashiers', not with the waiter/ress.\",\n",
       "  'time': 1690233973,\n",
       "  'translated': False},\n",
       " {'author_name': 'hagay isaak',\n",
       "  'author_url': 'https://www.google.com/maps/contrib/108112538300851120961/reviews',\n",
       "  'language': 'en',\n",
       "  'original_language': 'en',\n",
       "  'profile_photo_url': 'https://lh3.googleusercontent.com/a-/ALV-UjX9bXGXAVYgWPCjzo6IAChy5GwdcpmTXdgo3G_JYr3D_5k7=s128-c0x00000000-cc-rp-mo-ba5',\n",
       "  'rating': 2,\n",
       "  'relative_time_description': '5 months ago',\n",
       "  'text': 'I truly do not understand all the hype and reviews, yes the concept is nice but have seen it before many times and done a lot better, second i had the chimichuri burger and the aioli burger, both had such a thick layer of the respected sauces which blocked my taste buds for hours and you cant really taste anything else, cooking is a balance of tastes and texture and when something is so overbearing it is not enjoyable.',\n",
       "  'time': 1689233775,\n",
       "  'translated': False}]"
      ]
     },
     "execution_count": 29,
     "metadata": {},
     "output_type": "execute_result"
    }
   ],
   "source": [
    "place_details['reviews']"
   ]
  },
  {
   "cell_type": "code",
   "execution_count": 30,
   "metadata": {},
   "outputs": [
    {
     "name": "stdout",
     "output_type": "stream",
     "text": [
      "I liked their concept of mini burgers, as you get to try different varieties of mini sizes. However, the taste of the burgers are not that amazing. Some of the burgers are too saucy which ruined the overall taste. Service was good. The only downside is that they the tables can be reserved only for 1.5 hours which according to me is too short, especially when you’re catching up with friends after a long time.\n",
      "This is an interesting and informal restaurant, specialized in all types of hamburguers of small size. It's a nice option for having lunch if you are visiting the city center of München.\n",
      "Furthermore, there are options of menus which include two or three hamburguers, a little drink and a complement like green salad or chips. We had 2 hamburguers menu and also a 3 hamburguers one, which was enough for lunch.\n",
      "Mara, who was our waiter, was extremely warm and explained everything to choose our food.\n",
      "By the way, it is important to make a reservation before!\n",
      "A wonderful restaurant in the historical center of the city.\n",
      "A cute, exciting concept of mini burgers, even the cutleries are small too! The place was also cozy for a hangout. The staffs were very friendly and helpful, they guided us through the ordering system and made sure everything was okay.\n",
      "\n",
      "I took the 2-burger lunch menu for 9,90 euros, with knoblauchliebe and chimichurri burgers and flo's fries with vegan truffle mayo as the side. The flavour combinations were wonderful and confident, I particularly love the garlic sauce. Unfortunately, I reckon due to the size, the patty was a little bit dry and overcooked. The bun was also quite dry. Furthermore, I did order burgers with oily sauces, but it was a little too oily that they drenched the buns in oil. The potato fries were perfectly crispy and well seasoned, however the truffle mayo lacked in character.\n",
      "\n",
      "I would say it was a good experience overall, but not particularly impressive.\n",
      "An interesting selection of 20+ hamburgers which come in mini size. The ordinary hamburger is not the best you tasted but try some special ones and you'll enjoy for sure.\n",
      "Also, try one of the fruit lemonades!\n",
      "There is a checklist you are asked to fill out- how many mini burgers, which ones and sides. This is a German form but once you know what goes, all the rest is simple. Paying needs to be done at the cashiers', not with the waiter/ress.\n",
      "I truly do not understand all the hype and reviews, yes the concept is nice but have seen it before many times and done a lot better, second i had the chimichuri burger and the aioli burger, both had such a thick layer of the respected sauces which blocked my taste buds for hours and you cant really taste anything else, cooking is a balance of tastes and texture and when something is so overbearing it is not enjoyable.\n",
      "Summary: The food at this restaurant receives mixed reviews. While the concept of mini burgers is liked by many, the taste of the burgers is not considered amazing and some of them are too saucy, which affects the overall flavor. The service is generally good, with friendly and helpful staff. The ambience is described as cozy and the restaurant is located in the historical center of the city. Price-wise, there are menu options that offer good value for money. However, some reviewers feel that the overall experience is not particularly impressive, with dry and overcooked patties, dry buns, and overpowering sauces.\n",
      "\n"
     ]
    }
   ],
   "source": [
    "reviews = place_details.get('reviews', [])\n",
    "review_text = \"\\n\".join(review.get('text', '') for review in reviews)\n",
    "prompt = f\"Look through these reviews and provide a summary in 3 to 4 sentences. Cover the following criteria: Food, service, ambience, creativity, price.\\n{review_text}\"\n",
    "print(review_text)\n",
    "\n",
    "#Generate the summary\n",
    "summary = generate_summary_prompt(client, prompt)\n",
    "print(f\"Summary: {summary}\\n\")"
   ]
  },
  {
   "cell_type": "markdown",
   "metadata": {},
   "source": [
    "## Useful Information Keys in place details:\n",
    "\n",
    "### Standard information\n",
    "- formatted_address: Address ready to display as information\n",
    "- business status: is place operational or not\n",
    "- current_opening_hours\n",
    "- delivery/takeout and/or dine_in\n",
    "- reservable: Can you reserve tables?\n",
    "- rating\n",
    "\n",
    "### Additional information:\n",
    "- serves_breakfast\n",
    "- serves_brunch\n",
    "- serves_lunch\n",
    "- serves_vegetarian_food\n",
    "- serves_beer\n",
    "- serves_wine\n",
    "- wheelchair_accessible_entrance"
   ]
  }
 ],
 "metadata": {
  "kernelspec": {
   "display_name": ".venv",
   "language": "python",
   "name": "python3"
  },
  "language_info": {
   "codemirror_mode": {
    "name": "ipython",
    "version": 3
   },
   "file_extension": ".py",
   "mimetype": "text/x-python",
   "name": "python",
   "nbconvert_exporter": "python",
   "pygments_lexer": "ipython3",
   "version": "3.11.3"
  }
 },
 "nbformat": 4,
 "nbformat_minor": 2
}
