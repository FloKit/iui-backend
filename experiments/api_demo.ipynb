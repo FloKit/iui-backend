{
  "cells": [
    {
      "cell_type": "markdown",
      "metadata": {},
      "source": [
        "## Demo notebook to check out the Google Places API and the results"
      ]
    },
    {
      "cell_type": "code",
      "execution_count": 1,
      "metadata": {},
      "outputs": [],
      "source": [
        "import requests\n",
        "from openai import OpenAI\n",
        "import os\n",
        "import nltk\n",
        "import sqlite3"
      ]
    },
    {
      "cell_type": "markdown",
      "metadata": {},
      "source": [
        "# Connect to database"
      ]
    },
    {
      "cell_type": "code",
      "execution_count": 2,
      "metadata": {},
      "outputs": [
        {
          "data": {
            "text/plain": [
              "<sqlite3.Cursor at 0x11182cd40>"
            ]
          },
          "execution_count": 2,
          "metadata": {},
          "output_type": "execute_result"
        }
      ],
      "source": [
        "conn = sqlite3.connect('reviews.db')\n",
        "cursor = conn.cursor()\n",
        "\n",
        "cursor.execute('''CREATE TABLE IF NOT EXISTS review_summaries (\n",
        "    id TEXT PRIMARY KEY,\n",
        "    review_summary TEXT,\n",
        "    date DATETIME DEFAULT CURRENT_TIMESTAMP\n",
        ")''')"
      ]
    },
    {
      "cell_type": "code",
      "execution_count": 3,
      "metadata": {},
      "outputs": [
        {
          "data": {
            "text/plain": [
              "<sqlite3.Cursor at 0x11182cd40>"
            ]
          },
          "execution_count": 3,
          "metadata": {},
          "output_type": "execute_result"
        }
      ],
      "source": [
        "cursor.execute('''CREATE TABLE IF NOT EXISTS review_summaries (\n",
        "    id TEXT PRIMARY KEY,\n",
        "    review_summary TEXT,\n",
        "    date DATETIME DEFAULT CURRENT_TIMESTAMP\n",
        ")''')"
      ]
    },
    {
      "cell_type": "code",
      "execution_count": 4,
      "metadata": {},
      "outputs": [],
      "source": [
        "conn.commit()"
      ]
    },
    {
      "cell_type": "code",
      "execution_count": 5,
      "metadata": {},
      "outputs": [
        {
          "name": "stderr",
          "output_type": "stream",
          "text": [
            "[nltk_data] Downloading package punkt to /Users/flok/nltk_data...\n",
            "[nltk_data]   Package punkt is already up-to-date!\n"
          ]
        }
      ],
      "source": [
        "nltk.download('punkt')\n",
        "\n",
        "def insert_newlines(text):\n",
        "    sentences = nltk.sent_tokenize(text)\n",
        "    text_with_newlines = '\\n'.join(sentences)\n",
        "    return text_with_newlines"
      ]
    },
    {
      "cell_type": "markdown",
      "metadata": {},
      "source": [
        "### Set api keys from env"
      ]
    },
    {
      "cell_type": "code",
      "execution_count": 6,
      "metadata": {},
      "outputs": [
        {
          "name": "stdout",
          "output_type": "stream",
          "text": [
            "Google key found!\n",
            "OpenAI key found!\n"
          ]
        }
      ],
      "source": [
        "#get api keys from env file\n",
        "google_api_key = os.environ.get(\"GOOGLE_API_KEY\")\n",
        "openai_api_key = os.environ.get(\"OPENAI_API_KEY\")\n",
        "if google_api_key is not None:\n",
        "    print(\"Google key found!\")\n",
        "if openai_api_key is not None:\n",
        "    print(\"OpenAI key found!\")"
      ]
    },
    {
      "cell_type": "markdown",
      "metadata": {},
      "source": [
        "### Define functions"
      ]
    },
    {
      "cell_type": "code",
      "execution_count": 11,
      "metadata": {},
      "outputs": [],
      "source": [
        "#get nearby restaurants\n",
        "def get_nearby_restaurants(api_key, location, radius=200, keyword='restaurant', num_results=5):\n",
        "    '''\n",
        "    Returns the restaurants from the API call based on location, radius\n",
        "    '''\n",
        "    # base_url = 'https://maps.googleapis.com/maps/api/place/nearbysearch/json'\n",
        "    base_url = 'https://maps.googleapis.com/maps/api/place/textsearch/json'\n",
        "    \n",
        "    params = {\n",
        "        'location': location,\n",
        "        'radius': radius,\n",
        "        'keyword': keyword,\n",
        "        'query': 'german food',\n",
        "        'key': api_key,\n",
        "    }\n",
        "    \n",
        "    response = requests.get(base_url, params=params)\n",
        "    results = response.json().get('results', [])\n",
        "\n",
        "    # Limit the number of results to the top 'num_results'\n",
        "    results = results[:num_results]\n",
        "    \n",
        "    return results\n",
        "\n",
        "\n",
        "def get_place_details(api_key, place_id):\n",
        "    '''\n",
        "    Returns details on a place defined by the place_id, e.g. reviews\n",
        "    '''\n",
        "    base_url = 'https://maps.googleapis.com/maps/api/place/details/json'\n",
        "\n",
        "    params = {\n",
        "        'place_id': place_id,\n",
        "        'key': api_key\n",
        "    }\n",
        "\n",
        "    response = requests.get(base_url, params=params)\n",
        "    result = response.json().get('result', {})\n",
        "    \n",
        "    photo_ref = result[\"photos\"][0][\"photo_reference\"]\n",
        "    \n",
        "    response = requests.get(\n",
        "        \"https://maps.googleapis.com/maps/api/place/photo\", \n",
        "        params={\"photo_reference\": photo_ref, \"key\": api_key, \"maxwidth\": 400}\n",
        "    )\n",
        "    photo_url = response.url\n",
        "    \n",
        "    address = result[\"formatted_address\"]\n",
        "    \n",
        "    lat = result[\"geometry\"][\"location\"][\"lat\"]\n",
        "    lng = result[\"geometry\"][\"location\"][\"lng\"]\n",
        "    nav_address = address.replace(\" \", \"%20\")\n",
        "    \n",
        "    return {\n",
        "        \"name\": result[\"name\"],\n",
        "        \"address\": address,\n",
        "        \"photo_url\": photo_url,\n",
        "        \"rating\": result[\"rating\"],\n",
        "        \"reviews\": result[\"reviews\"],\n",
        "        \"navigation_url\": f\"https://www.google.de/maps/dir/{lat},{lng}/{nav_address}\"\n",
        "    }\n",
        "\n",
        "\n",
        "def generate_summary(client, reviews):\n",
        "    #Concatenate all reviews\n",
        "    review_text = \"\\n\".join(review.get('text', '') for review in reviews)\n",
        "\n",
        "    #Define the prompt for GPT\n",
        "    prompt = f\"Summarize the reviews for this place in one sentence:\\n{review_text}\"\n",
        "\n",
        "    response = client.chat.completions.create(\n",
        "        model=\"gpt-3.5-turbo\",\n",
        "        messages=[\n",
        "            {\"role\": \"user\", \"content\": prompt},\n",
        "        ]\n",
        "    )\n",
        "    \n",
        "\n",
        "    #Extract the generated summary from GPT's response\n",
        "    summary = response.choices[0].message.content\n",
        "\n",
        "    return summary\n",
        "\n",
        "def fetch_review(place_id):\n",
        "    cursor.execute('SELECT * FROM review_summaries WHERE id = ?', (place_id,))\n",
        "    return cursor.fetchall()\n",
        "\n",
        "def get_summary(place_id):\n",
        "    review_array = fetch_review(place_id)\n",
        "\n",
        "    if len(review_array) > 0:\n",
        "        print(\"Found in database!\")\n",
        "        review = review_array[0]\n",
        "        summary = review[1]\n",
        "    else:\n",
        "        reviews = get_place_details(google_api_key, place_id).get('reviews', [])\n",
        "        summary = generate_summary(OpenAI(), reviews)\n",
        "        cursor.execute('INSERT INTO review_summaries (id, review_summary) VALUES (?, ?)', (place_id, summary))\n",
        "        conn.commit()\n",
        "\n",
        "    return summary\n",
        "\n",
        "def get_all_summaries(restaurants):\n",
        "    summaries = []\n",
        "    for restaurant in restaurants:\n",
        "        summaries.append(get_summary(restaurant['place_id']))\n",
        "\n",
        "    return summaries"
      ]
    },
    {
      "cell_type": "markdown",
      "metadata": {},
      "source": [
        "### Search for places using Google Places API"
      ]
    },
    {
      "cell_type": "code",
      "execution_count": 12,
      "metadata": {},
      "outputs": [
        {
          "name": "stdout",
          "output_type": "stream",
          "text": [
            "Restaurant name:  Nuernberger Bratwurst Gloeckl am Dom\n",
            "Rating:   4.3\n",
            "{'business_status': 'OPERATIONAL', 'formatted_address': 'Frauenplatz 9, 80331 München, Germany', 'geometry': {'location': {'lat': 48.1381846, 'lng': 11.5741547}, 'viewport': {'northeast': {'lat': 48.13996802989272, 'lng': 11.57524972989272}, 'southwest': {'lat': 48.13726837010727, 'lng': 11.57255007010728}}}, 'icon': 'https://maps.gstatic.com/mapfiles/place_api/icons/v1/png_71/restaurant-71.png', 'icon_background_color': '#FF9E67', 'icon_mask_base_uri': 'https://maps.gstatic.com/mapfiles/place_api/icons/v2/restaurant_pinlet', 'name': 'Nuernberger Bratwurst Gloeckl am Dom', 'opening_hours': {'open_now': True}, 'photos': [{'height': 1366, 'html_attributions': ['<a href=\"https://maps.google.com/maps/contrib/102303653129799008016\">Morawek &amp; Mencner Gastronomie GmbH</a>'], 'photo_reference': 'AWU5eFh43yfJ4qhbhYnQxq_yfJpkGy2phA8demc_wALhuVI85zHVazixoLxAa6iTje-H6ryc0QGh3Km2PH5z6Ugdct_VWZabcB1iW83GT8QRWRJGKdIndszK-qyjgHcVml8nXdlMVKwOz8NdHyYOG7P_oO46hVsARH4-jO85bgJQevvEsJIg', 'width': 2048}], 'place_id': 'ChIJtWd9xPR1nkcRIoDG-yQEcHc', 'plus_code': {'compound_code': '4HQF+7M Munich', 'global_code': '8FWH4HQF+7M'}, 'rating': 4.3, 'reference': 'ChIJtWd9xPR1nkcRIoDG-yQEcHc', 'types': ['lodging', 'bar', 'restaurant', 'food', 'point_of_interest', 'establishment'], 'user_ratings_total': 3885}\n",
            "Restaurant name:  Augustiner am Platzl\n",
            "Rating:   4.3\n",
            "{'business_status': 'OPERATIONAL', 'formatted_address': 'Orlandostraße 5, 80331 München, Germany', 'geometry': {'location': {'lat': 48.1375632, 'lng': 11.57947}, 'viewport': {'northeast': {'lat': 48.13891702989273, 'lng': 11.58088152989272}, 'southwest': {'lat': 48.13621737010729, 'lng': 11.57818187010728}}}, 'icon': 'https://maps.gstatic.com/mapfiles/place_api/icons/v1/png_71/restaurant-71.png', 'icon_background_color': '#FF9E67', 'icon_mask_base_uri': 'https://maps.gstatic.com/mapfiles/place_api/icons/v2/restaurant_pinlet', 'name': 'Augustiner am Platzl', 'opening_hours': {'open_now': True}, 'photos': [{'height': 1080, 'html_attributions': ['<a href=\"https://maps.google.com/maps/contrib/104331045395558800279\">A Google User</a>'], 'photo_reference': 'AWU5eFh4OAa5RJS51NCgrJSUSTDcMx87AQZ5ieap2AC_pkusJDKh1Dt-hVv9ebhGWwvubLuVLqDUXvG_2fnx08TA2RY0uuuIrTcf_9gtA7gP9SV5iSuzCW7YnPHJWS3EBtb7NOBfKCpQuthBbbTKML0n0mRWPR-W7VF7uqVhgoW7FE0niaWw', 'width': 2017}], 'place_id': 'ChIJ_TjDuot1nkcRVuLxp3RKrS0', 'plus_code': {'compound_code': '4HQH+2Q Munich', 'global_code': '8FWH4HQH+2Q'}, 'price_level': 2, 'rating': 4.3, 'reference': 'ChIJ_TjDuot1nkcRVuLxp3RKrS0', 'types': ['bar', 'restaurant', 'food', 'point_of_interest', 'establishment'], 'user_ratings_total': 4790}\n",
            "Restaurant name:  Andy's Krablergarten\n",
            "Rating:   4.6\n",
            "{'business_status': 'OPERATIONAL', 'formatted_address': 'Thalkirchner Str. 2, 80337 München, Germany', 'geometry': {'location': {'lat': 48.1324246, 'lng': 11.5666569}, 'viewport': {'northeast': {'lat': 48.13375862989272, 'lng': 11.56814177989272}, 'southwest': {'lat': 48.13105897010728, 'lng': 11.56544212010728}}}, 'icon': 'https://maps.gstatic.com/mapfiles/place_api/icons/v1/png_71/restaurant-71.png', 'icon_background_color': '#FF9E67', 'icon_mask_base_uri': 'https://maps.gstatic.com/mapfiles/place_api/icons/v2/restaurant_pinlet', 'name': \"Andy's Krablergarten\", 'opening_hours': {'open_now': True}, 'photos': [{'height': 3024, 'html_attributions': ['<a href=\"https://maps.google.com/maps/contrib/103125835000475324868\">Steven Kua</a>'], 'photo_reference': 'AWU5eFil_pmT1Ln99rtHYa_lr_VukdUa-vXOgJyCApokfxsKV6MMKjWQy_pNEpiHp-iC9jEPTcZv0AIk5-aI1A2Ak_b9gnaz_tONvXi_1sTukm9UqQeu8PTf7nlExI7VmS1saUQfKh3pVDzEshrfCj2sdlAFgJEs0SKOKkuVFS_TtneMCtFe', 'width': 4032}], 'place_id': 'ChIJa-CY0l7fnUcRgHpZGJCwEzU', 'plus_code': {'compound_code': '4HJ8+XM Munich', 'global_code': '8FWH4HJ8+XM'}, 'price_level': 1, 'rating': 4.6, 'reference': 'ChIJa-CY0l7fnUcRgHpZGJCwEzU', 'types': ['restaurant', 'food', 'point_of_interest', 'establishment'], 'user_ratings_total': 5452}\n",
            "Restaurant name:  Spatenhaus at the opera\n",
            "Rating:   4.3\n",
            "{'business_status': 'OPERATIONAL', 'formatted_address': 'Residenzstraße 12, 80333 München, Germany', 'geometry': {'location': {'lat': 48.1398456, 'lng': 11.577291}, 'viewport': {'northeast': {'lat': 48.14107107989272, 'lng': 11.57881757989272}, 'southwest': {'lat': 48.13837142010728, 'lng': 11.57611792010728}}}, 'icon': 'https://maps.gstatic.com/mapfiles/place_api/icons/v1/png_71/restaurant-71.png', 'icon_background_color': '#FF9E67', 'icon_mask_base_uri': 'https://maps.gstatic.com/mapfiles/place_api/icons/v2/restaurant_pinlet', 'name': 'Spatenhaus at the opera', 'opening_hours': {'open_now': True}, 'photos': [{'height': 3024, 'html_attributions': ['<a href=\"https://maps.google.com/maps/contrib/105240159999137514037\">A Google User</a>'], 'photo_reference': 'AWU5eFivM6nD-0kBcEQ7LqrsRWEeExGh0O9qf7xf4coimmI5VctDbaN1MawPxIpPd0S9snXcVd-JyCMz_x_qdzMCVS5X3ajWvFYQsrvH0lRsBGUYYwpas6J_fZNPcRCJ3g3QmZbYVpkDKALVieF64QqL-5bawbsfRNx0aUYBoX59_6hXUOJS', 'width': 4032}], 'place_id': 'ChIJjRBYoIx1nkcRskPWyC0TqOk', 'plus_code': {'compound_code': '4HQG+WW Munich', 'global_code': '8FWH4HQG+WW'}, 'price_level': 2, 'rating': 4.3, 'reference': 'ChIJjRBYoIx1nkcRskPWyC0TqOk', 'types': ['restaurant', 'food', 'point_of_interest', 'establishment'], 'user_ratings_total': 4696}\n",
            "Restaurant name:  Steinheil 16\n",
            "Rating:   4.6\n",
            "{'business_status': 'OPERATIONAL', 'formatted_address': 'Steinheilstraße 16, 80333 München, Germany', 'geometry': {'location': {'lat': 48.14987139999999, 'lng': 11.5641928}, 'viewport': {'northeast': {'lat': 48.15120482989272, 'lng': 11.56552857989272}, 'southwest': {'lat': 48.14850517010728, 'lng': 11.56282892010728}}}, 'icon': 'https://maps.gstatic.com/mapfiles/place_api/icons/v1/png_71/restaurant-71.png', 'icon_background_color': '#FF9E67', 'icon_mask_base_uri': 'https://maps.gstatic.com/mapfiles/place_api/icons/v2/restaurant_pinlet', 'name': 'Steinheil 16', 'opening_hours': {'open_now': True}, 'photos': [{'height': 2304, 'html_attributions': ['<a href=\"https://maps.google.com/maps/contrib/108252575447658416474\">Rodrigo Irigoin</a>'], 'photo_reference': 'AWU5eFgi3QsKovL7YZkbdZSnA5n-BrWHKcagC6lpA5mYYUpVpkY8ggRmoD0XmD4bbtXGNLOR5sPbmwW0KjqMyDk10CrPMcw7kXpXPUOs_57RoINbnnBol1WWmDIThzL_e7eRulgymZQtPTItD3OrtKe2BpY_oyHWLuQn1JumQnVu18p48xQg', 'width': 4608}], 'place_id': 'ChIJRf_Iy-V1nkcRYkahFTv_cv8', 'plus_code': {'compound_code': '4HX7+XM Munich', 'global_code': '8FWH4HX7+XM'}, 'price_level': 1, 'rating': 4.6, 'reference': 'ChIJRf_Iy-V1nkcRYkahFTv_cv8', 'types': ['restaurant', 'food', 'point_of_interest', 'establishment'], 'user_ratings_total': 4756}\n"
          ]
        }
      ],
      "source": [
        "# LMU coordiantes\n",
        "# lmu_coordinates = '48.148794,11.579980'\n",
        "lmu_coordinates = '48.13743, 11.57549'\n",
        "\n",
        "# Set radius and keyword\n",
        "restaurants = get_nearby_restaurants(google_api_key, lmu_coordinates, radius=500, keyword='food', num_results=5)\n",
        "\n",
        "# Print the names of the found restaurants\n",
        "for restaurant in restaurants:\n",
        "    #Print Restaurant name and average rating\n",
        "    print(\"Restaurant name: \", restaurant.get('name'))\n",
        "    print(\"Rating:  \", restaurant.get('rating'))\n",
        "    \n",
        "    print(restaurant)"
      ]
    },
    {
      "cell_type": "code",
      "execution_count": 13,
      "metadata": {},
      "outputs": [
        {
          "data": {
            "text/plain": [
              "{'name': 'Nuernberger Bratwurst Gloeckl am Dom',\n",
              " 'address': 'Frauenplatz 9, 80331 München, Germany',\n",
              " 'photo_url': 'https://lh3.googleusercontent.com/places/ANXAkqGsUCBOqio5gBDK2itiu0pMLI6m0t1ckx05GrMVkpmaEL3-Ct43B85bgyNhFKKclzjt_InOglDOSDjS9zk3YAXcGkfhOCagbHc=s1600-w400',\n",
              " 'rating': 4.3,\n",
              " 'reviews': [{'author_name': 'Michelle Hillock',\n",
              "   'author_url': 'https://www.google.com/maps/contrib/106013331437514346797/reviews',\n",
              "   'language': 'en',\n",
              "   'original_language': 'en',\n",
              "   'profile_photo_url': 'https://lh3.googleusercontent.com/a/ACg8ocJTgs4uXxehDbUCANp-FG0m6DwBfB2ZqHet3JPVWeNW=s128-c0x00000000-cc-rp-mo-ba6',\n",
              "   'rating': 5,\n",
              "   'relative_time_description': '2 months ago',\n",
              "   'text': \"We came here around 8pm on Monday and were seated right away at a 4 pp patio table. The server speaks English, the menu had 3 different languages. Very tourist friendly location. There was live music for a while. Smoking allowed outside + patio seating. Heated tents! Love the atmosphere since you can see the city while we dine.\\n\\nMenu was good. I like the pork hock or pork belly. The grilled meat platter was worth it. That one is minimum 2 servings per table. We ordered 2 servings and couldn't finish it ):\",\n",
              "   'time': 1695669693,\n",
              "   'translated': False},\n",
              "  {'author_name': 'James Lee',\n",
              "   'author_url': 'https://www.google.com/maps/contrib/106967530836478957579/reviews',\n",
              "   'language': 'en',\n",
              "   'original_language': 'en',\n",
              "   'profile_photo_url': 'https://lh3.googleusercontent.com/a/ACg8ocK-k6ZYzolOujaM4MbzOGa3ExgJMaL684O5nyFmYxeo=s128-c0x00000000-cc-rp-mo',\n",
              "   'rating': 5,\n",
              "   'relative_time_description': '2 weeks ago',\n",
              "   'text': 'This place was gorgeous despite the crowd. Felt like totally in the German local mood. The waiter was extremely good at his service - unfortunately I didn’t get his name. The food was amazing, especially the sausages and the duck!',\n",
              "   'time': 1701496544,\n",
              "   'translated': False},\n",
              "  {'author_name': 'Zeke Lyles',\n",
              "   'author_url': 'https://www.google.com/maps/contrib/116532295988460646298/reviews',\n",
              "   'language': 'en',\n",
              "   'original_language': 'en',\n",
              "   'profile_photo_url': 'https://lh3.googleusercontent.com/a-/ALV-UjU_T2tKIOAiBvTosIvI1_tMASVDb7IazohWw9fdVekg=s128-c0x00000000-cc-rp-mo-ba5',\n",
              "   'rating': 5,\n",
              "   'relative_time_description': 'in the last week',\n",
              "   'text': 'Guided by google map, we found this Bavarian dinner near the Marienplatz. We ordered the traditional wiener schnitzel, red cabbage, meatloaf, and of course some Augustiner beers 🍻 Lots of outdoor seating if you enjoy people.  We chose to sit inside since it was a bit rainy and cold.  The meatloaf looked like thick slices of Bologna with better flavor.  The red cabbage is rich and tangy.  The schnitzel was cripsy outside and juicy inside. Our waiter was very friendly and talkative.  We shared a table with another couple from a different region of Germany and had a good conversation & laughter over several beers.  I say check it out.',\n",
              "   'time': 1702246280,\n",
              "   'translated': False},\n",
              "  {'author_name': 'M Vb',\n",
              "   'author_url': 'https://www.google.com/maps/contrib/106816566921070919833/reviews',\n",
              "   'language': 'en',\n",
              "   'original_language': 'en',\n",
              "   'profile_photo_url': 'https://lh3.googleusercontent.com/a/ACg8ocIbPseRO2tK8bnhHEj7TAfApYQTzSQHgazY9K7HxtJ5obU=s128-c0x00000000-cc-rp-mo',\n",
              "   'rating': 5,\n",
              "   'relative_time_description': '3 weeks ago',\n",
              "   'text': 'Most amazing food we’ve eaten on our trip. Got the pork belly and my boyfriend got the granny’s meatballs. Taste was incredible and place feels really authentic. Not expensive either. So happy and definitely recommend!',\n",
              "   'time': 1700516171,\n",
              "   'translated': False},\n",
              "  {'author_name': 'Atabey Heydarli',\n",
              "   'author_url': 'https://www.google.com/maps/contrib/102909315159186371045/reviews',\n",
              "   'language': 'en',\n",
              "   'original_language': 'en',\n",
              "   'profile_photo_url': 'https://lh3.googleusercontent.com/a-/ALV-UjVBATNDGnOCUqt0GwbJ1wo90_ORxxB8OMZGK9ugfx1Wro10=s128-c0x00000000-cc-rp-mo-ba5',\n",
              "   'rating': 4,\n",
              "   'relative_time_description': '3 months ago',\n",
              "   'text': 'Sausages were really delicious & juicy, but potato salad was the best👍 The only problem is that, waiter took our order wrongly, and brought us extra plate of sausages and refuse to cancel. But anyway it was delicious\\nVery famous and busy place, but atmosphere was quite nice while sitting outside in a nice square with incredible church.\\nService was quite fast, however place was extremely crowded',\n",
              "   'time': 1694070211,\n",
              "   'translated': False}],\n",
              " 'navigation_url': 'https://www.google.de/maps/dir/48.1381846,11.5741547/Frauenplatz%209,%2080331%20München,%20Germany'}"
            ]
          },
          "execution_count": 13,
          "metadata": {},
          "output_type": "execute_result"
        }
      ],
      "source": [
        "get_place_details(google_api_key, restaurants[0]['place_id'])"
      ]
    },
    {
      "cell_type": "code",
      "execution_count": 14,
      "metadata": {},
      "outputs": [
        {
          "name": "stdout",
          "output_type": "stream",
          "text": [
            "Found in database!\n",
            "Found in database!\n",
            "Found in database!\n",
            "Found in database!\n",
            "Found in database!\n"
          ]
        },
        {
          "data": {
            "text/plain": [
              "['and noisy. The food was tasty and authentic, but the portion sizes were large and difficult to finish. The waitstaff was friendly and attentive, but there were some issues with order accuracy. Overall, a great option for traditional Bavarian food in a tourist-friendly location.',\n",
              " 'The place is busy but has a quick seating process, the food is decent but the sausage is not recommended, the roasted chicken is enjoyable, the washroom is underground, the service is great and the apple strudel is delicious, reservations are recommended, pork knuckle is crispy and service is excellent, some tourists felt treated poorly and had a negative experience with the waiter.',\n",
              " 'Customers rave about the schnitzel at this restaurant in Munich, praising its taste and large portion sizes, and would highly recommend it to others. The service is pleasant and the drinks selection is decent, but be prepared to wait in line and bring cash as it is cash only.',\n",
              " 'This place has an amazing atmosphere and exceptional food, with fast and friendly service, although some customers found the toilet situation and prices to be a downside. Despite that, the taste of the food was amazing and the location is recommended.',\n",
              " 'This place has amazing food and beer, a nice ambiance, friendly staff, large portions, and is great for a hearty meal with friends or family.']"
            ]
          },
          "execution_count": 14,
          "metadata": {},
          "output_type": "execute_result"
        }
      ],
      "source": [
        "get_all_summaries(restaurants)"
      ]
    },
    {
      "cell_type": "code",
      "execution_count": 49,
      "metadata": {},
      "outputs": [],
      "source": [
        "res_id = restaurants[0][\"place_id\"]\n",
        "\n",
        "date = fetch_review(res_id)[0][2]\n",
        "\n",
        "# check if date is older than 1 day from today\n",
        "\n",
        "# if yes, generate new review and update database\n",
        "\n",
        "# if no, use review from database\n"
      ]
    },
    {
      "cell_type": "code",
      "execution_count": 50,
      "metadata": {},
      "outputs": [
        {
          "name": "stdout",
          "output_type": "stream",
          "text": [
            "('5678', 'This is a review summary.', '2023-12-17 10:09:02')\n",
            "('ChIJhf73vOt1nkcRds9gRrskPyo', 'Overall, the reviews for this place are generally positive, with praise for the crispy roasted mushrooms, decent Thai curry and dal soup options, free tap water, and good prices, while some negative aspects mentioned include tasteless dal, unfriendly staff, lack of toilet, and reliance on indoor ordering. The food is described as pre-prepped with quick service, and the atmosphere is described as young and fresh. The glass noodle salad and Thai curry are highly recommended, and there is appreciation for the knowledge of gluten-free and vegan options.', '2023-12-17 10:21:34')\n",
            "('ChIJKUxiUul1nkcRewPz_a48sNQ', 'to this restaurant again.', '2023-12-17 10:32:33')\n",
            "('ChIJSwyPQkh3nkcRdeTaWTm24oY', 'Customers enjoyed the tasty and high-quality Asian food, strongly recommending the place, with one customer being pleasantly surprised by the freshness and taste of the delivery sushi, while another customer was disappointed with the quality and value of the fried noodles.', '2023-12-17 10:39:28')\n",
            "('ChIJYzbTsu13nkcR9xQZpMyF12w', 'The reviews for this place are mostly positive, with people praising the delicious food and friendly staff, particularly recommending the Döner and the homemade dough, although one reviewer mentioned that the view is not the best and another felt that the kebab lacked variety in vegetables, but someone else really enjoyed the pizza and would come back.', '2023-12-17 10:39:31')\n",
            "('ChIJQ14iSqV1nkcRxHHjN-E0MSM', 'This place in Moosach is a favorite among locals for its friendly service, good food, great value for money, beautiful beer garden, and charming decor, making it a must-visit when in the area.', '2023-12-17 10:45:25')\n",
            "('ChIJCSUfEhF3nkcRDbi9bHo9fLg', 'This place has received mixed reviews, with some customers praising the friendly staff and delicious food, while others criticize the slow service and high prices.', '2023-12-17 10:45:27')\n",
            "('ChIJ7V3wYhh3nkcR7JUYRvUMuFY', 'Pizza Murano is highly praised for their delicious and fast pizza, with friendly and welcoming staff, making it a go-to recommendation for excellent food in Munich, although one review criticizes it as being mediocre.', '2023-12-17 10:45:30')\n",
            "('ChIJfXFTWYp1nkcRE_JLWvGyhM4', \"Overall, reviewers found this McDonald's location in Munich, Germany to be a cool and unique experience, with a clean and friendly atmosphere. The beef burger was particularly praised, especially by those who do not have access to beef burgers at McDonald's in their home country. The fries were good but not as high quality as before, and the apple pie and buttermilk sauce were also noted as delicious. The chocolate milkshake was a bit too sweet for some, but overall the food was enjoyed and the price was considered worth it.\", '2023-12-17 11:15:00')\n",
            "('ChIJgfa3-wJ1nkcRy8OxkMKO8D0', \"Overall, the reviews for this place are mixed. Some people enjoyed the milkshakes and found the experience cool, while others were disappointed with the burgers, hygiene issues, and pricing. There were also complaints about the staff's attitude and communication skills. However, some reviewers did appreciate the fast service and abundance of fries.\", '2023-12-17 11:15:04')\n",
            "('ChIJt7ZieWLfnUcRbx5iCA-nWKo', 'The reviews for this place are generally positive, praising the good food and reasonable prices, particularly highlighting the bacon fries, burgers, and sausages as standout options, with some also recommending the Chilli Beef Burger and New York Hot Dog; however, there are also some negative reviews that mention greasy and salty food of lower quality, although the staff is friendly and the service is quick, making it a good choice for those who enjoy fries and are in the area.', '2023-12-17 11:15:09')\n",
            "('ChIJA-77eop1nkcR4UJQiX3Hkb8', 'Vietsoup in Munich is a highly recommended Vietnamese street food restaurant with delicious noodle soups, flavorful dishes, reasonable prices, friendly staff, and a lovely outdoor seating area.', '2023-12-17 11:15:11')\n",
            "('ChIJKwLrNL11nkcRDPiVIGMYfnM', 'Overall, the reviews for this place mention that it has cool and contemporary Asian food, with good sushi and a great location. However, there are some negative reviews that criticize the service, citing unfriendly and unprofessional behavior from the staff.', '2023-12-17 11:15:14')\n",
            "('ChIJtWd9xPR1nkcRIoDG-yQEcHc', 'and noisy, making it difficult to have a conversation, but the food was delicious and the waitstaff were friendly and efficient.', '2023-12-17 15:37:10')\n",
            "('ChIJ_TjDuot1nkcRVuLxp3RKrS0', 'The place had a lot of patrons, but getting a table during lunch hours was quick; the white color sausage was compared to a budget hotel breakfast but still enjoyed; the half roasted chicken was liked and compared to Costco; the washroom/toilet is underground; the service was good, the food was great, but reservations are recommended; the pork knuckle and beer were recommended and enjoyed, with the service being 5-star; and while the food and beer were standard, the service and treatment by the waiter Miro was poor and uncomfortable for tourists.', '2023-12-17 15:37:16')\n",
            "('ChIJa-CY0l7fnUcRgHpZGJCwEzU', 'This restaurant in Munich has rave-worthy schnitzel with large portions, a decent drinks selection, pleasant service, and a cozy ambiance, but be prepared for a cash-only policy and potentially long wait times due to popularity.', '2023-12-17 15:37:20')\n",
            "('ChIJjRBYoIx1nkcRskPWyC0TqOk', 'This place has an amazing atmosphere and exceptional food, with fast and friendly service, but there were some negative experiences with the toilet situation and the high prices. Despite this, the taste of the food was amazing and worth going back for. The restaurant offers a warm and lively atmosphere, with locals enjoying a great night out with friends, and the Bavarian platter and cheese platter were delicious. However, there were issues with slow and forgetful service, as well as a rude demand for a tip at the end of the meal. The Bavarian sausages are amazing and the drinks are nice, but there may be some interference from bees if sitting outside. Overall, a good place to try local food with delicious options like roasted suckling pig and roasted duck.', '2023-12-17 15:37:28')\n",
            "('ChIJRf_Iy-V1nkcRYkahFTv_cv8', 'Customers loved the food and beer at this place and found the staff to be friendly and accommodating, with generous portion sizes and delicious Schnitzel being highly recommended. The ambience was described as charming and the overall experience was enjoyable, making it a great place for a hearty meal with friends or family.', '2023-12-17 15:37:31')\n"
          ]
        }
      ],
      "source": [
        "for elem in cursor.execute('SELECT * FROM review_summaries'):\n",
        "    print(elem)"
      ]
    },
    {
      "cell_type": "code",
      "execution_count": null,
      "metadata": {},
      "outputs": [],
      "source": []
    }
  ],
  "metadata": {
    "kernelspec": {
      "display_name": ".venv",
      "language": "python",
      "name": "python3"
    },
    "language_info": {
      "codemirror_mode": {
        "name": "ipython",
        "version": 3
      },
      "file_extension": ".py",
      "mimetype": "text/x-python",
      "name": "python",
      "nbconvert_exporter": "python",
      "pygments_lexer": "ipython3",
      "version": "3.11.5"
    }
  },
  "nbformat": 4,
  "nbformat_minor": 2
}
