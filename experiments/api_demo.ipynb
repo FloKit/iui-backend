{
 "cells": [
  {
   "cell_type": "markdown",
   "metadata": {},
   "source": [
    "## Demo notebook to check out the Google Places API and the results"
   ]
  },
  {
   "cell_type": "code",
   "execution_count": null,
   "metadata": {},
   "outputs": [
    {
     "ename": "",
     "evalue": "",
     "output_type": "error",
     "traceback": [
      "\u001b[1;31mRunning cells with '.venv' requires the ipykernel package.\n",
      "\u001b[1;31mRun the following command to install 'ipykernel' into the Python environment. \n",
      "\u001b[1;31mCommand: 'd:/Master/IUIProject/iui-backend/.venv/Scripts/python.exe -m pip install ipykernel -U --force-reinstall'"
     ]
    }
   ],
   "source": [
    "import requests\n",
    "from openai import OpenAI\n",
    "import os"
   ]
  },
  {
   "cell_type": "markdown",
   "metadata": {},
   "source": [
    "### Define a function"
   ]
  },
  {
   "cell_type": "code",
   "execution_count": 16,
   "metadata": {},
   "outputs": [],
   "source": [
    "#get nearby restaurants\n",
    "def get_nearby_restaurants(api_key, location, radius=200, keyword='restaurant', num_results=5):\n",
    "    '''\n",
    "    Returns the restaurants from the API call based on location, radius\n",
    "    '''\n",
    "    base_url = 'https://maps.googleapis.com/maps/api/place/nearbysearch/json'\n",
    "    \n",
    "    params = {\n",
    "        'location': location,\n",
    "        'radius': radius,\n",
    "        'keyword': keyword,\n",
    "        'key': api_key\n",
    "    }\n",
    "    \n",
    "    response = requests.get(base_url, params=params)\n",
    "    results = response.json().get('results', [])\n",
    "\n",
    "    # Limit the number of results to the top 'num_results'\n",
    "    results = results[:num_results]\n",
    "    \n",
    "    return results\n",
    "\n",
    "\n",
    "def get_place_details(api_key, place_id):\n",
    "    '''\n",
    "    Returns details on a place defined by the place_id, e.g. reviews\n",
    "    '''\n",
    "    base_url = 'https://maps.googleapis.com/maps/api/place/details/json'\n",
    "\n",
    "    params = {\n",
    "        'place_id': place_id,\n",
    "        'key': api_key\n",
    "    }\n",
    "\n",
    "    response = requests.get(base_url, params=params)\n",
    "    result = response.json().get('result', {})\n",
    "\n",
    "    return result\n",
    "\n",
    "\n",
    "def generate_summary(reviews, api_key):\n",
    "    #Concatenate all reviews\n",
    "    review_text = \"\\n\".join(review.get('text', '') for review in reviews)\n",
    "\n",
    "    #Define the prompt for GPT\n",
    "    prompt = f\"Summarize the reviews for this place:\\n{review_text}\"\n",
    "\n",
    "    #Build client\n",
    "    client = OpenAI(\n",
    "        api_key=api_key\n",
    "    )\n",
    "\n",
    "    response = client.chat.completions.create(\n",
    "        model=\"gpt-3.5-turbo\",\n",
    "        messages=[\n",
    "            {\"role\": \"user\", \"content\": prompt},\n",
    "        ]\n",
    "    )\n",
    "\n",
    "    #Extract the generated summary from GPT's response\n",
    "    summary = response['choices'][0]['message']['content']\n",
    "\n",
    "    return summary\n",
    "    "
   ]
  },
  {
   "cell_type": "code",
   "execution_count": 21,
   "metadata": {},
   "outputs": [
    {
     "name": "stdout",
     "output_type": "stream",
     "text": [
      "environ({'ALLUSERSPROFILE': 'C:\\\\ProgramData', 'AMDRMPATH': 'C:\\\\Program Files\\\\AMD\\\\RyzenMaster\\\\', 'APPDATA': 'C:\\\\Users\\\\gulBa\\\\AppData\\\\Roaming', 'CHROME_CRASHPAD_PIPE_NAME': '\\\\\\\\.\\\\pipe\\\\crashpad_20484_TFQUIHXOHLAQUIFL', 'COMMONPROGRAMFILES': 'C:\\\\Program Files\\\\Common Files', 'COMMONPROGRAMFILES(X86)': 'C:\\\\Program Files (x86)\\\\Common Files', 'COMMONPROGRAMW6432': 'C:\\\\Program Files\\\\Common Files', 'COMPUTERNAME': 'DESKTOP-FSK3HSK', 'COMSPEC': 'C:\\\\Windows\\\\system32\\\\cmd.exe', 'CUDA_PATH': 'C:\\\\Program Files\\\\NVIDIA GPU Computing Toolkit\\\\CUDA\\\\v11.0', 'CUDA_PATH_V11_0': 'C:\\\\Program Files\\\\NVIDIA GPU Computing Toolkit\\\\CUDA\\\\v11.0', 'DRIVERDATA': 'C:\\\\Windows\\\\System32\\\\Drivers\\\\DriverData', 'ELECTRON_RUN_AS_NODE': '1', 'FPS_BROWSER_APP_PROFILE_STRING': 'Internet Explorer', 'FPS_BROWSER_USER_PROFILE_STRING': 'Default', 'HOMEDRIVE': 'C:', 'HOMEPATH': '\\\\Users\\\\gulBa', 'JAVA_HOME': 'C:\\\\Program Files\\\\Java\\\\jre1.8.0_281', 'JPY_INTERRUPT_EVENT': '1948', 'LOCALAPPDATA': 'C:\\\\Users\\\\gulBa\\\\AppData\\\\Local', 'LOGONSERVER': '\\\\\\\\DESKTOP-FSK3HSK', 'NUMBER_OF_PROCESSORS': '12', 'NVCUDASAMPLES11_0_ROOT': 'C:\\\\ProgramData\\\\NVIDIA Corporation\\\\CUDA Samples\\\\v11.0', 'NVCUDASAMPLES_ROOT': 'C:\\\\ProgramData\\\\NVIDIA Corporation\\\\CUDA Samples\\\\v11.0', 'NVTOOLSEXT_PATH': 'C:\\\\Program Files\\\\NVIDIA Corporation\\\\NvToolsExt\\\\', 'ONEDRIVE': 'C:\\\\Users\\\\gulBa\\\\OneDrive', 'ONEDRIVECONSUMER': 'C:\\\\Users\\\\gulBa\\\\OneDrive', 'ORIGINAL_XDG_CURRENT_DESKTOP': 'undefined', 'OS': 'Windows_NT', 'PATH': 'C:\\\\Program Files\\\\NVIDIA GPU Computing Toolkit\\\\CUDA\\\\v11.0\\\\bin;C:\\\\Program Files\\\\NVIDIA GPU Computing Toolkit\\\\CUDA\\\\v11.0\\\\libnvvp;C:\\\\Program Files\\\\Common Files\\\\Oracle\\\\Java\\\\javapath;C:\\\\Windows\\\\system32;C:\\\\Windows;C:\\\\Windows\\\\System32\\\\Wbem;C:\\\\Windows\\\\System32\\\\WindowsPowerShell\\\\v1.0\\\\;C:\\\\Windows\\\\System32\\\\OpenSSH\\\\;D:\\\\Programme\\\\MATLAB\\\\bin;D:\\\\Programme\\\\LyX\\\\Perl\\\\bin;C:\\\\Program Files (x86)\\\\NVIDIA Corporation\\\\PhysX\\\\Common;C:\\\\Program Files\\\\NVIDIA Corporation\\\\NVIDIA NvDLISR;C:\\\\Program Files\\\\NVIDIA Corporation\\\\Nsight Compute 2020.1.2\\\\;C:\\\\Program Files\\\\dotnet\\\\;C:\\\\Program Files\\\\Git\\\\cmd;C:\\\\Users\\\\gulBa\\\\AppData\\\\Roaming\\\\Python\\\\Scripts;C:\\\\Program Files\\\\nodejs\\\\;C:\\\\Users\\\\gulBa\\\\AppData\\\\Roaming\\\\ActiveState\\\\bin;C:\\\\Users\\\\gulBa\\\\AppData\\\\Local\\\\activestate\\\\bin;C:\\\\Users\\\\gulBa\\\\AppData\\\\Local\\\\Programs\\\\Python\\\\Python38\\\\Scripts\\\\;C:\\\\Users\\\\gulBa\\\\AppData\\\\Local\\\\Programs\\\\Python\\\\Python38\\\\;C:\\\\Users\\\\gulBa\\\\AppData\\\\Local\\\\Microsoft\\\\WindowsApps;D:\\\\Programme\\\\tex\\\\texlive\\\\2020\\\\bin\\\\win32;D:\\\\Programme\\\\Microsoft VS Code\\\\bin;C:\\\\Users\\\\gulBa\\\\.dotnet\\\\tools;C:\\\\Users\\\\gulBa\\\\AppData\\\\Roaming\\\\npm;C:\\\\Program Files\\\\Graphviz\\\\bin', 'PATHEXT': '.COM;.EXE;.BAT;.CMD;.VBS;.VBE;.JS;.JSE;.WSF;.WSH;.MSC', 'PROCESSOR_ARCHITECTURE': 'AMD64', 'PROCESSOR_IDENTIFIER': 'AMD64 Family 23 Model 113 Stepping 0, AuthenticAMD', 'PROCESSOR_LEVEL': '23', 'PROCESSOR_REVISION': '7100', 'PROGRAMDATA': 'C:\\\\ProgramData', 'PROGRAMFILES': 'C:\\\\Program Files', 'PROGRAMFILES(X86)': 'C:\\\\Program Files (x86)', 'PROGRAMW6432': 'C:\\\\Program Files', 'PSMODULEPATH': '%ProgramFiles%\\\\WindowsPowerShell\\\\Modules;C:\\\\Windows\\\\system32\\\\WindowsPowerShell\\\\v1.0\\\\Modules', 'PUBLIC': 'C:\\\\Users\\\\Public', 'PYDEVD_IPYTHON_COMPATIBLE_DEBUGGING': '1', 'PYTHONIOENCODING': 'utf-8', 'PYTHONUNBUFFERED': '1', 'SYSTEMDRIVE': 'C:', 'SYSTEMROOT': 'C:\\\\Windows', 'TEMP': 'C:\\\\Users\\\\gulBa\\\\AppData\\\\Local\\\\Temp', 'TMP': 'C:\\\\Users\\\\gulBa\\\\AppData\\\\Local\\\\Temp', 'USERDOMAIN': 'DESKTOP-FSK3HSK', 'USERDOMAIN_ROAMINGPROFILE': 'DESKTOP-FSK3HSK', 'USERNAME': 'gulBa', 'USERPROFILE': 'C:\\\\Users\\\\gulBa', 'VSCODE_AMD_ENTRYPOINT': 'vs/workbench/api/node/extensionHostProcess', 'VSCODE_CODE_CACHE_PATH': 'C:\\\\Users\\\\gulBa\\\\AppData\\\\Roaming\\\\Code\\\\CachedData\\\\1a5daa3a0231a0fbba4f14db7ec463cf99d7768e', 'VSCODE_CRASH_REPORTER_PROCESS_TYPE': 'extensionHost', 'VSCODE_CWD': 'C:\\\\Windows\\\\system32', 'VSCODE_HANDLES_UNCAUGHT_ERRORS': 'true', 'VSCODE_IPC_HOOK': '\\\\\\\\.\\\\pipe\\\\b470accbd3ff49ae98880fc70f010753-1.84.2-main-sock', 'VSCODE_NLS_CONFIG': '{\"locale\":\"en-us\",\"osLocale\":\"en-gb\",\"availableLanguages\":{},\"_languagePackSupport\":true}', 'VSCODE_PID': '20484', 'WINDIR': 'C:\\\\Windows', 'PYDEVD_USE_FRAME_EVAL': 'NO', 'TERM': 'xterm-color', 'CLICOLOR': '1', 'FORCE_COLOR': '1', 'CLICOLOR_FORCE': '1', 'PAGER': 'cat', 'GIT_PAGER': 'cat', 'MPLBACKEND': 'module://matplotlib_inline.backend_inline'})\n"
     ]
    }
   ],
   "source": [
    "#get api keys from env file\n",
    "google_api_key = os.environ.get(\"GOOGLE_API_KEY\")\n",
    "openai_api_key = os.environ.get(\"OPENAI_API_KEY\")\n",
    "print(os.environ)"
   ]
  },
  {
   "cell_type": "code",
   "execution_count": 6,
   "metadata": {},
   "outputs": [
    {
     "ename": "APIRemovedInV1",
     "evalue": "\n\nYou tried to access openai.Completion, but this is no longer supported in openai>=1.0.0 - see the README at https://github.com/openai/openai-python for the API.\n\nYou can run `openai migrate` to automatically upgrade your codebase to use the 1.0.0 interface. \n\nAlternatively, you can pin your installation to the old version, e.g. `pip install openai==0.28`\n\nA detailed migration guide is available here: https://github.com/openai/openai-python/discussions/742\n",
     "output_type": "error",
     "traceback": [
      "\u001b[1;31m---------------------------------------------------------------------------\u001b[0m",
      "\u001b[1;31mAPIRemovedInV1\u001b[0m                            Traceback (most recent call last)",
      "\u001b[1;32md:\\Master\\IUIProject\\iui-backend\\experiments\\api_demo.ipynb Cell 5\u001b[0m line \u001b[0;36m2\n\u001b[0;32m     <a href='vscode-notebook-cell:/d%3A/Master/IUIProject/iui-backend/experiments/api_demo.ipynb#W4sZmlsZQ%3D%3D?line=19'>20</a>\u001b[0m reviews \u001b[39m=\u001b[39m place_details\u001b[39m.\u001b[39mget(\u001b[39m'\u001b[39m\u001b[39mreviews\u001b[39m\u001b[39m'\u001b[39m, [])\n\u001b[0;32m     <a href='vscode-notebook-cell:/d%3A/Master/IUIProject/iui-backend/experiments/api_demo.ipynb#W4sZmlsZQ%3D%3D?line=22'>23</a>\u001b[0m \u001b[39m#Generate a summary\u001b[39;00m\n\u001b[1;32m---> <a href='vscode-notebook-cell:/d%3A/Master/IUIProject/iui-backend/experiments/api_demo.ipynb#W4sZmlsZQ%3D%3D?line=23'>24</a>\u001b[0m summary \u001b[39m=\u001b[39m generate_summary(reviews)\n\u001b[0;32m     <a href='vscode-notebook-cell:/d%3A/Master/IUIProject/iui-backend/experiments/api_demo.ipynb#W4sZmlsZQ%3D%3D?line=25'>26</a>\u001b[0m \u001b[39m#Print Restaurant name and average rating\u001b[39;00m\n\u001b[0;32m     <a href='vscode-notebook-cell:/d%3A/Master/IUIProject/iui-backend/experiments/api_demo.ipynb#W4sZmlsZQ%3D%3D?line=26'>27</a>\u001b[0m \u001b[39mprint\u001b[39m(\u001b[39m\"\u001b[39m\u001b[39mRestaurant name: \u001b[39m\u001b[39m\"\u001b[39m, restaurant\u001b[39m.\u001b[39mget(\u001b[39m'\u001b[39m\u001b[39mname\u001b[39m\u001b[39m'\u001b[39m))\n",
      "\u001b[1;32md:\\Master\\IUIProject\\iui-backend\\experiments\\api_demo.ipynb Cell 5\u001b[0m line \u001b[0;36m4\n\u001b[0;32m     <a href='vscode-notebook-cell:/d%3A/Master/IUIProject/iui-backend/experiments/api_demo.ipynb#W4sZmlsZQ%3D%3D?line=45'>46</a>\u001b[0m prompt \u001b[39m=\u001b[39m \u001b[39mf\u001b[39m\u001b[39m\"\u001b[39m\u001b[39mSummarize the reviews for this place:\u001b[39m\u001b[39m\\n\u001b[39;00m\u001b[39m{\u001b[39;00mreview_text\u001b[39m}\u001b[39;00m\u001b[39m\"\u001b[39m\n\u001b[0;32m     <a href='vscode-notebook-cell:/d%3A/Master/IUIProject/iui-backend/experiments/api_demo.ipynb#W4sZmlsZQ%3D%3D?line=47'>48</a>\u001b[0m \u001b[39m#Generate short summary\u001b[39;00m\n\u001b[1;32m---> <a href='vscode-notebook-cell:/d%3A/Master/IUIProject/iui-backend/experiments/api_demo.ipynb#W4sZmlsZQ%3D%3D?line=48'>49</a>\u001b[0m response \u001b[39m=\u001b[39m openai\u001b[39m.\u001b[39;49mCompletion\u001b[39m.\u001b[39;49mcreate(\n\u001b[0;32m     <a href='vscode-notebook-cell:/d%3A/Master/IUIProject/iui-backend/experiments/api_demo.ipynb#W4sZmlsZQ%3D%3D?line=49'>50</a>\u001b[0m     engine\u001b[39m=\u001b[39;49m\u001b[39m\"\u001b[39;49m\u001b[39mtext-davinci-002\u001b[39;49m\u001b[39m\"\u001b[39;49m,\n\u001b[0;32m     <a href='vscode-notebook-cell:/d%3A/Master/IUIProject/iui-backend/experiments/api_demo.ipynb#W4sZmlsZQ%3D%3D?line=50'>51</a>\u001b[0m     prompt\u001b[39m=\u001b[39;49mprompt,\n\u001b[0;32m     <a href='vscode-notebook-cell:/d%3A/Master/IUIProject/iui-backend/experiments/api_demo.ipynb#W4sZmlsZQ%3D%3D?line=51'>52</a>\u001b[0m     max_tokes\u001b[39m=\u001b[39;49m\u001b[39m100\u001b[39;49m\n\u001b[0;32m     <a href='vscode-notebook-cell:/d%3A/Master/IUIProject/iui-backend/experiments/api_demo.ipynb#W4sZmlsZQ%3D%3D?line=52'>53</a>\u001b[0m )\n\u001b[0;32m     <a href='vscode-notebook-cell:/d%3A/Master/IUIProject/iui-backend/experiments/api_demo.ipynb#W4sZmlsZQ%3D%3D?line=54'>55</a>\u001b[0m \u001b[39m#Extract the generated summary from GPT's response\u001b[39;00m\n\u001b[0;32m     <a href='vscode-notebook-cell:/d%3A/Master/IUIProject/iui-backend/experiments/api_demo.ipynb#W4sZmlsZQ%3D%3D?line=55'>56</a>\u001b[0m summary \u001b[39m=\u001b[39m response[\u001b[39m'\u001b[39m\u001b[39mchoices\u001b[39m\u001b[39m'\u001b[39m][\u001b[39m0\u001b[39m][\u001b[39m'\u001b[39m\u001b[39mtext\u001b[39m\u001b[39m'\u001b[39m]\u001b[39m.\u001b[39mstrip()\n",
      "File \u001b[1;32md:\\Master\\IUIProject\\iui-backend\\.venv\\Lib\\site-packages\\openai\\lib\\_old_api.py:39\u001b[0m, in \u001b[0;36mAPIRemovedInV1Proxy.__call__\u001b[1;34m(self, *_args, **_kwargs)\u001b[0m\n\u001b[0;32m     38\u001b[0m \u001b[39mdef\u001b[39;00m \u001b[39m__call__\u001b[39m(\u001b[39mself\u001b[39m, \u001b[39m*\u001b[39m_args: Any, \u001b[39m*\u001b[39m\u001b[39m*\u001b[39m_kwargs: Any) \u001b[39m-\u001b[39m\u001b[39m>\u001b[39m Any:\n\u001b[1;32m---> 39\u001b[0m     \u001b[39mraise\u001b[39;00m APIRemovedInV1(symbol\u001b[39m=\u001b[39m\u001b[39mself\u001b[39m\u001b[39m.\u001b[39m_symbol)\n",
      "\u001b[1;31mAPIRemovedInV1\u001b[0m: \n\nYou tried to access openai.Completion, but this is no longer supported in openai>=1.0.0 - see the README at https://github.com/openai/openai-python for the API.\n\nYou can run `openai migrate` to automatically upgrade your codebase to use the 1.0.0 interface. \n\nAlternatively, you can pin your installation to the old version, e.g. `pip install openai==0.28`\n\nA detailed migration guide is available here: https://github.com/openai/openai-python/discussions/742\n"
     ]
    }
   ],
   "source": [
    "\n",
    "\n",
    "# Munich center coordinates (for example)\n",
    "munich_center = '48.1363964,11.5609501'\n",
    "\n",
    "# Set radius and keyword\n",
    "restaurants = get_nearby_restaurants(api_key, munich_center, radius=200, keyword='restaurant', num_results=5)\n",
    "\n",
    "# Print the names of the found restaurants\n",
    "for restaurant in restaurants:\n",
    "    #Get place details \n",
    "    restaurant_id = restaurant.get('place_id')\n",
    "    place_details = get_place_details(api_key, restaurant_id)\n",
    "\n",
    "    \n",
    "\n",
    "    #Get reviews for the place\n",
    "    reviews = place_details.get('reviews', [])\n",
    "\n",
    "\n",
    "    #Generate a summary\n",
    "    summary = generate_summary(reviews, openai_api_key)\n",
    "\n",
    "    #Print Restaurant name and average rating\n",
    "    print(\"Restaurant name: \", restaurant.get('name'))\n",
    "    print(\"Rating:  \", restaurant.get('rating'))\n",
    "    print(f\"Summary: {summary}\\n\")\n",
    "\n",
    "    \n",
    "    for i, review in enumerate(reviews[:5]):\n",
    "        print(f\"Review {i + 1}: {review.get('text')}\")\n",
    "\n",
    "    print('\\n')"
   ]
  }
 ],
 "metadata": {
  "kernelspec": {
   "display_name": ".venv",
   "language": "python",
   "name": "python3"
  },
  "language_info": {
   "codemirror_mode": {
    "name": "ipython",
    "version": 3
   },
   "file_extension": ".py",
   "mimetype": "text/x-python",
   "name": "python",
   "nbconvert_exporter": "python",
   "pygments_lexer": "ipython3",
   "version": "3.10.12"
  }
 },
 "nbformat": 4,
 "nbformat_minor": 2
}
