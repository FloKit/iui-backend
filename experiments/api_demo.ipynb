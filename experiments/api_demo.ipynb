{
 "cells": [
  {
   "cell_type": "markdown",
   "metadata": {},
   "source": [
    "## Demo notebook to check out the Google Places API and the results"
   ]
  },
  {
   "cell_type": "code",
   "execution_count": 18,
   "metadata": {},
   "outputs": [],
   "source": [
    "import requests\n",
    "from openai import OpenAI\n",
    "import os"
   ]
  },
  {
   "cell_type": "markdown",
   "metadata": {},
   "source": [
    "### Define functions"
   ]
  },
  {
   "cell_type": "code",
   "execution_count": 34,
   "metadata": {},
   "outputs": [],
   "source": [
    "#get nearby restaurants\n",
    "def get_nearby_restaurants(api_key, location, radius=200, keyword='restaurant', num_results=5):\n",
    "    '''\n",
    "    Returns the restaurants from the API call based on location, radius\n",
    "    '''\n",
    "    base_url = 'https://maps.googleapis.com/maps/api/place/nearbysearch/json'\n",
    "    \n",
    "    params = {\n",
    "        'location': location,\n",
    "        'radius': radius,\n",
    "        'keyword': keyword,\n",
    "        'key': api_key\n",
    "    }\n",
    "    \n",
    "    response = requests.get(base_url, params=params)\n",
    "    results = response.json().get('results', [])\n",
    "\n",
    "    # Limit the number of results to the top 'num_results'\n",
    "    results = results[:num_results]\n",
    "    \n",
    "    return results\n",
    "\n",
    "\n",
    "def get_place_details(api_key, place_id):\n",
    "    '''\n",
    "    Returns details on a place defined by the place_id, e.g. reviews\n",
    "    '''\n",
    "    base_url = 'https://maps.googleapis.com/maps/api/place/details/json'\n",
    "\n",
    "    params = {\n",
    "        'place_id': place_id,\n",
    "        'key': api_key\n",
    "    }\n",
    "\n",
    "    response = requests.get(base_url, params=params)\n",
    "    result = response.json().get('result', {})\n",
    "\n",
    "    return result\n",
    "\n",
    "\n",
    "def generate_summary(client, reviews):\n",
    "    #Concatenate all reviews\n",
    "    review_text = \"\\n\".join(review.get('text', '') for review in reviews)\n",
    "\n",
    "    #Define the prompt for GPT\n",
    "    prompt = f\"Summarize the reviews for this place:\\n{review_text}\"\n",
    "\n",
    "    response = client.chat.completions.create(\n",
    "        model=\"gpt-3.5-turbo\",\n",
    "        messages=[\n",
    "            {\"role\": \"user\", \"content\": prompt},\n",
    "        ]\n",
    "    )\n",
    "    \n",
    "\n",
    "    #Extract the generated summary from GPT's response\n",
    "    summary = response.choices[0].message.content\n",
    "\n",
    "    return summary\n",
    "    "
   ]
  },
  {
   "cell_type": "markdown",
   "metadata": {},
   "source": [
    "### Set api keys from env"
   ]
  },
  {
   "cell_type": "code",
   "execution_count": 35,
   "metadata": {},
   "outputs": [
    {
     "name": "stdout",
     "output_type": "stream",
     "text": [
      "Google key found!\n",
      "OpenAI key found!\n"
     ]
    }
   ],
   "source": [
    "#get api keys from env file\n",
    "google_api_key = os.environ.get(\"GOOGLE_API_KEY\")\n",
    "openai_api_key = os.environ.get(\"OPENAI_API_KEY\")\n",
    "if google_api_key is not None:\n",
    "    print(\"Google key found!\")\n",
    "if openai_api_key is not None:\n",
    "    print(\"OpenAI key found!\")"
   ]
  },
  {
   "cell_type": "markdown",
   "metadata": {},
   "source": [
    "### Search for places using Google Places API"
   ]
  },
  {
   "cell_type": "code",
   "execution_count": 36,
   "metadata": {},
   "outputs": [
    {
     "name": "stdout",
     "output_type": "stream",
     "text": [
      "Restaurant name:  Subway\n",
      "Rating:   4\n"
     ]
    }
   ],
   "source": [
    "# Munich center coordinates (for example)\n",
    "munich_center = '48.1363964,11.5609501'\n",
    "\n",
    "# Set radius and keyword\n",
    "restaurants = get_nearby_restaurants(google_api_key, munich_center, radius=200, keyword='food', num_results=1)\n",
    "\n",
    "# Print the names of the found restaurants\n",
    "for restaurant in restaurants:\n",
    "    #Print Restaurant name and average rating\n",
    "    print(\"Restaurant name: \", restaurant.get('name'))\n",
    "    print(\"Rating:  \", restaurant.get('rating'))"
   ]
  },
  {
   "cell_type": "markdown",
   "metadata": {},
   "source": [
    "### Generate Summary with GPT3.5"
   ]
  },
  {
   "cell_type": "code",
   "execution_count": 37,
   "metadata": {},
   "outputs": [
    {
     "name": "stdout",
     "output_type": "stream",
     "text": [
      "Restaurant name:  Subway\n",
      "Summary: The time difference between London, United Kingdom, and Berlin, Germany, is currently one hour, with Berlin being one hour ahead of London.\n",
      "\n"
     ]
    }
   ],
   "source": [
    "from openai import OpenAI\n",
    "\n",
    "\n",
    "#Client, automatically searches for OPENAI_API_KEY in environment and sets as key\n",
    "client = OpenAI()\n",
    "\n",
    "\n",
    "#Iterate over restaurants: We want to generate a review for each one\n",
    "for restaurant in restaurants:\n",
    "    #Get place details \n",
    "    restaurant_id = restaurant.get('place_id')\n",
    "    place_details = get_place_details(google_api_key, restaurant_id)\n",
    "\n",
    "    #Get reviews for the place\n",
    "    reviews = place_details.get('reviews', [])\n",
    "        \n",
    "    #Print Restaurant name\n",
    "    print(\"Restaurant name: \", restaurant.get('name'))\n",
    "\n",
    "    #Generate the summary\n",
    "    summary = generate_summary(client, reviews)\n",
    "    print(f\"Summary: {summary}\\n\")"
   ]
  }
 ],
 "metadata": {
  "kernelspec": {
   "display_name": ".venv",
   "language": "python",
   "name": "python3"
  },
  "language_info": {
   "codemirror_mode": {
    "name": "ipython",
    "version": 3
   },
   "file_extension": ".py",
   "mimetype": "text/x-python",
   "name": "python",
   "nbconvert_exporter": "python",
   "pygments_lexer": "ipython3",
   "version": "3.11.3"
  }
 },
 "nbformat": 4,
 "nbformat_minor": 2
}
