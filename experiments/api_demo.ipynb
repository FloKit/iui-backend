{
 "cells": [
  {
   "cell_type": "markdown",
   "metadata": {},
   "source": [
    "## Demo notebook to check out the Google Places API and the results"
   ]
  },
  {
   "cell_type": "code",
   "execution_count": 1,
   "metadata": {},
   "outputs": [],
   "source": [
    "import requests\n",
    "from openai import OpenAI\n",
    "import os"
   ]
  },
  {
   "cell_type": "markdown",
   "metadata": {},
   "source": [
    "### Define functions"
   ]
  },
  {
   "cell_type": "code",
   "execution_count": 2,
   "metadata": {},
   "outputs": [],
   "source": [
    "#get nearby restaurants\n",
    "def get_nearby_restaurants(api_key, location, radius=200, keyword='restaurant', num_results=5):\n",
    "    '''\n",
    "    Returns the restaurants from the API call based on location, radius\n",
    "    '''\n",
    "    base_url = 'https://maps.googleapis.com/maps/api/place/nearbysearch/json'\n",
    "    \n",
    "    params = {\n",
    "        'location': location,\n",
    "        'radius': radius,\n",
    "        'keyword': keyword,\n",
    "        'key': api_key\n",
    "    }\n",
    "    \n",
    "    response = requests.get(base_url, params=params)\n",
    "    results = response.json().get('results', [])\n",
    "\n",
    "    # Limit the number of results to the top 'num_results'\n",
    "    results = results[:num_results]\n",
    "    \n",
    "    return results\n",
    "\n",
    "\n",
    "def get_place_details(api_key, place_id):\n",
    "    '''\n",
    "    Returns details on a place defined by the place_id, e.g. reviews\n",
    "    '''\n",
    "    base_url = 'https://maps.googleapis.com/maps/api/place/details/json'\n",
    "\n",
    "    params = {\n",
    "        'place_id': place_id,\n",
    "        'key': api_key\n",
    "    }\n",
    "\n",
    "    response = requests.get(base_url, params=params)\n",
    "    result = response.json().get('result', {})\n",
    "\n",
    "    return result\n",
    "\n",
    "\n",
    "def generate_summary(client, reviews):\n",
    "    #Concatenate all reviews\n",
    "    review_text = \"\\n\".join(review.get('text', '') for review in reviews)\n",
    "\n",
    "    #Define the prompt for GPT\n",
    "    prompt = f\"Summarize the reviews for this place:\\n{review_text}\"\n",
    "\n",
    "    response = client.chat.completions.create(\n",
    "        model=\"gpt-3.5-turbo\",\n",
    "        messages=[\n",
    "            {\"role\": \"user\", \"content\": prompt},\n",
    "        ]\n",
    "    )\n",
    "    \n",
    "\n",
    "    #Extract the generated summary from GPT's response\n",
    "    summary = response.choices[0].message.content\n",
    "\n",
    "    return summary\n",
    "    "
   ]
  },
  {
   "cell_type": "markdown",
   "metadata": {},
   "source": [
    "### Set api keys from env"
   ]
  },
  {
   "cell_type": "code",
   "execution_count": 3,
   "metadata": {},
   "outputs": [
    {
     "name": "stdout",
     "output_type": "stream",
     "text": [
      "Google key found!\n",
      "OpenAI key found!\n"
     ]
    }
   ],
   "source": [
    "#get api keys from env file\n",
    "google_api_key = os.environ.get(\"GOOGLE_API_KEY\")\n",
    "openai_api_key = os.environ.get(\"OPENAI_API_KEY\")\n",
    "if google_api_key is not None:\n",
    "    print(\"Google key found!\")\n",
    "if openai_api_key is not None:\n",
    "    print(\"OpenAI key found!\")"
   ]
  },
  {
   "cell_type": "markdown",
   "metadata": {},
   "source": [
    "### Search for places using Google Places API"
   ]
  },
  {
   "cell_type": "code",
   "execution_count": 7,
   "metadata": {},
   "outputs": [
    {
     "name": "stdout",
     "output_type": "stream",
     "text": [
      "Restaurant name:  La Vecchia Masseria\n",
      "Rating:   4\n",
      "Restaurant name:  Münchner Stubn\n",
      "Rating:   4.3\n",
      "Restaurant name:  Hindukush\n",
      "Rating:   4.4\n"
     ]
    }
   ],
   "source": [
    "# Munich center coordinates (for example)\n",
    "munich_center = '48.1363964,11.5609501'\n",
    "\n",
    "# Set radius and keyword\n",
    "restaurants = get_nearby_restaurants(google_api_key, munich_center, radius=200, keyword='restaurant', num_results=3)\n",
    "\n",
    "# Print the names of the found restaurants\n",
    "for restaurant in restaurants:\n",
    "    #Print Restaurant name and average rating\n",
    "    print(\"Restaurant name: \", restaurant.get('name'))\n",
    "    print(\"Rating:  \", restaurant.get('rating'))"
   ]
  },
  {
   "cell_type": "markdown",
   "metadata": {},
   "source": [
    "### Generate Summary with GPT3.5"
   ]
  },
  {
   "cell_type": "code",
   "execution_count": 6,
   "metadata": {},
   "outputs": [
    {
     "name": "stdout",
     "output_type": "stream",
     "text": [
      "Restaurant name:  La Vecchia Masseria\n",
      "Summary: Overall, the reviews for this place are positive. The ambiance is described as nice and the atmosphere is great. The food is soulful and amazing, with classic dishes like Bolognese and Gorgonzola being perfect. The prices are fair and not considered a rip-off for tourists. The outside seating is enjoyable and offers a nice atmosphere. The service is efficient and responsive, although not overly warm nor super attentive. One reviewer mentions that the restaurant has been a favorite for many years and maintains consistent quality.\n",
      "\n",
      "Restaurant name:  Münchner Stubn\n",
      "Summary: Overall, the reviews for this place are positive. Many customers enjoyed the local specialties on the menu, the variety of beers, and the decent flavor and presentation of the food. The portion sizes were also praised as being generous. The servers were responsive and professional, and the menu was available in both German and English. Some customers mentioned feeling welcomed and appreciated for their attempts to speak German. The atmosphere was described as busy but fun, especially during Oktoberfest, with live music. One negative review mentioned a rushed and rude waiter, but overall, the service was described as efficient and friendly. The restaurant was also conveniently located near the central train station.\n",
      "\n",
      "Restaurant name:  Hindukush\n",
      "Summary: The reviews for this place are overwhelmingly positive. Reviewers are impressed with the authentic flavor and taste of the Afghan food. They enjoyed the generous portions and found the food to be amazing. The atmosphere is described as amazing and the staff were friendly and helpful. The service is also mentioned as being fine and attentive. Multiple reviewers highly recommend the restaurant and specific dishes, such as the lamb dopyaza and Qabull Palau. The price value is also appreciated, with reviewers finding it to be great. The environment is described as authentic. Overall, the reviews indicate a positive dining experience with delicious food and good service.\n",
      "\n"
     ]
    }
   ],
   "source": [
    "from openai import OpenAI\n",
    "\n",
    "\n",
    "#Client, automatically searches for OPENAI_API_KEY in environment and sets as key\n",
    "client = OpenAI()\n",
    "\n",
    "\n",
    "#Iterate over restaurants: We want to generate a review for each one\n",
    "for restaurant in restaurants:\n",
    "    #Get place details \n",
    "    restaurant_id = restaurant.get('place_id')\n",
    "    place_details = get_place_details(google_api_key, restaurant_id)\n",
    "\n",
    "    #Get reviews for the place\n",
    "    reviews = place_details.get('reviews', [])\n",
    "    \n",
    "    #Print Restaurant name\n",
    "    print(\"Restaurant name: \", restaurant.get('name'))\n",
    "\n",
    "    #Generate the summary\n",
    "    summary = generate_summary(client, reviews)\n",
    "    print(f\"Summary: {summary}\\n\")"
   ]
  },
  {
   "cell_type": "markdown",
   "metadata": {},
   "source": [
    "## Prompt trials"
   ]
  },
  {
   "cell_type": "code",
   "execution_count": 13,
   "metadata": {},
   "outputs": [],
   "source": [
    "def generate_summary_prompt(client, prompt):\n",
    "\n",
    "    response = client.chat.completions.create(\n",
    "        model=\"gpt-3.5-turbo\",\n",
    "        messages=[\n",
    "            {\"role\": \"user\", \"content\": prompt},\n",
    "        ]\n",
    "    )\n",
    "    \n",
    "\n",
    "    #Extract the generated summary from GPT's response\n",
    "    summary = response.choices[0].message.content\n",
    "\n",
    "    return summary"
   ]
  },
  {
   "cell_type": "code",
   "execution_count": 14,
   "metadata": {},
   "outputs": [
    {
     "name": "stdout",
     "output_type": "stream",
     "text": [
      "PROMPT 1: \n",
      "review_text\n",
      "Restaurant name:  La Vecchia Masseria\n",
      "Summary: This restaurant is described as a hidden gem with a lovely atmosphere and amazing soulful food. Prices are reasonable and the outside seating area is praised. Some customers mention enjoying the Christmas decorations while others mention the consistent quality of the food over the years. The service is described as efficient.\n",
      "\n",
      "review_text\n",
      "Restaurant name:  Münchner Stubn\n",
      "Summary: This restaurant is busy but has responsive and professional servers. They have a variety of local specialties and a great variety of beers on tap. The food is decent, well-presented, and comes in generous portions. They have a German and English menu and the staff is friendly and helpful. The vibe is fun with live music during Oktoberfest. The only negative is that one waiter was rude and rushed, but the overall dining experience is great. It's a cozy, moderately priced restaurant with efficient service and delicious food. It's conveniently located near the main train station.\n",
      "\n",
      "review_text\n",
      "Restaurant name:  Hindukush\n",
      "Summary: Overall, these reviews highlight the positive experiences customers had with the Afghan food at the restaurant. They praise the authentic flavors, generous portions, and tasty dishes such as the lamb dopyaza and Qabull Palau. The service is also highly regarded, with friendly and helpful staff. The atmosphere and ambience are described as amazing and authentic, contributing to a great dining experience. The restaurant is recommended for its delicious food, attentive service, and reasonable prices.\n",
      "\n"
     ]
    }
   ],
   "source": [
    "#Concatenate all reviews\n",
    "\n",
    "\n",
    "\"\"\"\n",
    "prompt1 = f\"Summarize the reviews for this place as short and easy to understand as possible:\\n{review_text}\"\n",
    "prompt2 = f\"Summarize the reviews for this restaurant please. For this, please provide positive and negative aspects with bulletpoints. Positive ones should start with 'Pros:' and negative ones with 'Cons: ', These are the reviews:\\n{review_text}\"\n",
    "prompt3 = f\"Can you give me the most common positive and negative aspects in the reviews of this restaurant:\\n{review_text}\"\n",
    "# prompt4 = f\"Summarize the reviews for this place:\\n{review_text}\"\n",
    "\"\"\"\n",
    "\n",
    "print(\"PROMPT 1: \")\n",
    "for restaurant in restaurants:\n",
    "    #Get place details \n",
    "    restaurant_id = restaurant.get('place_id')\n",
    "    place_details = get_place_details(google_api_key, restaurant_id)\n",
    "\n",
    "    #Get reviews for the place\n",
    "    reviews = place_details.get('reviews', [])\n",
    "    review_text = \"\\n\".join(review.get('text', '') for review in reviews)\n",
    "    print(\"review_text\")\n",
    "    prompt1 = f\"Look through these reviews and summarize all of them in 2 to 3 sentences with the information and experiences that might be the most interesting to potential customers:\\n{review_text}\"\n",
    "    \n",
    "    #Print Restaurant name\n",
    "    print(\"Restaurant name: \", restaurant.get('name'))\n",
    "\n",
    "    #Generate the summary\n",
    "    summary = generate_summary_prompt(client, prompt1)\n",
    "    print(f\"Summary: {summary}\\n\")\n",
    "\n",
    "\n",
    "\n"
   ]
  },
  {
   "cell_type": "code",
   "execution_count": 16,
   "metadata": {},
   "outputs": [
    {
     "name": "stdout",
     "output_type": "stream",
     "text": [
      "PROMPT 2: \n",
      "Restaurant name:  La Vecchia Masseria\n",
      "Summary: - The restaurant has a lovely and quaint atmosphere, with a bustling atmosphere due to families.\n",
      "- The location is considered a hidden gem, close to the Aldstadt but a bit of a walk away.\n",
      "- The food is soulful and amazing, with classics like Bolognese and Gorgonzola being perfect choices.\n",
      "- Prices have increased recently but are still typical for a similar restaurant.\n",
      "- It is recommended to make a reservation, although going early may allow one to skip it.\n",
      "- All pizzas are €8.99 on Sundays.\n",
      "- The ambience is nice, but it can be a bit loud when the restaurant is full.\n",
      "- The Christmas decorations add to the enjoyable atmosphere.\n",
      "- The prices are fair and not considered a rip-off for tourists.\n",
      "- The overall quality of food is great, with good service.\n",
      "- The outside seating in a quiet street is very nice, with a good vibe and service.\n",
      "- Basic dishes have good quality, and the reviewer would return for beer and the atmosphere.\n",
      "- The reviewer has been visiting the restaurant for six years and still finds the same quality and workers.\n",
      "- Al fresco dining in mid-June was loved, with good food and a beautiful setting.\n",
      "- The service is efficient and responsive, but not particularly warm or super attentive.\n",
      "\n",
      "Restaurant name:  Münchner Stubn\n",
      "Summary: - The restaurant is busy, especially during Oktoberfest, but has a fun and lively atmosphere with live music.\n",
      "- The menu offers a variety of local German dishes and a good selection of beers.\n",
      "- The food is flavorful and well-presented, with generous portion sizes.\n",
      "- The service is responsive, professional, and accommodating to non-German speakers.\n",
      "- Some customers had positive interactions with the wait staff, while others felt rushed or rudely discouraged from their menu choices.\n",
      "- Specific menu items mentioned positively include the wurst salad, gnocchi, and pizzas.\n",
      "- The restaurant is moderately priced and offers efficient and friendly service.\n",
      "- It is conveniently located opposite the central main station.\n",
      "- Overall, customers had a great dining experience and would consider returning to the restaurant.\n",
      "\n",
      "Restaurant name:  Hindukush\n",
      "Summary: - Impressively authentic flavor and taste of Afghan food\n",
      "- Amazing and generous portions of food\n",
      "- Friendly and helpful staff\n",
      "- Highly recommended\n",
      "- Tasty Afghan food with generous portions\n",
      "- Nice ambience and fine service\n",
      "- Worth trying for first timers\n",
      "- Qabull Palau rice dish with lamb, raisins, and carrots is incredibly tasty\n",
      "- Tender lamb that melts in the mouth\n",
      "- Polite and attentive service, easy to find a table\n",
      "- Highly recommended, especially the Qabull Palau\n",
      "- Pleasantly surprised by the harmony of flavors and skillful preparation\n",
      "- Excellent and plentiful food at a fair cost\n",
      "- Waiter Alberto is knowledgeable and recommends special dishes\n",
      "- Skewer with bread is enjoyable\n",
      "- Well seasoned and balanced Afghan specialties with salad greens\n",
      "- Great price value and authentic environment.\n",
      "\n"
     ]
    }
   ],
   "source": [
    "print(\"PROMPT 2: \")\n",
    "for restaurant in restaurants:\n",
    "    #Get place details \n",
    "    restaurant_id = restaurant.get('place_id')\n",
    "    place_details = get_place_details(google_api_key, restaurant_id)\n",
    "\n",
    "    #Get reviews for the place\n",
    "    reviews = place_details.get('reviews', [])\n",
    "    review_text = \"\\n\".join(review.get('text', '') for review in reviews)\n",
    "    prompt2 = f\"Look through these reviews and provide a summary in form of bulletpoints about the most common opinions:\\n{review_text}\"\n",
    "    \n",
    "    #Print Restaurant name\n",
    "    print(\"Restaurant name: \", restaurant.get('name'))\n",
    "\n",
    "    #Generate the summary\n",
    "    summary = generate_summary_prompt(client, prompt2)\n",
    "    print(f\"Summary: {summary}\\n\")\n"
   ]
  },
  {
   "cell_type": "code",
   "execution_count": 19,
   "metadata": {},
   "outputs": [
    {
     "name": "stdout",
     "output_type": "stream",
     "text": [
      "PROMPT 3: \n",
      "Restaurant name:  La Vecchia Masseria\n",
      "Summary: Summary:\n",
      "\n",
      "- Food: The food is described as soulful, amazing, and good quality. Pasta dishes like Bolognese and Gorgonzola are particularly praised.\n",
      "- Ambience: The ambience is nice, with a great atmosphere and Christmas decorations. Outside seating on a quiet street is also enjoyed.\n",
      "- Service: The service is efficient and responsive, but not overly warm or attentive.\n",
      "- Price: Prices are fair and typical for a similar restaurant, with recent increases noted.\n",
      "- Consistency: One reviewer mentions that the restaurant has maintained the same quality and workers for several years.\n",
      "- Creativeness: No specific comments about the creativity of the food.\n",
      "- Size: No specific comments about the portion sizes.\n",
      "\n",
      "Most popular meal/option: All pizzas are €8.99 on Sundays.\n",
      "\n",
      "Restaurant name:  Münchner Stubn\n",
      "Summary: Summary:\n",
      "- The food at this German restaurant is decent in flavor with generous portions and great presentation. They offer a variety of local specialties and have a good selection of beers.\n",
      "- The ambience is busy but fun, especially during Oktoberfest with live music. It is cozy and moderately priced, making it a nice place to chill.\n",
      "- The service is responsive, professional, efficient, and friendly, with staff who speak English. The menu is available in both German and English.\n",
      "- There seems to be consistency in both the quality of the food and the service.\n",
      "- One popular option mentioned is the pizzas, which looked amazing but the reviewer did not have the appetite for it.\n",
      "\n",
      "Restaurant name:  Hindukush\n",
      "Summary: Summary: These reviews highlight that the food at the Afghan restaurant is delicious, authentic, and well-portioned. The ambience is described as amazing and authentic, creating an enjoyable atmosphere. The service is friendly and attentive, and the prices are considered fair for the quality of food. There is mention of the food being creative, with interesting flavor combinations. While there is no specific mention of consistency, the positive reviews overall suggest that the restaurant maintains a high standard. The popular meal option mentioned is the Qabull Palau, a rice dish with lamb, raisins, and carrots, which is described as incredibly tasty and highly recommended.\n",
      "\n"
     ]
    }
   ],
   "source": [
    "print(\"PROMPT 3: \")\n",
    "for restaurant in restaurants:\n",
    "    #Get place details \n",
    "    restaurant_id = restaurant.get('place_id')\n",
    "    place_details = get_place_details(google_api_key, restaurant_id)\n",
    "\n",
    "    #Get reviews for the place\n",
    "    reviews = place_details.get('reviews', [])\n",
    "    review_text = \"\\n\".join(review.get('text', '') for review in reviews)\n",
    "    prompt = f\"Look through these reviews and provide a 3 sentence summary, highlighting the following topics: food, ambience, service, price, consistency, creativeness, size. Please also provide one meal/option that seems the most popular, if there is one. These are the reviews:  \\n{review_text}\"\n",
    "    \n",
    "    #Print Restaurant name\n",
    "    print(\"Restaurant name: \", restaurant.get('name'))\n",
    "\n",
    "    #Generate the summary\n",
    "    summary = generate_summary_prompt(client, prompt)\n",
    "    print(f\"Summary: {summary}\\n\")"
   ]
  },
  {
   "cell_type": "markdown",
   "metadata": {},
   "source": [
    "## Notes on experimentation"
   ]
  },
  {
   "cell_type": "markdown",
   "metadata": {},
   "source": [
    "- text or bullet points?\n",
    "- how long should a summary be, e.g. 3-4 sentences, 6-10 bullet points?\n",
    "- repetitive sentences\n",
    "- highlighting of specific criteria, e.g. food, ambience, price, service\n",
    "- popular meal option?"
   ]
  }
 ],
 "metadata": {
  "kernelspec": {
   "display_name": ".venv",
   "language": "python",
   "name": "python3"
  },
  "language_info": {
   "codemirror_mode": {
    "name": "ipython",
    "version": 3
   },
   "file_extension": ".py",
   "mimetype": "text/x-python",
   "name": "python",
   "nbconvert_exporter": "python",
   "pygments_lexer": "ipython3",
   "version": "3.11.3"
  }
 },
 "nbformat": 4,
 "nbformat_minor": 2
}
