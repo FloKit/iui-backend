{
 "cells": [
  {
   "cell_type": "markdown",
   "metadata": {},
   "source": [
    "## Experiments with prompts"
   ]
  },
  {
   "cell_type": "code",
   "execution_count": 2,
   "metadata": {},
   "outputs": [],
   "source": [
    "import requests\n",
    "from openai import OpenAI\n",
    "import os\n",
    "import nltk"
   ]
  },
  {
   "cell_type": "code",
   "execution_count": 3,
   "metadata": {},
   "outputs": [
    {
     "name": "stdout",
     "output_type": "stream",
     "text": [
      "Google key found!\n",
      "OpenAI key found!\n"
     ]
    }
   ],
   "source": [
    "#get api keys from env file\n",
    "google_api_key = os.environ.get(\"GOOGLE_API_KEY\")\n",
    "openai_api_key = os.environ.get(\"OPENAI_API_KEY\")\n",
    "if google_api_key is not None:\n",
    "    print(\"Google key found!\")\n",
    "if openai_api_key is not None:\n",
    "    print(\"OpenAI key found!\")"
   ]
  },
  {
   "cell_type": "markdown",
   "metadata": {},
   "source": [
    "#### Functions"
   ]
  },
  {
   "cell_type": "code",
   "execution_count": 28,
   "metadata": {},
   "outputs": [],
   "source": [
    "def get_nearby_restaurants(location, radius=1500, keyword='restaurant', num_results=5, tag=None):\n",
    "    '''\n",
    "    Returns the restaurants from the API call based on location, radius\n",
    "    @\n",
    "    '''\n",
    "    base_url = 'https://maps.googleapis.com/maps/api/place/'\n",
    "    \n",
    "    # search for restaurants without specify the kind of restaurants\n",
    "    if not tag :\n",
    "        print(\"STARTING NO TAG SEARCH\")\n",
    "        params = {\n",
    "            'location': location,\n",
    "            # 'radius': radius,\n",
    "            'keyword': keyword,\n",
    "            'key': google_api_key,\n",
    "            'rankby': 'distance'\n",
    "        }\n",
    "        response = requests.get(base_url+'nearbysearch/json', params=params)\n",
    "    else:\n",
    "        print(\"TAG SEARCH\")\n",
    "        query = tag.replace(',', ' or ')\n",
    "        query = query + ' restaurant'\n",
    "\n",
    "        params = {\n",
    "            'location': location,\n",
    "            'radius': radius,\n",
    "            'query': query,\n",
    "            'key': google_api_key,\n",
    "        } \n",
    "        response = requests.get(base_url+'textsearch/json', params=params)\n",
    "\n",
    "    results = response.json().get('results', [])\n",
    "\n",
    "    # Limit the number of results to the top 'num_results'\n",
    "    results = results[:num_results]\n",
    "  \n",
    "    return results\n",
    "\n",
    "\n",
    "def get_place_details(place_id):\n",
    "    '''\n",
    "    Returns details on a place defined by the place_id, e.g. reviews\n",
    "    '''\n",
    "    base_url = 'https://maps.googleapis.com/maps/api/place/details/json'\n",
    "\n",
    "    params = {\n",
    "        'place_id': place_id,\n",
    "        'key': google_api_key\n",
    "    }\n",
    "\n",
    "    response = requests.get(base_url, params=params)\n",
    "    result = response.json().get('result', {})\n",
    "\n",
    "    return result\n",
    "\n",
    "\n",
    "def generate_summary(client, reviews, prompt):\n",
    "    #Concatenate all reviews\n",
    "    review_text = \"\\n\".join(review.get('text', '') for review in reviews)\n",
    "\n",
    "    #Define the prompt for GPT\n",
    "    prompt = f\"{prompt} \\n{review_text}\"\n",
    "\n",
    "    response = client.chat.completions.create(\n",
    "        model=\"gpt-3.5-turbo\",\n",
    "        messages=[\n",
    "            {\"role\": \"user\", \"content\": prompt},\n",
    "        ]\n",
    "    )\n",
    "    #Extract the generated summary from GPT's response\n",
    "    summary = response.choices[0].message.content\n",
    "\n",
    "    return summary\n",
    "\n",
    "def fetch_review(place_id):\n",
    "    cursor.execute('SELECT * FROM review_summaries WHERE id = ?', (place_id,))\n",
    "    return cursor.fetchall()\n",
    "\n",
    "def get_summary(place_id, prompt):\n",
    "    # review_array = fetch_review(place_id)\n",
    "\n",
    "    # if len(review_array) > 0:\n",
    "    #     print(\"Found in database!\")\n",
    "    #     review = review_array[0]\n",
    "    #     summary = review[1]\n",
    "    # else:\n",
    "    place_details = get_place_details(place_id)\n",
    "    print(\"Summary for restaurant: \", place_details.get('name'))\n",
    "    reviews = place_details.get('reviews', [])\n",
    "    summary = generate_summary(OpenAI(), reviews, prompt)\n",
    "    # cursor.execute('INSERT INTO review_summaries (id, review_summary) VALUES (?, ?)', (place_id, summary))\n",
    "    # conn.commit()\n",
    "\n",
    "    return summary\n",
    "\n",
    "def get_all_summaries(restaurants, prompt):\n",
    "    summaries = []\n",
    "    for restaurant in restaurants:\n",
    "        summaries.append(get_summary(restaurant['place_id'], prompt))\n",
    "\n",
    "    return summaries"
   ]
  },
  {
   "cell_type": "markdown",
   "metadata": {},
   "source": [
    "### Search"
   ]
  },
  {
   "cell_type": "code",
   "execution_count": 30,
   "metadata": {},
   "outputs": [
    {
     "name": "stdout",
     "output_type": "stream",
     "text": [
      "STARTING NO TAG SEARCH\n",
      "Restaurant name:  Wai's Kitchen\n",
      "Rating:   4.9\n",
      "{'business_status': 'OPERATIONAL', 'geometry': {'location': {'lat': 48.1455116, 'lng': 11.571681}, 'viewport': {'northeast': {'lat': 48.14681267989272, 'lng': 11.57302282989272}, 'southwest': {'lat': 48.14411302010728, 'lng': 11.57032317010728}}}, 'icon': 'https://maps.gstatic.com/mapfiles/place_api/icons/v1/png_71/restaurant-71.png', 'icon_background_color': '#FF9E67', 'icon_mask_base_uri': 'https://maps.gstatic.com/mapfiles/place_api/icons/v2/restaurant_pinlet', 'name': \"Wai's Kitchen\", 'opening_hours': {'open_now': False}, 'photos': [{'height': 9248, 'html_attributions': ['<a href=\"https://maps.google.com/maps/contrib/103032912442247410731\">Florian Jost</a>'], 'photo_reference': 'AWU5eFgMsmsyd8N8LGfT6sSbLTYpG2_ywhEbD9p6KPvKGmMB4A0pIKNBJulVFYK7sQJHH7tBQyfI3ph2_sg0nvgE5IUoiv7YO31huZxjgLS1fCzWkAvP1Uf_MHNQtCcQZUAe4TP91tTbZKM8VCmbISZTtmmHc4qFIpw-DKUpAXNNVG1X7pMX', 'width': 6936}], 'place_id': 'ChIJCa6xPL9tnkcRSrf4sZrbYuc', 'plus_code': {'compound_code': '4HWC+6M Munich', 'global_code': '8FWH4HWC+6M'}, 'rating': 4.9, 'reference': 'ChIJCa6xPL9tnkcRSrf4sZrbYuc', 'scope': 'GOOGLE', 'types': ['meal_takeaway', 'store', 'restaurant', 'food', 'point_of_interest', 'establishment'], 'user_ratings_total': 253, 'vicinity': 'Prinz-Ludwig-Straße 6, München'}\n",
      "Restaurant name:  Sangeet\n",
      "Rating:   4\n",
      "{'business_status': 'OPERATIONAL', 'geometry': {'location': {'lat': 48.1432162, 'lng': 11.5753267}, 'viewport': {'northeast': {'lat': 48.14450067989272, 'lng': 11.57665977989272}, 'southwest': {'lat': 48.14180102010728, 'lng': 11.57396012010728}}}, 'icon': 'https://maps.gstatic.com/mapfiles/place_api/icons/v1/png_71/restaurant-71.png', 'icon_background_color': '#FF9E67', 'icon_mask_base_uri': 'https://maps.gstatic.com/mapfiles/place_api/icons/v2/restaurant_pinlet', 'name': 'Sangeet', 'opening_hours': {'open_now': False}, 'photos': [{'height': 2988, 'html_attributions': ['<a href=\"https://maps.google.com/maps/contrib/109942863139682809255\">santosh gokak</a>'], 'photo_reference': 'AWU5eFgx4Drk9Vqb3UX4EwycFMW7Q76ZVT_BhBiGRO8pB8NnUVfoetXJGn77ZoNBjRj-RMsWdgTZ4SDuC84TkqGyDEJby7ICYkwV-qOIBA44l3uN3RSuYRQ6pZlitG98fxHIu4nN91PBtEej1Dkfdj3iODHy8Z7CWdylauGzzMQCuduq8znv', 'width': 5312}], 'place_id': 'ChIJ97XP7fJ1nkcRPvecu7xrAsk', 'plus_code': {'compound_code': '4HVG+74 Munich', 'global_code': '8FWH4HVG+74'}, 'price_level': 2, 'rating': 4, 'reference': 'ChIJ97XP7fJ1nkcRPvecu7xrAsk', 'scope': 'GOOGLE', 'types': ['restaurant', 'food', 'point_of_interest', 'establishment'], 'user_ratings_total': 889, 'vicinity': 'Brienner Str. 10, München'}\n",
      "Restaurant name:  The Italian Shot Maxvorstadt\n",
      "Rating:   4.1\n",
      "{'business_status': 'OPERATIONAL', 'geometry': {'location': {'lat': 48.1481607, 'lng': 11.5751458}, 'viewport': {'northeast': {'lat': 48.14945942989272, 'lng': 11.57650267989272}, 'southwest': {'lat': 48.14675977010727, 'lng': 11.57380302010728}}}, 'icon': 'https://maps.gstatic.com/mapfiles/place_api/icons/v1/png_71/restaurant-71.png', 'icon_background_color': '#FF9E67', 'icon_mask_base_uri': 'https://maps.gstatic.com/mapfiles/place_api/icons/v2/restaurant_pinlet', 'name': 'The Italian Shot Maxvorstadt', 'opening_hours': {'open_now': False}, 'photos': [{'height': 4032, 'html_attributions': ['<a href=\"https://maps.google.com/maps/contrib/114438584010560245213\">Christian</a>'], 'photo_reference': 'AWU5eFizFbvZcz_Pf_qVu7Zp4EBGttBvs-OmpeF2H_MJyP_SYKzNofjdVa7aPD1WQqYnSq0ia_0SxMRpZheVDpReZDZRA96BpuzqpfJnLKmsM3hfpeuRHPGUd_ranEACMiev-5AiRToqd8tbVwYPmk3KsyNaxEDrNqEsWjpBKVa3AVYD-z65', 'width': 3024}], 'place_id': 'ChIJheKbROx1nkcRHlUDlPzgsic', 'plus_code': {'compound_code': '4HXG+73 Munich', 'global_code': '8FWH4HXG+73'}, 'price_level': 2, 'rating': 4.1, 'reference': 'ChIJheKbROx1nkcRHlUDlPzgsic', 'scope': 'GOOGLE', 'types': ['meal_takeaway', 'bar', 'restaurant', 'food', 'point_of_interest', 'establishment'], 'user_ratings_total': 924, 'vicinity': 'Theresienstraße 40, München'}\n",
      "Restaurant name:  Conti Restaurant\n",
      "Rating:   4.4\n",
      "{'business_status': 'OPERATIONAL', 'geometry': {'location': {'lat': 48.14305900000001, 'lng': 11.5700697}, 'viewport': {'northeast': {'lat': 48.14458177989273, 'lng': 11.57142587989272}, 'southwest': {'lat': 48.14188212010729, 'lng': 11.56872622010728}}}, 'icon': 'https://maps.gstatic.com/mapfiles/place_api/icons/v1/png_71/restaurant-71.png', 'icon_background_color': '#FF9E67', 'icon_mask_base_uri': 'https://maps.gstatic.com/mapfiles/place_api/icons/v2/restaurant_pinlet', 'name': 'Conti Restaurant', 'opening_hours': {'open_now': False}, 'photos': [{'height': 1760, 'html_attributions': ['<a href=\"https://maps.google.com/maps/contrib/109884466583704725314\">Conti Bistro</a>'], 'photo_reference': 'AWU5eFg-zpWX5LacZ2k6eAe64dBfKIplgKriUDL-aT1zNFultfGDl45ugLLJT3JfQXOO_LsmT9uC9CDkq2N9XqzFxKrn7AHhaz_U9WdpZhpty4sd4JfBSQmb_6dkJQY1vHeFBWY0ygL9pzOdxowHmcpBg2Z99QTHoQfJcCHI5GUu3pWfB12q', 'width': 2640}], 'place_id': 'ChIJr2nZg_F1nkcR3bRIKEuN8Ic', 'plus_code': {'compound_code': '4HVC+62 Munich', 'global_code': '8FWH4HVC+62'}, 'price_level': 2, 'rating': 4.4, 'reference': 'ChIJr2nZg_F1nkcR3bRIKEuN8Ic', 'scope': 'GOOGLE', 'types': ['restaurant', 'meal_takeaway', 'food', 'point_of_interest', 'establishment'], 'user_ratings_total': 291, 'vicinity': 'Max-Joseph-Straße 5, München'}\n",
      "Restaurant name:  Döner Öz Urfa\n",
      "Rating:   4.7\n",
      "{'business_status': 'OPERATIONAL', 'geometry': {'location': {'lat': 48.148674, 'lng': 11.573643}, 'viewport': {'northeast': {'lat': 48.14994142989272, 'lng': 11.57493987989272}, 'southwest': {'lat': 48.14724177010728, 'lng': 11.57224022010728}}}, 'icon': 'https://maps.gstatic.com/mapfiles/place_api/icons/v1/png_71/restaurant-71.png', 'icon_background_color': '#FF9E67', 'icon_mask_base_uri': 'https://maps.gstatic.com/mapfiles/place_api/icons/v2/restaurant_pinlet', 'name': 'Döner Öz Urfa', 'opening_hours': {'open_now': True}, 'photos': [{'height': 1333, 'html_attributions': ['<a href=\"https://maps.google.com/maps/contrib/110483771103764079953\">Giorgia</a>'], 'photo_reference': 'AWU5eFgd24yuVos6i4FdZ8pnI9tPFR5bBZkXweIWnooAU5h_yqx_ImMPUUrQetgBz4YeyVS4Pq3_ZrV1aO9WhWYMsJQzKexnRtYDT144k1JNQYljextCza67JVrE4URSC2czqZpkXHiC3hzuFpwZvUTNke558iE0hGXweRk_INmUH4RvC2Pn', 'width': 2000}], 'place_id': 'ChIJt8RvIux1nkcRYUm6jnFIFM0', 'plus_code': {'compound_code': '4HXF+FF Munich', 'global_code': '8FWH4HXF+FF'}, 'price_level': 1, 'rating': 4.7, 'reference': 'ChIJt8RvIux1nkcRYUm6jnFIFM0', 'scope': 'GOOGLE', 'types': ['restaurant', 'food', 'point_of_interest', 'establishment'], 'user_ratings_total': 860, 'vicinity': 'Theresienstraße 56, München'}\n"
     ]
    }
   ],
   "source": [
    "# LMU coordiantes\n",
    "# lmu_coordinates = '48.148794,11.579980'\n",
    "lmu_coordinates = '48.1450909,11.5743243'\n",
    "\n",
    "# Set radius and keyword\n",
    "# get_nearby_restaurants(location,tag, radius=500, keyword='restaurant', num_results=5)\n",
    "restaurants = get_nearby_restaurants(lmu_coordinates, radius=500, keyword='restaurant', num_results=5,)\n",
    "\n",
    "# Print the names of the found restaurants\n",
    "for restaurant in restaurants:\n",
    "    #Print Restaurant name and average rating\n",
    "    print(\"Restaurant name: \", restaurant.get('name'))\n",
    "    print(\"Rating:  \", restaurant.get('rating'))\n",
    "    \n",
    "    print(restaurant)"
   ]
  },
  {
   "cell_type": "code",
   "execution_count": 29,
   "metadata": {},
   "outputs": [
    {
     "name": "stdout",
     "output_type": "stream",
     "text": [
      "TAG SEARCH\n",
      "Restaurant name:  Thai China\n",
      "Rating:   3\n",
      "{'business_status': 'OPERATIONAL', 'formatted_address': 'Leopoldstraße 259, 80807 München, Germany', 'geometry': {'location': {'lat': 48.1815584, 'lng': 11.5845249}, 'viewport': {'northeast': {'lat': 48.18298992989272, 'lng': 11.58593477989272}, 'southwest': {'lat': 48.18029027010728, 'lng': 11.58323512010728}}}, 'icon': 'https://maps.gstatic.com/mapfiles/place_api/icons/v1/png_71/restaurant-71.png', 'icon_background_color': '#FF9E67', 'icon_mask_base_uri': 'https://maps.gstatic.com/mapfiles/place_api/icons/v2/restaurant_pinlet', 'name': 'Thai China', 'opening_hours': {'open_now': False}, 'photos': [{'height': 3024, 'html_attributions': ['<a href=\"https://maps.google.com/maps/contrib/108483281827097808423\">Kai Chan</a>'], 'photo_reference': 'AWU5eFjG2I2Mdu-0e2jubLtFzkGSNJGG2LRQImkTr_02AGRFvJDAK5uSDzA80qF5bhpZPan4FcdJopJ7DH-fciK-FoG5cnRTkpPrQ6uwievoE6ckxZW4hFp_ML-wFVy5Ebv068ujAAY9yF64zKxwokY3dl27EVu7rFWQehQPmKSMDu_QXRbe', 'width': 4032}], 'place_id': 'ChIJZQX2HTF0nkcRHi5g3wWWQgU', 'plus_code': {'compound_code': '5HJM+JR Munich', 'global_code': '8FWH5HJM+JR'}, 'price_level': 1, 'rating': 3, 'reference': 'ChIJZQX2HTF0nkcRHi5g3wWWQgU', 'types': ['meal_takeaway', 'restaurant', 'food', 'point_of_interest', 'establishment'], 'user_ratings_total': 440}\n",
      "Restaurant name:  my Indigo Stachus\n",
      "Rating:   4.1\n",
      "{'business_status': 'OPERATIONAL', 'formatted_address': 'Karlsplatz 1, 80335 München, Germany', 'geometry': {'location': {'lat': 48.1394191, 'lng': 11.5649224}, 'viewport': {'northeast': {'lat': 48.14073907989272, 'lng': 11.56638087989272}, 'southwest': {'lat': 48.13803942010728, 'lng': 11.56368122010728}}}, 'icon': 'https://maps.gstatic.com/mapfiles/place_api/icons/v1/png_71/restaurant-71.png', 'icon_background_color': '#FF9E67', 'icon_mask_base_uri': 'https://maps.gstatic.com/mapfiles/place_api/icons/v2/restaurant_pinlet', 'name': 'my Indigo Stachus', 'opening_hours': {'open_now': False}, 'photos': [{'height': 2592, 'html_attributions': ['<a href=\"https://maps.google.com/maps/contrib/107723698240414758859\">A Google User</a>'], 'photo_reference': 'AWU5eFipKgDjo2xunjmP0SgAkkx2jyyT6faacscwrsxdJcMPeL-pXY-V4I24L-6rkZJHpGFEj2K2gc9vXClART7YmyiUgEAhETK1d48ohW-fk6BKKcUW5jZU7ZWXFDiKeLA4rcVQe7crxWzznefT2elUtCf1nyHVCH2xbnlS2jKzJYsEOUx7', 'width': 4608}], 'place_id': 'ChIJ8Q_20PZ1nkcRktKE4SFUeqg', 'plus_code': {'compound_code': '4HQ7+QX Munich', 'global_code': '8FWH4HQ7+QX'}, 'price_level': 2, 'rating': 4.1, 'reference': 'ChIJ8Q_20PZ1nkcRktKE4SFUeqg', 'types': ['restaurant', 'food', 'point_of_interest', 'establishment'], 'user_ratings_total': 644}\n",
      "Restaurant name:  La Barca Feinkost\n",
      "Rating:   3.8\n",
      "{'business_status': 'OPERATIONAL', 'formatted_address': 'Denninger Str. 170, 81927 München, Germany', 'geometry': {'location': {'lat': 48.14646459999999, 'lng': 11.631995}, 'viewport': {'northeast': {'lat': 48.14796137989271, 'lng': 11.63338962989272}, 'southwest': {'lat': 48.14526172010727, 'lng': 11.63068997010728}}}, 'icon': 'https://maps.gstatic.com/mapfiles/place_api/icons/v1/png_71/restaurant-71.png', 'icon_background_color': '#FF9E67', 'icon_mask_base_uri': 'https://maps.gstatic.com/mapfiles/place_api/icons/v2/restaurant_pinlet', 'name': 'La Barca Feinkost', 'opening_hours': {'open_now': False}, 'photos': [{'height': 4618, 'html_attributions': ['<a href=\"https://maps.google.com/maps/contrib/106703692468687879525\">A Google User</a>'], 'photo_reference': 'AWU5eFhFcyUZQUTv54PTdQZY1xkhZs2G6SGNKOpzSx9b62UhRGhCbE-pYQpaBHjqxmU4EEAFi632BLLY4w9-ckYJXIfbiLlv7smns6XkI-PYnDvuoaN1TSnlULvJhjRNq3klrwfQXjJ5CJd5FsZ9nvWKuh6y5wKQecwwuG5i2NkzBNEGG4u_', 'width': 3464}], 'place_id': 'ChIJibi8gWp1nkcRvyeAahiPLYs', 'plus_code': {'compound_code': '4JWJ+HQ Munich', 'global_code': '8FWH4JWJ+HQ'}, 'rating': 3.8, 'reference': 'ChIJibi8gWp1nkcRvyeAahiPLYs', 'types': ['restaurant', 'food', 'point_of_interest', 'establishment'], 'user_ratings_total': 149}\n",
      "Restaurant name:  Pizza Punjab\n",
      "Rating:   3.3\n",
      "{'business_status': 'OPERATIONAL', 'formatted_address': 'Allinger Str. 59, 82178 Puchheim, Germany', 'geometry': {'location': {'lat': 48.1679094, 'lng': 11.3429741}, 'viewport': {'northeast': {'lat': 48.16935267989272, 'lng': 11.34425127989272}, 'southwest': {'lat': 48.16665302010728, 'lng': 11.34155162010728}}}, 'icon': 'https://maps.gstatic.com/mapfiles/place_api/icons/v1/png_71/generic_business-71.png', 'icon_background_color': '#7B9EB0', 'icon_mask_base_uri': 'https://maps.gstatic.com/mapfiles/place_api/icons/v2/generic_pinlet', 'name': 'Pizza Punjab', 'opening_hours': {'open_now': False}, 'photos': [{'height': 4032, 'html_attributions': ['<a href=\"https://maps.google.com/maps/contrib/110105464506740641413\">Haidar</a>'], 'photo_reference': 'AWU5eFj6PPusaY2Vmj_dVTZbA37X5BLdtgWZrL8Tx2qC1FANP2USU2RuS4AilKvu3EuYNqjRBtcrYbPB77cQ5ce4vz1tZVH799phZJ4RQoj6L2K2-qc3cpGDrgbwM-b9Zz3sAmRcJGDv3981whEaFvBs-9ucx-AMfcwUGux9VhNKXBfbNt-m', 'width': 3024}], 'place_id': 'ChIJbfN3sE1_nkcR9STd2Fx01fY', 'plus_code': {'compound_code': '589V+55 Puchheim', 'global_code': '8FWH589V+55'}, 'rating': 3.3, 'reference': 'ChIJbfN3sE1_nkcR9STd2Fx01fY', 'types': ['meal_delivery', 'meal_takeaway', 'restaurant', 'food', 'point_of_interest', 'establishment'], 'user_ratings_total': 113}\n",
      "Restaurant name:  New Delhi Restaurant\n",
      "Rating:   4\n",
      "{'business_status': 'OPERATIONAL', 'formatted_address': 'Via Alessandro Tadino, 1, 20124 Milano MI, Italy', 'geometry': {'location': {'lat': 45.4756564, 'lng': 9.2044066}, 'viewport': {'northeast': {'lat': 45.47695077989272, 'lng': 9.20577752989272}, 'southwest': {'lat': 45.47425112010727, 'lng': 9.203077870107276}}}, 'icon': 'https://maps.gstatic.com/mapfiles/place_api/icons/v1/png_71/restaurant-71.png', 'icon_background_color': '#FF9E67', 'icon_mask_base_uri': 'https://maps.gstatic.com/mapfiles/place_api/icons/v2/restaurant_pinlet', 'name': 'New Delhi Restaurant', 'opening_hours': {'open_now': False}, 'photos': [{'height': 3024, 'html_attributions': ['<a href=\"https://maps.google.com/maps/contrib/109218232048249558666\">Ahasan Mahbub</a>'], 'photo_reference': 'AWU5eFjLPfSWnuNSzly_TiTYTNmCIuiK2SbVIJzMwB5Kl6ZKk511WCFSEJKgtMaUSYm9DsKTYpJvRU1mgUI1M8X2MjssFl54IF-266HH1zLdZoiHzAtSbv9v7hReaeJms0sVW0tfuAvQ22A97SVzmOq1vTZdFxy2REwfGn30ur2tms8x__N3', 'width': 4032}], 'place_id': 'ChIJmXZaqbjGhkcRw7aevMrO9Gw', 'plus_code': {'compound_code': 'F6G3+7Q Milan, Metropolitan City of Milan, Italy', 'global_code': '8FQFF6G3+7Q'}, 'price_level': 2, 'rating': 4, 'reference': 'ChIJmXZaqbjGhkcRw7aevMrO9Gw', 'types': ['restaurant', 'food', 'point_of_interest', 'establishment'], 'user_ratings_total': 666}\n",
      "Restaurant name:  Just India Indian Restaurant\n",
      "Rating:   4.3\n",
      "{'business_status': 'OPERATIONAL', 'formatted_address': 'Via Benedetto Marcello, 34, 20124 Milano MI, Italy', 'geometry': {'location': {'lat': 45.481851, 'lng': 9.209487099999999}, 'viewport': {'northeast': {'lat': 45.48322657989272, 'lng': 9.21078442989272}, 'southwest': {'lat': 45.48052692010728, 'lng': 9.208084770107277}}}, 'icon': 'https://maps.gstatic.com/mapfiles/place_api/icons/v1/png_71/restaurant-71.png', 'icon_background_color': '#FF9E67', 'icon_mask_base_uri': 'https://maps.gstatic.com/mapfiles/place_api/icons/v2/restaurant_pinlet', 'name': 'Just India Indian Restaurant', 'opening_hours': {'open_now': False}, 'photos': [{'height': 3888, 'html_attributions': ['<a href=\"https://maps.google.com/maps/contrib/106435045256941731512\">Davide Bossi</a>'], 'photo_reference': 'AWU5eFhMuwEKmD2UdPmfmXSi8ayXrZv63kgQIZbZNvZMCpr1CDctlgk8RuxvlaVONETxn9y5YpXpW8l4LssRPeqfAh5IFn-GZ9Az-CrwjbW7RzZagyIrzMV4MPEUUmsx6m7mXO8BSHH3dEaT7rAgxK0w3ImwzubKUOrunIhciK6q6Dl4yd6k', 'width': 6496}], 'place_id': 'ChIJAQ5JrMPGhkcRq_NPnRGHlkg', 'plus_code': {'compound_code': 'F6J5+PQ Milan, Metropolitan City of Milan, Italy', 'global_code': '8FQFF6J5+PQ'}, 'price_level': 1, 'rating': 4.3, 'reference': 'ChIJAQ5JrMPGhkcRq_NPnRGHlkg', 'types': ['restaurant', 'food', 'point_of_interest', 'establishment'], 'user_ratings_total': 943}\n",
      "Restaurant name:  LAXMI Tandoori & Curry Restaurant\n",
      "Rating:   4.3\n",
      "{'business_status': 'OPERATIONAL', 'formatted_address': 'Schweizer Str. 25, 60594 Frankfurt am Main, Germany', 'geometry': {'location': {'lat': 50.10373209999999, 'lng': 8.6794339}, 'viewport': {'northeast': {'lat': 50.10505432989272, 'lng': 8.680712179892723}, 'southwest': {'lat': 50.10235467010727, 'lng': 8.678012520107279}}}, 'icon': 'https://maps.gstatic.com/mapfiles/place_api/icons/v1/png_71/restaurant-71.png', 'icon_background_color': '#FF9E67', 'icon_mask_base_uri': 'https://maps.gstatic.com/mapfiles/place_api/icons/v2/restaurant_pinlet', 'name': 'LAXMI Tandoori & Curry Restaurant', 'opening_hours': {'open_now': False}, 'photos': [{'height': 2415, 'html_attributions': ['<a href=\"https://maps.google.com/maps/contrib/110305227245461653849\">LAXMI Tandoori&amp;Curry Restaurant</a>'], 'photo_reference': 'AWU5eFjd_Vod2BLqjlL19FdRGwdfKzRoMpOcaqJC6pmfr__YTHsvxPUS3s-GmLFp4F8gCwMCgUYqsu4lDsqXO7YFtA_WgfwR7DQVUkCGiDV7AIZoOWKSaygEXkgCKfRFlFnSwSTiO39w7NtcMr8h2URKyZol4lXdujxxb4e3YF2ZK9Uyk9X9', 'width': 3623}], 'place_id': 'ChIJ81Co2RwMvUcRAu_c5P0Ydm8', 'plus_code': {'compound_code': '4M3H+FQ Frankfurt', 'global_code': '9F2C4M3H+FQ'}, 'price_level': 2, 'rating': 4.3, 'reference': 'ChIJ81Co2RwMvUcRAu_c5P0Ydm8', 'types': ['restaurant', 'food', 'point_of_interest', 'establishment'], 'user_ratings_total': 250}\n",
      "Restaurant name:  Indian Tandoori Chilli Restaurant\n",
      "Rating:   4.2\n",
      "{'business_status': 'OPERATIONAL', 'formatted_address': 'Weserstraße 13, 60329 Frankfurt am Main, Germany', 'geometry': {'location': {'lat': 50.1081711, 'lng': 8.6698788}, 'viewport': {'northeast': {'lat': 50.10953267989272, 'lng': 8.671257029892722}, 'southwest': {'lat': 50.10683302010727, 'lng': 8.668557370107278}}}, 'icon': 'https://maps.gstatic.com/mapfiles/place_api/icons/v1/png_71/restaurant-71.png', 'icon_background_color': '#FF9E67', 'icon_mask_base_uri': 'https://maps.gstatic.com/mapfiles/place_api/icons/v2/restaurant_pinlet', 'name': 'Indian Tandoori Chilli Restaurant', 'opening_hours': {'open_now': False}, 'photos': [{'height': 2988, 'html_attributions': ['<a href=\"https://maps.google.com/maps/contrib/108915766878149492704\">S. Richiard. Joe</a>'], 'photo_reference': 'AWU5eFgQlV2n6jyI_9sKKBaVq2Gzxsg8zG8KfH1-EqnNC-C1FFvQFGyNOrMX7Zww5jM_DeFrJS2nlNnjUEhxjjgEFHe22rXT1VpqtNGiw8lJk9WsiUA1FQjo4O53_pkXkAhV9IF-4a4W4L6muNlaiZmTmBiHEDu5e6FCF5aX8Ixeovb5EIZn', 'width': 5312}], 'place_id': 'ChIJS1nVi6oOvUcRMD532J94wMg', 'plus_code': {'compound_code': '4M59+7W Frankfurt', 'global_code': '9F2C4M59+7W'}, 'price_level': 2, 'rating': 4.2, 'reference': 'ChIJS1nVi6oOvUcRMD532J94wMg', 'types': ['restaurant', 'food', 'point_of_interest', 'establishment'], 'user_ratings_total': 270}\n",
      "Restaurant name:  Dalchini\n",
      "Rating:   4.8\n",
      "{'business_status': 'OPERATIONAL', 'formatted_address': 'Baumeisterstraße 1, 12159 Berlin, Germany', 'geometry': {'location': {'lat': 52.4707826, 'lng': 13.3405796}, 'viewport': {'northeast': {'lat': 52.47211972989272, 'lng': 13.34180607989272}, 'southwest': {'lat': 52.46942007010728, 'lng': 13.33910642010728}}}, 'icon': 'https://maps.gstatic.com/mapfiles/place_api/icons/v1/png_71/restaurant-71.png', 'icon_background_color': '#FF9E67', 'icon_mask_base_uri': 'https://maps.gstatic.com/mapfiles/place_api/icons/v2/restaurant_pinlet', 'name': 'Dalchini', 'opening_hours': {'open_now': False}, 'photos': [{'height': 4032, 'html_attributions': ['<a href=\"https://maps.google.com/maps/contrib/103811829614297273906\">A Google User</a>'], 'photo_reference': 'AWU5eFh2DFHkgVN7VDA56zQq4IO1OAteIqRek7sGsvhZlv90MQ_5SBKoRnlPxxNP7LfCUqqgrP71k5AGnzIRs6ZU5Q9TIPD2K0kevi7OjpBbbXhkIJrC9l-TEryj_3a9z82vRkA3YZeCLr8U4aSXGSfhUNp0AuGFGKR21up7ZSnlotOxmNza', 'width': 3024}], 'place_id': 'ChIJTZZOf85RqEcRKmE7FNkGhuU', 'plus_code': {'compound_code': 'F8CR+86 Berlin', 'global_code': '9F4MF8CR+86'}, 'rating': 4.8, 'reference': 'ChIJTZZOf85RqEcRKmE7FNkGhuU', 'types': ['meal_takeaway', 'restaurant', 'food', 'point_of_interest', 'establishment'], 'user_ratings_total': 569}\n",
      "Restaurant name:  Amigo Pizza\n",
      "Rating:   3.4\n",
      "{'business_status': 'OPERATIONAL', 'formatted_address': 'Am Bogen 3, 85521 Ottobrunn, Germany', 'geometry': {'location': {'lat': 48.06366, 'lng': 11.66298}, 'viewport': {'northeast': {'lat': 48.06489832989272, 'lng': 11.66437427989272}, 'southwest': {'lat': 48.06219867010728, 'lng': 11.66167462010728}}}, 'icon': 'https://maps.gstatic.com/mapfiles/place_api/icons/v1/png_71/generic_business-71.png', 'icon_background_color': '#7B9EB0', 'icon_mask_base_uri': 'https://maps.gstatic.com/mapfiles/place_api/icons/v2/generic_pinlet', 'name': 'Amigo Pizza', 'opening_hours': {'open_now': False}, 'photos': [{'height': 3492, 'html_attributions': ['<a href=\"https://maps.google.com/maps/contrib/114989195922999808947\">SACHIT VARMA</a>'], 'photo_reference': 'AWU5eFi2DCID_ECTmb2OJvyWBTI_dTTNqEBvnU-7tg2vldpF7pOc7heru6XTU0RJ3Jxxi9t7S7n7GZdo3VCkrgzqv-XzV-jXXEdrG1h7lKK5xv6H1hOxC70YXHRqVWTFV2N9EQPvASEHdXvFEK0ebWRttOX5PVE7Y1_RUemOKinf4pLi_e0C', 'width': 4656}], 'place_id': 'ChIJSaodzcLgnUcRqGLXDmrInMA', 'plus_code': {'compound_code': '3M77+F5 Ottobrunn', 'global_code': '8FWH3M77+F5'}, 'rating': 3.4, 'reference': 'ChIJSaodzcLgnUcRqGLXDmrInMA', 'types': ['meal_delivery', 'restaurant', 'food', 'point_of_interest', 'establishment'], 'user_ratings_total': 223}\n",
      "Restaurant name:  Su Guan - Chinese Veg\n",
      "Rating:   4.6\n",
      "{'business_status': 'OPERATIONAL', 'formatted_address': 'Via della Scala, 22/R, 50123 Firenze FI, Italy', 'geometry': {'location': {'lat': 43.7739733, 'lng': 11.2480288}, 'viewport': {'northeast': {'lat': 43.77527772989273, 'lng': 11.24931717989272}, 'southwest': {'lat': 43.77257807010729, 'lng': 11.24661752010728}}}, 'icon': 'https://maps.gstatic.com/mapfiles/place_api/icons/v1/png_71/restaurant-71.png', 'icon_background_color': '#FF9E67', 'icon_mask_base_uri': 'https://maps.gstatic.com/mapfiles/place_api/icons/v2/restaurant_pinlet', 'name': 'Su Guan - Chinese Veg', 'opening_hours': {'open_now': False}, 'photos': [{'height': 3024, 'html_attributions': ['<a href=\"https://maps.google.com/maps/contrib/103172836315550087502\">Pei-Shan Hsieh</a>'], 'photo_reference': 'AWU5eFgfetAXuFAaT7GHd3AH2bsHqQMT7ByJOX2OMdKPsycGYfov-Wqu3PLOfLG8R-Gub8PaEHX2s--7hqIEa9wr_VP4QxydzWtDL7WW15MuEDE8Y6KH6g-YqiTPkv0EiYUDCb0QPgbad0uHw1JO64i9qXSnOhcoLg7xQRldpsKDdmB4BEpF', 'width': 4032}], 'place_id': 'ChIJ75icExNXKhMRziVyz2dTsuo', 'plus_code': {'compound_code': 'Q6FX+H6 Florence, Metropolitan City of Florence, Italy', 'global_code': '8FMHQ6FX+H6'}, 'rating': 4.6, 'reference': 'ChIJ75icExNXKhMRziVyz2dTsuo', 'types': ['restaurant', 'food', 'point_of_interest', 'establishment'], 'user_ratings_total': 541}\n",
      "Restaurant name:  Ganesha Indisches Restaurant\n",
      "Rating:   4.7\n",
      "{'business_status': 'OPERATIONAL', 'formatted_address': 'Egelseestraße 31, 96050 Bamberg, Germany', 'geometry': {'location': {'lat': 49.8949583, 'lng': 10.9008985}, 'viewport': {'northeast': {'lat': 49.89624257989272, 'lng': 10.90215477989272}, 'southwest': {'lat': 49.89354292010727, 'lng': 10.89945512010728}}}, 'icon': 'https://maps.gstatic.com/mapfiles/place_api/icons/v1/png_71/restaurant-71.png', 'icon_background_color': '#FF9E67', 'icon_mask_base_uri': 'https://maps.gstatic.com/mapfiles/place_api/icons/v2/restaurant_pinlet', 'name': 'Ganesha Indisches Restaurant', 'opening_hours': {'open_now': False}, 'photos': [{'height': 3024, 'html_attributions': ['<a href=\"https://maps.google.com/maps/contrib/103633562295227867967\">A Google User</a>'], 'photo_reference': 'AWU5eFh_aivQVo1W09ONWQRPdGokqerQD_Am43RSWmNxWnu-tfs3QtfGLPDi4wblVyfBGIzRiDpU64GIvwFymrgWwELmzTXmU0AfWEC3onhVaBqmwedGbw5m5KxSubgdq7ZkQ6rL5emH4ViCdg69SQKmLW38a4v6gtpUhxpxjon7QFoXnOZf', 'width': 4032}], 'place_id': 'ChIJkaADsysjokcRSAIiJpnDrPo', 'plus_code': {'compound_code': 'VWV2+X9 Bamberg', 'global_code': '8FXGVWV2+X9'}, 'price_level': 2, 'rating': 4.7, 'reference': 'ChIJkaADsysjokcRSAIiJpnDrPo', 'types': ['restaurant', 'food', 'point_of_interest', 'establishment'], 'user_ratings_total': 1297}\n",
      "Restaurant name:  India Club Berlin\n",
      "Rating:   4.5\n",
      "{'business_status': 'OPERATIONAL', 'formatted_address': 'Behrenstraße 72, 10117 Berlin, Germany', 'geometry': {'location': {'lat': 52.5151828, 'lng': 13.3797406}, 'viewport': {'northeast': {'lat': 52.51634542989272, 'lng': 13.38110497989272}, 'southwest': {'lat': 52.51364577010728, 'lng': 13.37840532010728}}}, 'icon': 'https://maps.gstatic.com/mapfiles/place_api/icons/v1/png_71/restaurant-71.png', 'icon_background_color': '#FF9E67', 'icon_mask_base_uri': 'https://maps.gstatic.com/mapfiles/place_api/icons/v2/restaurant_pinlet', 'name': 'India Club Berlin', 'opening_hours': {'open_now': False}, 'photos': [{'height': 1260, 'html_attributions': ['<a href=\"https://maps.google.com/maps/contrib/114639662293800431492\">A Google User</a>'], 'photo_reference': 'AWU5eFhfJ8uvt8LYQZuPuPWBDr22WvdA2zzt4THT5-3wts0sMjPvM5vAGv06idFir9HysgFmrGaFvOmtBUKvVbJrJwtWBU83LN2wiM4vVApi-hEKeQOae-n8d73-OzaIoxHsUTs8e3h63CIZyHHcUQMShOxGrq4X3tAtS3XNxJOgOoOpMEqg', 'width': 2500}], 'place_id': 'ChIJhcjt2cVRqEcRg3H4LZzs3Dc', 'plus_code': {'compound_code': 'G98H+3V Berlin', 'global_code': '9F4MG98H+3V'}, 'price_level': 4, 'rating': 4.5, 'reference': 'ChIJhcjt2cVRqEcRg3H4LZzs3Dc', 'types': ['restaurant', 'food', 'point_of_interest', 'establishment'], 'user_ratings_total': 832}\n",
      "Restaurant name:  Spice India Restaurant\n",
      "Rating:   4.2\n",
      "{'business_status': 'OPERATIONAL', 'formatted_address': 'Uhlandstraße 161, 10719 Berlin, Germany', 'geometry': {'location': {'lat': 52.49937490000001, 'lng': 13.3249791}, 'viewport': {'northeast': {'lat': 52.50073392989272, 'lng': 13.32621352989272}, 'southwest': {'lat': 52.49803427010728, 'lng': 13.32351387010728}}}, 'icon': 'https://maps.gstatic.com/mapfiles/place_api/icons/v1/png_71/restaurant-71.png', 'icon_background_color': '#FF9E67', 'icon_mask_base_uri': 'https://maps.gstatic.com/mapfiles/place_api/icons/v2/restaurant_pinlet', 'name': 'Spice India Restaurant', 'opening_hours': {'open_now': False}, 'photos': [{'height': 2000, 'html_attributions': ['<a href=\"https://maps.google.com/maps/contrib/113970164593501619746\">Spice India - Indisches Restaurant, Cafe, Cocktailbar - Berlin</a>'], 'photo_reference': 'AWU5eFh7CS39zWWwNB0-TWudgIZamq4pG3U9dCbA2GSo3cRsx1_uik_6Kf6T2GcDnHfh6U1mmQY6JupgjjQpvWMG9QKJPHi6try8CKFtHMtNn0X9TTiZCbUSQPK2dAN7hsmE1YvsWhJc6yjVeuSrT2K-yBGpIvcbJiGPI6mcyDCRI5GuPuTl', 'width': 1333}], 'place_id': 'ChIJ33NdPvpQqEcRWAYPYTnzHD0', 'plus_code': {'compound_code': 'F8XF+PX Berlin', 'global_code': '9F4MF8XF+PX'}, 'price_level': 2, 'rating': 4.2, 'reference': 'ChIJ33NdPvpQqEcRWAYPYTnzHD0', 'types': ['meal_delivery', 'bar', 'restaurant', 'food', 'point_of_interest', 'establishment'], 'user_ratings_total': 975}\n",
      "Restaurant name:  India Chili Restaurant\n",
      "Rating:   4.1\n",
      "{'business_status': 'OPERATIONAL', 'formatted_address': 'Stuttgarter Pl. 16, 10627 Berlin, Germany', 'geometry': {'location': {'lat': 52.505275, 'lng': 13.3010598}, 'viewport': {'northeast': {'lat': 52.50655182989272, 'lng': 13.30244952989272}, 'southwest': {'lat': 52.50385217010728, 'lng': 13.29974987010728}}}, 'icon': 'https://maps.gstatic.com/mapfiles/place_api/icons/v1/png_71/restaurant-71.png', 'icon_background_color': '#FF9E67', 'icon_mask_base_uri': 'https://maps.gstatic.com/mapfiles/place_api/icons/v2/restaurant_pinlet', 'name': 'India Chili Restaurant', 'opening_hours': {'open_now': False}, 'photos': [{'height': 3107, 'html_attributions': ['<a href=\"https://maps.google.com/maps/contrib/113796518495793460264\">A Google User</a>'], 'photo_reference': 'AWU5eFjLNx7yDlgTvW1ApT7P9z9YufmcceVzazvjHDniTu9X1gqMt1Qx8zjRXwbjEa0Zdp80gd4q53vb7f05SWG9bkHPF8mbDiSCvqNiqYdBE5jNYgm1TeupAp2SbxOtOh6jIQnxXMzUp_tegqVqpAg-5dCCsGCSIhelRnNgf4iF9WFMrOnt', 'width': 2870}], 'place_id': 'ChIJVxvg4WtRqEcRLnpZaOSj3Lk', 'plus_code': {'compound_code': 'G842+4C Berlin', 'global_code': '9F4MG842+4C'}, 'rating': 4.1, 'reference': 'ChIJVxvg4WtRqEcRLnpZaOSj3Lk', 'types': ['restaurant', 'food', 'point_of_interest', 'establishment'], 'user_ratings_total': 33}\n",
      "Restaurant name:  Indochina Restaurant Palace\n",
      "Rating:   4.5\n",
      "{'business_status': 'OPERATIONAL', 'formatted_address': 'Saline Theodorshalle 18, 55543 Bad Kreuznach, Germany', 'geometry': {'location': {'lat': 49.8250512, 'lng': 7.8499379}, 'viewport': {'northeast': {'lat': 49.82635807989272, 'lng': 7.851229679892722}, 'southwest': {'lat': 49.82365842010728, 'lng': 7.848530020107278}}}, 'icon': 'https://maps.gstatic.com/mapfiles/place_api/icons/v1/png_71/restaurant-71.png', 'icon_background_color': '#FF9E67', 'icon_mask_base_uri': 'https://maps.gstatic.com/mapfiles/place_api/icons/v2/restaurant_pinlet', 'name': 'Indochina Restaurant Palace', 'opening_hours': {'open_now': False}, 'photos': [{'height': 845, 'html_attributions': ['<a href=\"https://maps.google.com/maps/contrib/107462476488364256560\">Reza Naazeri</a>'], 'photo_reference': 'AWU5eFgFcr2ww_OplV2x3ghL54Ft7eN7RvECC2otIVODW2yPHgRgU22qWwO0Eqt45VDYCa_yS885lqLjsdwGOFd7RQyztcy88JiSwCVngMKOb_jKc8ZACRJRiFaRx5p-Rn8S-yTI7atDhA5UhQm27-VAdae-zUzVJTakThL2X8LcRKVtWwZ_', 'width': 1500}], 'place_id': 'ChIJAYTOquL5vUcRQn5C3NpnifY', 'plus_code': {'compound_code': 'RVG2+22 Bad Kreuznach', 'global_code': '8FX9RVG2+22'}, 'price_level': 2, 'rating': 4.5, 'reference': 'ChIJAYTOquL5vUcRQn5C3NpnifY', 'types': ['restaurant', 'food', 'point_of_interest', 'establishment'], 'user_ratings_total': 660}\n",
      "Restaurant name:  La Mesa\n",
      "Rating:   5\n",
      "{'business_status': 'OPERATIONAL', 'formatted_address': 'Marktstrasse 5, 6060 Sarnen, Switzerland', 'geometry': {'location': {'lat': 46.89709560000001, 'lng': 8.2487731}, 'viewport': {'northeast': {'lat': 46.89841932989273, 'lng': 8.250205329892722}, 'southwest': {'lat': 46.89571967010728, 'lng': 8.247505670107278}}}, 'icon': 'https://maps.gstatic.com/mapfiles/place_api/icons/v1/png_71/restaurant-71.png', 'icon_background_color': '#FF9E67', 'icon_mask_base_uri': 'https://maps.gstatic.com/mapfiles/place_api/icons/v2/restaurant_pinlet', 'name': 'La Mesa', 'opening_hours': {'open_now': True}, 'photos': [{'height': 4032, 'html_attributions': ['<a href=\"https://maps.google.com/maps/contrib/110816579323585971762\">A Google User</a>'], 'photo_reference': 'AWU5eFi0DEzV9pUJtaZqbd0Ory8QkRNSEitmOrWtwD_Am5wp-YLjggt4K2wDUVvMjqQEaEGSxXvLHy3qURxiGfuAARH3nnGqCBCiOYAcWCihOrOuDqsZpZzmlY2g7BU2CdzynaVaCeFGvlP-8Oel7ecR48TA9xGjuhhdK1QW3r00ZYov791_', 'width': 3024}], 'place_id': 'ChIJP2_F-x3zj0cRJvACzzo5zqo', 'plus_code': {'compound_code': 'V6WX+RG Sarnen, Switzerland', 'global_code': '8FRCV6WX+RG'}, 'rating': 5, 'reference': 'ChIJP2_F-x3zj0cRJvACzzo5zqo', 'types': ['restaurant', 'food', 'point_of_interest', 'establishment'], 'user_ratings_total': 16}\n",
      "Restaurant name:  Restaurant Asia Time\n",
      "Rating:   3.8\n",
      "{'business_status': 'OPERATIONAL', 'formatted_address': 'Könizstrasse 161, 3097 Liebefeld, Switzerland', 'geometry': {'location': {'lat': 46.9346642, 'lng': 7.417283799999999}, 'viewport': {'northeast': {'lat': 46.93633387989273, 'lng': 7.418947479892722}, 'southwest': {'lat': 46.93363422010729, 'lng': 7.416247820107278}}}, 'icon': 'https://maps.gstatic.com/mapfiles/place_api/icons/v1/png_71/restaurant-71.png', 'icon_background_color': '#FF9E67', 'icon_mask_base_uri': 'https://maps.gstatic.com/mapfiles/place_api/icons/v2/restaurant_pinlet', 'name': 'Restaurant Asia Time', 'opening_hours': {'open_now': False}, 'photos': [{'height': 480, 'html_attributions': ['<a href=\"https://maps.google.com/maps/contrib/106803053714039252432\">HrLove96</a>'], 'photo_reference': 'AWU5eFiIJwozF9T-EuztaCdNg9S6lyzt3R4rU8feJy53Ow2blmdwNrAeyKRYcYOvdUaHvcBR7J6yCo6Rx0vSacGEkPZNLSl_uVvXmVa3hd-cotw8TiTacW6zuUVztMUMQeHsA-T0jWZVTziXBdgnm_2aGhG0fnvW9qVWe2rZP0z-S99lELBC', 'width': 640}], 'place_id': 'ChIJK2t84wU5jkcRFa6cy0oK3dk', 'plus_code': {'compound_code': 'WCM8+VW Liebefeld, Switzerland', 'global_code': '8FR9WCM8+VW'}, 'price_level': 1, 'rating': 3.8, 'reference': 'ChIJK2t84wU5jkcRFa6cy0oK3dk', 'types': ['restaurant', 'meal_delivery', 'food', 'point_of_interest', 'establishment'], 'user_ratings_total': 172}\n",
      "Restaurant name:  Classic India Indisches Restaurant\n",
      "Rating:   4.3\n",
      "{'business_status': 'OPERATIONAL', 'formatted_address': 'Rellinghauser Str. 169, 45128 Essen, Germany', 'geometry': {'location': {'lat': 51.44074699999999, 'lng': 7.02157}, 'viewport': {'northeast': {'lat': 51.44203517989272, 'lng': 7.022825579892722}, 'southwest': {'lat': 51.43933552010728, 'lng': 7.020125920107279}}}, 'icon': 'https://maps.gstatic.com/mapfiles/place_api/icons/v1/png_71/restaurant-71.png', 'icon_background_color': '#FF9E67', 'icon_mask_base_uri': 'https://maps.gstatic.com/mapfiles/place_api/icons/v2/restaurant_pinlet', 'name': 'Classic India Indisches Restaurant', 'opening_hours': {'open_now': False}, 'photos': [{'height': 635, 'html_attributions': ['<a href=\"https://maps.google.com/maps/contrib/107591461628528248493\">classic india</a>'], 'photo_reference': 'AWU5eFi_CbLsQVf4WwtmMIE7LcxgbaycXnJ9vIrK6kDjjl9cHHKAATdnDp_-lunhUXiKD0g9AEq3GkUiMz-ORF4bEd6ILoWHTDBmZguv0LLNQ-LOGtDZgCBzqSE6JK3y0RZuDiR5hWpak1fKvlq6VqSSLR4vVZd6xE8yDb5p0S80vMYldi9B', 'width': 1600}], 'place_id': 'ChIJk9xtlC3duEcRIzrrXDWoKAA', 'plus_code': {'compound_code': 'C2RC+7J Essen', 'global_code': '9F39C2RC+7J'}, 'price_level': 2, 'rating': 4.3, 'reference': 'ChIJk9xtlC3duEcRIzrrXDWoKAA', 'types': ['meal_delivery', 'bar', 'grocery_or_supermarket', 'store', 'restaurant', 'food', 'point_of_interest', 'establishment'], 'user_ratings_total': 512}\n",
      "Restaurant name:  India Spice\n",
      "Rating:   4.4\n",
      "{'business_status': 'OPERATIONAL', 'formatted_address': 'Kaskelstraße 43, 10317 Berlin, Germany', 'geometry': {'location': {'lat': 52.50398860000001, 'lng': 13.4812113}, 'viewport': {'northeast': {'lat': 52.50528847989272, 'lng': 13.48250987989272}, 'southwest': {'lat': 52.50258882010727, 'lng': 13.47981022010728}}}, 'icon': 'https://maps.gstatic.com/mapfiles/place_api/icons/v1/png_71/restaurant-71.png', 'icon_background_color': '#FF9E67', 'icon_mask_base_uri': 'https://maps.gstatic.com/mapfiles/place_api/icons/v2/restaurant_pinlet', 'name': 'India Spice', 'opening_hours': {'open_now': False}, 'photos': [{'height': 844, 'html_attributions': ['<a href=\"https://maps.google.com/maps/contrib/102502810039534691158\">A Google User</a>'], 'photo_reference': 'AWU5eFi3IXl7yrGB1F0o7ALoaOTK8BvQlR8fVH2UARnwmBywPycFJr1TdLlhp1y20xI19JgysXAjtm0_RCedPfmdQ7Dtl0ZNzZ47bTbzniGi1bZnEvEI9COgaA_8ePOBq2YQuYmbwi4iqasV6Eo1LCXpp4wms85SujH989XSjswOsE58GzwP', 'width': 1496}], 'place_id': 'ChIJK038G-9OqEcRYOUqaPY_0po', 'plus_code': {'compound_code': 'GF3J+HF Berlin', 'global_code': '9F4MGF3J+HF'}, 'price_level': 1, 'rating': 4.4, 'reference': 'ChIJK038G-9OqEcRYOUqaPY_0po', 'types': ['restaurant', 'food', 'point_of_interest', 'establishment'], 'user_ratings_total': 274}\n"
     ]
    }
   ],
   "source": [
    "# LMU coordiantes\n",
    "# lmu_coordinates = '48.148794,11.579980'\n",
    "lmu_coordinates = '48.1450909,11.5743243'\n",
    "\n",
    "# Set radius and keyword\n",
    "# get_nearby_restaurants(location,tag, radius=500, keyword='restaurant', num_results=5)\n",
    "restaurants = get_nearby_restaurants(lmu_coordinates, radius=500, keyword='restaurant', num_results=20, tag='chinese italian indian')\n",
    "\n",
    "# Print the names of the found restaurants\n",
    "for restaurant in restaurants:\n",
    "    #Print Restaurant name and average rating\n",
    "    print(\"Restaurant name: \", restaurant.get('name'))\n",
    "    print(\"Rating:  \", restaurant.get('rating'))\n",
    "    \n",
    "    print(restaurant)"
   ]
  },
  {
   "cell_type": "markdown",
   "metadata": {},
   "source": [
    "### Reviews Summary"
   ]
  },
  {
   "cell_type": "markdown",
   "metadata": {},
   "source": [
    "##### Method 1: Overall Tendency"
   ]
  },
  {
   "cell_type": "code",
   "execution_count": 11,
   "metadata": {},
   "outputs": [
    {
     "name": "stdout",
     "output_type": "stream",
     "text": [
      "Summary for restaurant:  Conti Restaurant\n",
      "Summary for restaurant:  Wai's Kitchen\n",
      "Summary for restaurant:  Oskar Maria Brasserie\n",
      "Summary for restaurant:  Pietra Piccina\n",
      "Summary for restaurant:  La Nonna\n"
     ]
    },
    {
     "data": {
      "text/plain": [
       "[\"Overall tendency of the review: Mixed\\n\\nImportant details about the restaurant:\\n- The spargel-potatoe dish was described as mid, lacking outstanding flavors and being quite bland.\\n- The kitchen closed before the reviewer could try their crème brulé.\\n- The beer and one dish cost 36 euros, which the reviewer found pricey compared to a previous 3-course meal for 32 euros.\\n- The reviewer did not like the terminals that prompt customers to tip and declined to tip.\\n- The staff was generally courteous.\\n- The reviewer felt like they were paying for the location rather than the food.\\n- The reviewer did not endorse the restaurant and found the rating of 4.4 unfitting.\\n- Another star was deducted for poor business practices.\\n- One positive review mentioned that the food was tender and juicy, and the service was great.\\n- Another positive review described the restaurant as having the best service and food in Munich.\\n- Another positive review recommended trying the business lunch, which offers a variety of high-quality dishes for less than 10 euros.\\n- One review praised the wonderful and charming staff, as well as the delicious food. However, they mentioned that their girlfriend's birthday was not acknowledged during the service.\",\n",
       " 'Overall tendency: Very positive\\n\\nImportant details about this restaurant:\\n- Highly praised for its Chinese food with super fresh ingredients and rich taste\\n- Chicken dishes are described as spectacular\\n- Very friendly service and reasonable prices\\n- Limited seating outside for a perfect spring lunch\\n- Quick service with no waiting times\\n- Vegetables were crisp and fresh, and wontons were perfect\\n- No bathroom on-site, but one is available down the street\\n- Owners are described as very nice and hospitable\\n- Food is authentic and delicious, with a feeling of a home cooked meal\\n- Some reviewers express a desire to become regular customers due to the excellent experience',\n",
       " 'Mixed: The reviews for this restaurant are mixed, with both positive and negative feedback. \\n\\nImportant details:\\n- The restaurant offers a good variety of vegetarian and vegan options, including a delicious Beyond burger and a delightful bowl option.\\n- The French dining experience is described as wonderful and delectable, with a good understanding of seafood. However, some sauces were noted to be slightly salty.\\n- One reviewer had a negative experience, describing their last visit as a huge disappointment. They were frequently disturbed by a stressed and rushed waiter, who changed the placement of their stool multiple times and bumped their bag.\\n- Another reviewer echoed the negative service experience, describing the waiter as stressed out, rude, and condescending. They also noted that the service did not meet the level expected for the price.\\n- On the other hand, one positive review mentioned that the menu and food were outstanding, with a flawless kitchen.\\n- The cool ambiance of the restaurant, along with good coffee, food, and live music, were appreciated by another reviewer who stated that they love the place.\\n\\nOverall, the restaurant has a mix of positive and negative feedback, with praise for the food and ambiance, but criticism of the service in some cases.',\n",
       " 'Overall tendency: Very positive\\n\\nImportant details about the restaurant:\\n- The restaurant is described as a hidden gem, small and cosy.\\n- It is recommended for special occasions like date nights or birthdays.\\n- There is no fixed menu, but daily specials are written on a blackboard.\\n- Vegetarian and meat options are always available, and the kitchen is willing to make custom dishes.\\n- Every meal includes a complimentary starter and dessert.\\n- The food is described as excellent, outstanding, and delicious.\\n- The service is highly praised for being attentive, friendly, and authentic.\\n- The ambiance is described as inspiring, great, and romantic.\\n- The prices are a bit higher, but considered worth it.\\n- Multiple reviewers express their desire to return to the restaurant.',\n",
       " 'Overall tendency of the reviews: Mixed\\n\\nImportant details about the restaurant:\\n- Lovely atmosphere and friendly staff\\n- Portions are big\\n- Mixed opinions on food quality (some found it delicious, others found it salty and overcooked)\\n- Prices are reasonable\\n- Some reviewers experienced food poisoning after eating certain dishes\\n- Outdoor dining available during the summer\\n- Lively atmosphere and vibrant dining experience\\n- Authentic food and attentive staff\\n- Limited seating areas']"
      ]
     },
     "execution_count": 11,
     "metadata": {},
     "output_type": "execute_result"
    }
   ],
   "source": [
    "prompt = \"I have 5 reviews for this restaurant. Please summarize it and give me the Important details about this restaurant. It is very important that you start the summary with the overall tendency of the review, e.g. mixed, negative, positive, very positive, etc.\"\n",
    "\n",
    "get_all_summaries(restaurants, prompt)"
   ]
  },
  {
   "cell_type": "markdown",
   "metadata": {},
   "source": [
    "##### Method 2: No more than 4 Sentences"
   ]
  },
  {
   "cell_type": "code",
   "execution_count": 13,
   "metadata": {},
   "outputs": [
    {
     "name": "stdout",
     "output_type": "stream",
     "text": [
      "Summary for restaurant:  Conti Restaurant\n",
      "Summary for restaurant:  Wai's Kitchen\n",
      "Summary for restaurant:  Oskar Maria Brasserie\n",
      "Summary for restaurant:  Pietra Piccina\n",
      "Summary for restaurant:  La Nonna\n"
     ]
    },
    {
     "data": {
      "text/plain": [
       "[\"The restaurant received mixed reviews, with one reviewer finding the spargel-potato dish to be bland and the prices expensive. They also didn't like the tipping terminals. Another reviewer felt that they were paying for the location and had an underwhelming experience. However, there were positive reviews praising the tender meat, great service, and delicious food. One customer mentioned that it was their girlfriend's birthday, but the staff didn't acknowledge it. Overall, the reviews were mixed but leaned towards the negative side.\",\n",
       " 'The food is amazing, with fresh and authentic flavors. The service is extremely friendly and welcoming. The owners make you feel like family.',\n",
       " 'Great coffee, delicious food, and live music at a reasonable volume. A cool spot to relax and spend time with friends.',\n",
       " 'The restaurant has received rave reviews for its outstanding food, excellent service, and cozy atmosphere. Customers have praised the authentic Italian cuisine and the attentive waitstaff. The menu consists of daily specials and includes vegetarian and meat options. Despite the slightly higher prices, many customers feel that the dining experience is well worth it and are eager to return.',\n",
       " 'Overall, the reviews for the restaurant are mixed. Some reviewers had a pleasant experience, praising the atmosphere, friendliness of the staff, and the delicious food. However, there were also negative reviews highlighting issues such as overcooked and salty pasta, expensive prices, and even reports of food poisoning. Despite this, there were still positive comments about the authentic food, reasonable prices, and attentive staff.']"
      ]
     },
     "execution_count": 13,
     "metadata": {},
     "output_type": "execute_result"
    }
   ],
   "source": [
    "prompt = \"Please give me a very short summary of the reviews for a restaurant. Do absolutely not use more than 4 sentences\"\n",
    "\n",
    "get_all_summaries(restaurants, prompt)"
   ]
  },
  {
   "cell_type": "markdown",
   "metadata": {},
   "source": [
    "##### Method 3:"
   ]
  },
  {
   "cell_type": "code",
   "execution_count": 16,
   "metadata": {},
   "outputs": [
    {
     "name": "stdout",
     "output_type": "stream",
     "text": [
      "Summary for restaurant:  Conti Restaurant\n",
      "Summary for restaurant:  Wai's Kitchen\n",
      "Summary for restaurant:  Oskar Maria Brasserie\n",
      "Summary for restaurant:  Pietra Piccina\n",
      "Summary for restaurant:  La Nonna\n"
     ]
    },
    {
     "data": {
      "text/plain": [
       "[\"The restaurant received mixed reviews. Some found the dishes bland and overpriced, and were disappointed with the overall experience. However, others praised the food and service, particularly the business lunch menu. The staff was generally courteous, but one reviewer felt ignored when they mentioned it was their girlfriend's birthday. Overall, opinions were divided and the rating seemed questionable.\",\n",
       " 'This restaurant is highly rated for its Chinese food, fresh ingredients, and friendly service. Customers appreciate the variety of dishes, quick service, and the authentic flavors. The owners are hospitable, and the overall experience is enjoyable. Limited seating and lack of a bathroom are minor drawbacks.',\n",
       " 'Mixed reviews: Varied and delicious vegetarian options, juicy Beyond burger; wonderful French cuisine but sauces too salty; disappointed with café experience due to rude and stressed waiter; outstanding food and kitchen, but terrible and condescending service; cool place with good coffee, food, and live music.',\n",
       " 'Pietra Piccina is a small, hidden gem of a restaurant with outstanding food and sensational service. The atmosphere is inspiring and perfect for special occasions. The daily menu offers fresh and excellent food with good portion sizes. The staff is very attentive and friendly. The overall experience is excellent and leaves customers satisfied and wanting to return. The restaurant is cozy and perfect for date nights. The price is a bit high, but worth it for the quality of food and service.',\n",
       " 'Lovely atmosphere, friendly staff, and good prices. However, some reviewers found the pasta overcooked and lacking in taste. One group experienced food poisoning after eating carbonara. Overall, the restaurant offers delicious food with generous portions and a lively atmosphere.']"
      ]
     },
     "execution_count": 16,
     "metadata": {},
     "output_type": "execute_result"
    }
   ],
   "source": [
    "prompt = \"Please give me a summary of the reviews of this restaurant. I want one single summary for all 5 reviews. Please limit the summary to a maximum of 400 characters. It is extremely important that you limit the summary to a maximum of 400 characters.\"\n",
    "\n",
    "get_all_summaries(restaurants, prompt)"
   ]
  },
  {
   "cell_type": "markdown",
   "metadata": {},
   "source": [
    "#### Method 4:"
   ]
  },
  {
   "cell_type": "code",
   "execution_count": 31,
   "metadata": {},
   "outputs": [
    {
     "name": "stdout",
     "output_type": "stream",
     "text": [
      "Summary for restaurant:  Wai's Kitchen\n",
      "Summary for restaurant:  Sangeet\n",
      "Summary for restaurant:  The Italian Shot Maxvorstadt\n",
      "Summary for restaurant:  Conti Restaurant\n",
      "Summary for restaurant:  Döner Öz Urfa\n"
     ]
    },
    {
     "data": {
      "text/plain": [
       "['Summary: This restaurant is highly praised for its fresh and flavorful Chinese food. The chicken dishes are particularly spectacular. The service is friendly and accommodating, with quick service and recommendations for dishes. The owners are hospitable and kind. Limited seating outside is available for enjoying a spring lunch. Overall, it is a favorite spot for Asian food in Munich.',\n",
       " 'This restaurant has a cosy and warming atmosphere with excellent service and food quality. It offers a great Indian taste and has traditional decorations that add to its charm. The staff is friendly and the food is amazing. However, some reviewers pointed out that it is actually a Pakistani/Bangladeshi restaurant and not truly Indian. There were also complaints about rude staff and average food. Overall, it is a decent place for authentic North Indian food with a great ambiance and quick service.',\n",
       " 'Review Summary: This Italian restaurant is highly praised for its excellent pizza and pasta dishes. The menu offers inventive cocktails, and the pistachio pesto pasta is a standout dish. Service is prompt and friendly, but booking in advance is recommended due to its popularity. It is considered a cozy and romantic spot for couples. However, there have been minor inconsistencies with the pizza dough. Overall, it is recommended for its amazing pizza and authentic Italian taste.',\n",
       " 'Overall, the reviews for this restaurant are mixed. Some reviewers found the food to be bland and overpriced, while others praised the quality and variety of the dishes. The staff received positive comments for their courteousness and service. One reviewer mentioned disappointment in not being acknowledged for a special occasion.',\n",
       " 'This restaurant serves delicious, flavorful kebab sandwiches with generous portions and fresh ingredients. The service is friendly and quick, although the tables can be cramped and dirty. The meat, pita bread, and yogurt sauce are all top quality and the atmosphere is unique. The location next to the architecture museum adds to its charm.']"
      ]
     },
     "execution_count": 31,
     "metadata": {},
     "output_type": "execute_result"
    }
   ],
   "source": [
    "prompt = \"Please give me a summary of the reviews of this restaurant. I want one single summary for all 5 reviews. Please limit the summary to a maximum of 400 characters. If you don't, I might have to kill myself\"\n",
    "\n",
    "get_all_summaries(restaurants, prompt)"
   ]
  },
  {
   "cell_type": "markdown",
   "metadata": {},
   "source": [
    "## GPT4"
   ]
  },
  {
   "cell_type": "code",
   "execution_count": 18,
   "metadata": {},
   "outputs": [],
   "source": [
    "def generate_summary_gpt4(client, reviews, prompt):\n",
    "    #Concatenate all reviews\n",
    "    review_text = \"\\n\".join(review.get('text', '') for review in reviews)\n",
    "\n",
    "    #Define the prompt for GPT\n",
    "    prompt = f\"{prompt} \\n{review_text}\"\n",
    "\n",
    "    response = client.chat.completions.create(\n",
    "        model=\"gpt-4\",\n",
    "        messages=[\n",
    "            {\"role\": \"user\", \"content\": prompt},\n",
    "        ]\n",
    "    )\n",
    "    #Extract the generated summary from GPT's response\n",
    "    summary = response.choices[0].message.content\n",
    "\n",
    "    return summary\n",
    "\n",
    "def get_summary_gpt4(place_id, prompt):\n",
    "    # review_array = fetch_review(place_id)\n",
    "\n",
    "    # if len(review_array) > 0:\n",
    "    #     print(\"Found in database!\")\n",
    "    #     review = review_array[0]\n",
    "    #     summary = review[1]\n",
    "    # else:\n",
    "    place_details = get_place_details(place_id)\n",
    "    print(\"Summary for restaurant: \", place_details.get('name'))\n",
    "    reviews = place_details.get('reviews', [])\n",
    "    summary = generate_summary_gpt4(OpenAI(), reviews, prompt)\n",
    "    # cursor.execute('INSERT INTO review_summaries (id, review_summary) VALUES (?, ?)', (place_id, summary))\n",
    "    # conn.commit()\n",
    "\n",
    "    return summary\n",
    "\n",
    "def get_all_summaries_gpt4(restaurants, prompt):\n",
    "    summaries = []\n",
    "    for restaurant in restaurants:\n",
    "        summaries.append(get_summary_gpt4(restaurant['place_id'], prompt))\n",
    "\n",
    "    return summaries"
   ]
  },
  {
   "cell_type": "code",
   "execution_count": 19,
   "metadata": {},
   "outputs": [
    {
     "name": "stdout",
     "output_type": "stream",
     "text": [
      "Summary for restaurant:  Conti Restaurant\n",
      "Summary for restaurant:  Wai's Kitchen\n",
      "Summary for restaurant:  Oskar Maria Brasserie\n",
      "Summary for restaurant:  Pietra Piccina\n",
      "Summary for restaurant:  La Nonna\n"
     ]
    },
    {
     "data": {
      "text/plain": [
       "['Reviews for the restaurant are mixed. Some patrons complain of overpricing, bland flavors, and potentially fake reviews lowering their overall ratings. However, other reviews celebrate the quality of food and service, with specific praise for the business lunch and mentioning that the staff was friendly and accommodating. There was disappointment in the lack of acknowledgment for a special occasion.',\n",
       " 'The restaurant is highly popular for its Chinese food, with many praising its super fresh and flavorful ingredients, with no artificial flavors needed. The chicken dishes are particularly popular. The service is also praised as very friendly and hospitable. The restaurant offers timely service, serving food quickly. The vegetables are reported as crispand fresh, and the wontons perfect. Their food provides a feeling of a home-cooked meal. Some have noted limited outdoor seating and lack of an on-site bathroom.',\n",
       " 'The restaurant offers a variety of vegetarian and vegan options, including a juicy plant-based Beyond burger. French dining and seafood are also offered, albeit with sometimes salty sauces. The cafe atmosphere and live music are praised, as is the food quality. However, customer service is lacking - frequent disturbances, rushed service, and rudeness were noted. This resulted in some reviewers refusing to return, despite enjoying the food.',\n",
       " 'Customers have highly rated the restaurant, especially for its outstanding food, excellent dining experience, and top-tier service. Many patrons have revisited the restaurant more than once. Notable dishes include the truffle ravioli and spaghetti, with the daily menu frequently commended for its freshness and variety. The location is described as a small, cosy, and romantic Italian place, making it an excellent venue for any special occasion. While some found the pricing a bit high, they felt it was worth it for the quality of the meal and experience.',\n",
       " \"The restaurant's atmosphere is generally enjoyed, with praise for friendly staff and large portions. However, food quality varies with some patrons finding certain dishes delicious, particularly the carbonara and apple strudel, while others report over-cooking and excessive saltiness. Some diners criticized the awful taste and even reported food poisoning from the carbonara. Despite this, some guests still commend the authentic food, reasonable prices, and an overall vibrant dining experience.\"]"
      ]
     },
     "execution_count": 19,
     "metadata": {},
     "output_type": "execute_result"
    }
   ],
   "source": [
    "prompt = \"Please give me a summary of the reviews of this restaurant. I want one single summary for all 5 reviews. Please limit the summary to a maximum of 400 characters. It is extremely important that you limit the summary to a maximum of 400 characters.\"\n",
    "\n",
    "get_all_summaries_gpt4(restaurants, prompt)"
   ]
  }
 ],
 "metadata": {
  "kernelspec": {
   "display_name": ".venv",
   "language": "python",
   "name": "python3"
  },
  "language_info": {
   "codemirror_mode": {
    "name": "ipython",
    "version": 3
   },
   "file_extension": ".py",
   "mimetype": "text/x-python",
   "name": "python",
   "nbconvert_exporter": "python",
   "pygments_lexer": "ipython3",
   "version": "3.11.3"
  }
 },
 "nbformat": 4,
 "nbformat_minor": 2
}
