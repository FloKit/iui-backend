{
 "cells": [
  {
   "cell_type": "markdown",
   "metadata": {},
   "source": [
    "## Experiments with prompts"
   ]
  },
  {
   "cell_type": "code",
   "execution_count": 3,
   "metadata": {},
   "outputs": [],
   "source": [
    "import requests\n",
    "from openai import OpenAI\n",
    "import os\n",
    "import nltk"
   ]
  },
  {
   "cell_type": "code",
   "execution_count": 4,
   "metadata": {},
   "outputs": [
    {
     "name": "stdout",
     "output_type": "stream",
     "text": [
      "Google key found!\n",
      "OpenAI key found!\n"
     ]
    }
   ],
   "source": [
    "#get api keys from env file\n",
    "google_api_key = os.environ.get(\"GOOGLE_API_KEY\")\n",
    "openai_api_key = os.environ.get(\"OPENAI_API_KEY\")\n",
    "if google_api_key is not None:\n",
    "    print(\"Google key found!\")\n",
    "if openai_api_key is not None:\n",
    "    print(\"OpenAI key found!\")"
   ]
  },
  {
   "cell_type": "markdown",
   "metadata": {},
   "source": [
    "#### Functions"
   ]
  },
  {
   "cell_type": "code",
   "execution_count": 9,
   "metadata": {},
   "outputs": [],
   "source": [
    "def get_nearby_restaurants(location, radius=1500, keyword='restaurant', num_results=5, tag=None, page=1):\n",
    "    '''\n",
    "    Returns the restaurants from the API call based on location, radius\n",
    "    @\n",
    "    '''\n",
    "    base_url = 'https://maps.googleapis.com/maps/api/place/'\n",
    "    \n",
    "    # search for restaurants without specify the kind of restaurants\n",
    "    if not tag :\n",
    "        print(\"STARTING NO TAG SEARCH\")\n",
    "        params = {\n",
    "            'location': location,\n",
    "            # 'radius': radius,\n",
    "            'keyword': keyword,\n",
    "            'key': google_api_key,\n",
    "            'rankby': 'distance'\n",
    "        }\n",
    "        response = requests.get(base_url+'nearbysearch/json', params=params)\n",
    "    else:\n",
    "        print(\"TAG SEARCH\")\n",
    "        query = tag.replace(',', ' or ')\n",
    "        query = query + ' restaurant'\n",
    "\n",
    "        print(\"query: \", query)\n",
    "\n",
    "        params = {\n",
    "            'location': location,\n",
    "            'radius': radius,\n",
    "            'query': query,\n",
    "            'key': google_api_key,\n",
    "        } \n",
    "        response = requests.get(base_url+'textsearch/json', params=params)\n",
    "\n",
    "    results = response.json().get('results', [])\n",
    "\n",
    "    #Basic pagination\n",
    "    page_results = num_results*page\n",
    "    previous_page = num_results*(page-1)\n",
    "\n",
    "    # Limit the number of results to the top 'num_results'\n",
    "    results = results[previous_page:page_results]\n",
    "  \n",
    "    return results\n",
    "\n",
    "\n",
    "def get_place_details(place_id):\n",
    "    '''\n",
    "    Returns details on a place defined by the place_id, e.g. reviews\n",
    "    '''\n",
    "    base_url = 'https://maps.googleapis.com/maps/api/place/details/json'\n",
    "\n",
    "    params = {\n",
    "        'place_id': place_id,\n",
    "        'key': google_api_key\n",
    "    }\n",
    "\n",
    "    response = requests.get(base_url, params=params)\n",
    "    result = response.json().get('result', {})\n",
    "\n",
    "    return result\n",
    "\n",
    "\n",
    "def generate_summary(client, reviews, prompt):\n",
    "    #Concatenate all reviews\n",
    "    review_text = \"\\n\".join(review.get('text', '') for review in reviews)\n",
    "\n",
    "    #Define the prompt for GPT\n",
    "    prompt = f\"{prompt} \\n{review_text}\"\n",
    "\n",
    "    response = client.chat.completions.create(\n",
    "        model=\"gpt-3.5-turbo\",\n",
    "        messages=[\n",
    "            {\"role\": \"user\", \"content\": prompt},\n",
    "        ]\n",
    "    )\n",
    "    #Extract the generated summary from GPT's response\n",
    "    summary = response.choices[0].message.content\n",
    "\n",
    "    return summary\n",
    "\n",
    "def fetch_review(place_id):\n",
    "    cursor.execute('SELECT * FROM review_summaries WHERE id = ?', (place_id,))\n",
    "    return cursor.fetchall()\n",
    "\n",
    "def get_summary(place_id, prompt):\n",
    "    # review_array = fetch_review(place_id)\n",
    "\n",
    "    # if len(review_array) > 0:\n",
    "    #     print(\"Found in database!\")\n",
    "    #     review = review_array[0]\n",
    "    #     summary = review[1]\n",
    "    # else:\n",
    "    place_details = get_place_details(place_id)\n",
    "    print(\"Summary for restaurant: \", place_details.get('name'))\n",
    "    reviews = place_details.get('reviews', [])\n",
    "    summary = generate_summary(OpenAI(), reviews, prompt)\n",
    "    # cursor.execute('INSERT INTO review_summaries (id, review_summary) VALUES (?, ?)', (place_id, summary))\n",
    "    # conn.commit()\n",
    "\n",
    "    return summary\n",
    "\n",
    "def get_all_summaries(restaurants, prompt):\n",
    "    summaries = []\n",
    "    for restaurant in restaurants:\n",
    "        summaries.append(get_summary(restaurant['place_id'], prompt))\n",
    "\n",
    "    return summaries"
   ]
  },
  {
   "cell_type": "markdown",
   "metadata": {},
   "source": [
    "### Search"
   ]
  },
  {
   "cell_type": "code",
   "execution_count": 17,
   "metadata": {},
   "outputs": [
    {
     "name": "stdout",
     "output_type": "stream",
     "text": [
      "STARTING NO TAG SEARCH\n",
      "Restaurant name:  Türkenhof\n",
      "Rating:   4.4\n",
      "{'business_status': 'OPERATIONAL', 'geometry': {'location': {'lat': 48.1514056, 'lng': 11.5768359}, 'viewport': {'northeast': {'lat': 48.15276607989272, 'lng': 11.57814797989272}, 'southwest': {'lat': 48.15006642010727, 'lng': 11.57544832010728}}}, 'icon': 'https://maps.gstatic.com/mapfiles/place_api/icons/v1/png_71/restaurant-71.png', 'icon_background_color': '#FF9E67', 'icon_mask_base_uri': 'https://maps.gstatic.com/mapfiles/place_api/icons/v2/restaurant_pinlet', 'name': 'Türkenhof', 'opening_hours': {'open_now': False}, 'photos': [{'height': 3000, 'html_attributions': ['<a href=\"https://maps.google.com/maps/contrib/108505465088373482852\">André Simões</a>'], 'photo_reference': 'AWU5eFhIuy7G5TpIBBUTG6iIjhhVwJpjnaaVIL7zKpVVbJ9dHSwnZp_pbQHh4oUcM0hQRNqTGpFf4OyoNzDuhztMBWlW9vlFZa7o9Pg35ZlW_G2E5YF7HeqBhynwlLrMPqZrvonh8nqkAv2WgM0SNeyAeHTNUuVdVUZ8lnvD-ZyK0QFix4CP', 'width': 4000}], 'place_id': 'ChIJn7g8pet1nkcRI9TkkPfwFVI', 'plus_code': {'compound_code': '5H2G+HQ Munich', 'global_code': '8FWH5H2G+HQ'}, 'price_level': 1, 'rating': 4.4, 'reference': 'ChIJn7g8pet1nkcRI9TkkPfwFVI', 'scope': 'GOOGLE', 'types': ['bar', 'restaurant', 'food', 'point_of_interest', 'establishment'], 'user_ratings_total': 799, 'vicinity': 'Türkenstraße 78, München'}\n",
      "Restaurant name:  Osteria Italiana\n",
      "Rating:   4.2\n",
      "{'business_status': 'OPERATIONAL', 'geometry': {'location': {'lat': 48.1514566, 'lng': 11.572102}, 'viewport': {'northeast': {'lat': 48.15279262989272, 'lng': 11.57343647989272}, 'southwest': {'lat': 48.15009297010727, 'lng': 11.57073682010728}}}, 'icon': 'https://maps.gstatic.com/mapfiles/place_api/icons/v1/png_71/restaurant-71.png', 'icon_background_color': '#FF9E67', 'icon_mask_base_uri': 'https://maps.gstatic.com/mapfiles/place_api/icons/v2/restaurant_pinlet', 'name': 'Osteria Italiana', 'opening_hours': {'open_now': False}, 'photos': [{'height': 3072, 'html_attributions': ['<a href=\"https://maps.google.com/maps/contrib/104394655140450121390\">Enzio von Diest</a>'], 'photo_reference': 'AWU5eFiBhQUchMzPmUaDmktg2UbbsVsXScHPQIh5Kc4Vuv-ogOmiY7y_WtVqHilpHD_aMOfVgyUFY-yNg7Ei7AzfK6parixaNBn9wIrftCbRh7Lx-SGZoXZ7_tWNWVPh7fBa-XesRbsgQruVO5m-_pDJPKqq5fpGJ35ikYmT1h72rauImLv7', 'width': 4080}], 'place_id': 'ChIJmWIcFul1nkcR_r5jRrPG6zU', 'plus_code': {'compound_code': '5H2C+HV Munich', 'global_code': '8FWH5H2C+HV'}, 'price_level': 2, 'rating': 4.2, 'reference': 'ChIJmWIcFul1nkcR_r5jRrPG6zU', 'scope': 'GOOGLE', 'types': ['restaurant', 'food', 'point_of_interest', 'establishment'], 'user_ratings_total': 545, 'vicinity': 'Schellingstraße 62, München'}\n",
      "Restaurant name:  Augustiner Klosterwirt\n",
      "Rating:   4.5\n",
      "{'business_status': 'OPERATIONAL', 'geometry': {'location': {'lat': 48.1385971, 'lng': 11.5721771}, 'viewport': {'northeast': {'lat': 48.14016847989273, 'lng': 11.57395362989272}, 'southwest': {'lat': 48.13746882010729, 'lng': 11.57125397010728}}}, 'icon': 'https://maps.gstatic.com/mapfiles/place_api/icons/v1/png_71/restaurant-71.png', 'icon_background_color': '#FF9E67', 'icon_mask_base_uri': 'https://maps.gstatic.com/mapfiles/place_api/icons/v2/restaurant_pinlet', 'name': 'Augustiner Klosterwirt', 'opening_hours': {'open_now': True}, 'photos': [{'height': 2765, 'html_attributions': ['<a href=\"https://maps.google.com/maps/contrib/114736100138076528219\">Augustiner Klosterwirt</a>'], 'photo_reference': 'AWU5eFh1lfMsL-SqNr6UN91-kAuEQeeZc2v1iBSPfjCp3iXXusD4tQ_COTVYEwzGmAXHxRp699n_2Dufip1yT1XaApQhtv7OSSEAUJG41JGX4-D_x6fc4anuk7WhmuUzpGBJkRNs-8v0H2eFavcj-hQqxr33hWRMgVNwOpdqNBb_lN_DpQ2Y', 'width': 4147}], 'place_id': 'ChIJV8rJWPR1nkcRfAVGOrZIeVs', 'plus_code': {'compound_code': '4HQC+CV Munich', 'global_code': '8FWH4HQC+CV'}, 'price_level': 2, 'rating': 4.5, 'reference': 'ChIJV8rJWPR1nkcRfAVGOrZIeVs', 'scope': 'GOOGLE', 'types': ['restaurant', 'food', 'point_of_interest', 'establishment'], 'user_ratings_total': 10017, 'vicinity': 'Augustinerstraße 1, München'}\n",
      "Restaurant name:  DO & CO Bistro\n",
      "Rating:   4.5\n",
      "{'business_status': 'OPERATIONAL', 'geometry': {'location': {'lat': 48.1384131, 'lng': 11.5745998}, 'viewport': {'northeast': {'lat': 48.14007647989272, 'lng': 11.57548032989272}, 'southwest': {'lat': 48.13737682010728, 'lng': 11.57278067010728}}}, 'icon': 'https://maps.gstatic.com/mapfiles/place_api/icons/v1/png_71/restaurant-71.png', 'icon_background_color': '#FF9E67', 'icon_mask_base_uri': 'https://maps.gstatic.com/mapfiles/place_api/icons/v2/restaurant_pinlet', 'name': 'DO & CO Bistro', 'opening_hours': {'open_now': True}, 'photos': [{'height': 2736, 'html_attributions': ['<a href=\"https://maps.google.com/maps/contrib/108907681861134624191\">Dirk S.</a>'], 'photo_reference': 'AWU5eFjSTmckqGES_8tjEUy4wfabG6BFnDTrhhCm4ST3BCbX5FAuVSpza3vyMm8O8s4vc7pmbG5uw1IKFlOzeOW2gUxvWxtYurNcsC1BOHe1PxvKwqal0sOw4ii49kxOjPxb45WnuJrR-xzFHIaDJ59V86Fc4b58SY44lAWHfGe-5qMzJDml', 'width': 3648}], 'place_id': 'ChIJ7SG9QSZ1nkcReqpLuzPPX1E', 'plus_code': {'compound_code': '4HQF+9R Munich', 'global_code': '8FWH4HQF+9R'}, 'rating': 4.5, 'reference': 'ChIJ7SG9QSZ1nkcReqpLuzPPX1E', 'scope': 'GOOGLE', 'types': ['restaurant', 'food', 'point_of_interest', 'establishment'], 'user_ratings_total': 317, 'vicinity': 'Filserbräugasse 1, München'}\n",
      "Restaurant name:  Il Sogno\n",
      "Rating:   4.4\n",
      "{'business_status': 'OPERATIONAL', 'geometry': {'location': {'lat': 48.1391988, 'lng': 11.5686444}, 'viewport': {'northeast': {'lat': 48.14056662989272, 'lng': 11.57004827989272}, 'southwest': {'lat': 48.13786697010728, 'lng': 11.56734862010728}}}, 'icon': 'https://maps.gstatic.com/mapfiles/place_api/icons/v1/png_71/restaurant-71.png', 'icon_background_color': '#FF9E67', 'icon_mask_base_uri': 'https://maps.gstatic.com/mapfiles/place_api/icons/v2/restaurant_pinlet', 'name': 'Il Sogno', 'opening_hours': {'open_now': False}, 'photos': [{'height': 853, 'html_attributions': ['<a href=\"https://maps.google.com/maps/contrib/101986891539544684775\">Ristorante il Sogno</a>'], 'photo_reference': 'AWU5eFh3BYyIowizxmIoz5_2r-gKRSXDXoPG6hkFrdroqQxGvcDLh_8u8SmnNYY4GUr2_3YABo7SBetJDRjAX2elygNOaZ_F_xkM78oVQHhy90oVRFMCJvJ6UFSntRVm_pnlvunrTF9vxNmXZn69D8v3kqqzOKD3R0mO0ySa5q4K5Ij--9IV', 'width': 1280}], 'place_id': 'ChIJV7c2mPZ1nkcRJFe46i7fmhs', 'plus_code': {'compound_code': '4HQ9+MF Munich', 'global_code': '8FWH4HQ9+MF'}, 'price_level': 2, 'rating': 4.4, 'reference': 'ChIJV7c2mPZ1nkcRJFe46i7fmhs', 'scope': 'GOOGLE', 'types': ['restaurant', 'food', 'point_of_interest', 'establishment'], 'user_ratings_total': 847, 'vicinity': 'Kapellenstraße 1, München'}\n"
     ]
    }
   ],
   "source": [
    "# LMU coordiantes\n",
    "# lmu_coordinates = '48.148794,11.579980'\n",
    "lmu_coordinates = '48.1450909,11.5743243'\n",
    "\n",
    "# Set radius and keyword\n",
    "# get_nearby_restaurants(location,tag, radius=500, keyword='restaurant', num_results=5)\n",
    "restaurants = get_nearby_restaurants(lmu_coordinates, radius=500, keyword='restaurant', num_results=5, page=4)\n",
    "\n",
    "# Print the names of the found restaurants\n",
    "for restaurant in restaurants:\n",
    "    #Print Restaurant name and average rating\n",
    "    print(\"Restaurant name: \", restaurant.get('name'))\n",
    "    print(\"Rating:  \", restaurant.get('rating'))\n",
    "    \n",
    "    print(restaurant)"
   ]
  },
  {
   "cell_type": "code",
   "execution_count": 8,
   "metadata": {},
   "outputs": [
    {
     "name": "stdout",
     "output_type": "stream",
     "text": [
      "TAG SEARCH\n",
      "query:  vegan and sushi restaurant\n",
      "Restaurant name:  Little Tokyo\n",
      "Rating:   4.1\n",
      "{'business_status': 'OPERATIONAL', 'formatted_address': 'Steinheilstraße 21, 80333 München, Germany', 'geometry': {'location': {'lat': 48.1498137, 'lng': 11.5637016}, 'viewport': {'northeast': {'lat': 48.15121152989272, 'lng': 11.56491952989272}, 'southwest': {'lat': 48.14851187010727, 'lng': 11.56221987010728}}}, 'icon': 'https://maps.gstatic.com/mapfiles/place_api/icons/v1/png_71/restaurant-71.png', 'icon_background_color': '#FF9E67', 'icon_mask_base_uri': 'https://maps.gstatic.com/mapfiles/place_api/icons/v2/restaurant_pinlet', 'name': 'Little Tokyo', 'opening_hours': {'open_now': False}, 'photos': [{'height': 3024, 'html_attributions': ['<a href=\"https://maps.google.com/maps/contrib/108969179235530978806\">A Google User</a>'], 'photo_reference': 'AWU5eFjOR_YajarPnsioHDrtUhwdqkNk1cTi5Bj-_N5BIPyZqT-A5YecYSgTITpU32imIQSzeScwQxOEy6B53bzULlTrQXsf5k5sD3GaWsQGAQL5RSA2RzMyz61ZSnycfcl0w3ZLroArRwcYkQ9A_Zel6J0b-L6gwYcm1H2d_AYAyMaPDN5v', 'width': 4032}], 'place_id': 'ChIJSaTJyuV1nkcRITRsTXaiARA', 'plus_code': {'compound_code': '4HX7+WF Munich', 'global_code': '8FWH4HX7+WF'}, 'price_level': 1, 'rating': 4.1, 'reference': 'ChIJSaTJyuV1nkcRITRsTXaiARA', 'types': ['restaurant', 'food', 'point_of_interest', 'establishment'], 'user_ratings_total': 305}\n",
      "Restaurant name:  Sakura Sushi Bar\n",
      "Rating:   4.1\n",
      "{'business_status': 'OPERATIONAL', 'formatted_address': 'Prannerstraße 1, 80333 München, Germany', 'geometry': {'location': {'lat': 48.14084219999999, 'lng': 11.5740695}, 'viewport': {'northeast': {'lat': 48.14221457989273, 'lng': 11.57543032989272}, 'southwest': {'lat': 48.13951492010728, 'lng': 11.57273067010728}}}, 'icon': 'https://maps.gstatic.com/mapfiles/place_api/icons/v1/png_71/restaurant-71.png', 'icon_background_color': '#FF9E67', 'icon_mask_base_uri': 'https://maps.gstatic.com/mapfiles/place_api/icons/v2/restaurant_pinlet', 'name': 'Sakura Sushi Bar', 'opening_hours': {'open_now': False}, 'photos': [{'height': 2448, 'html_attributions': ['<a href=\"https://maps.google.com/maps/contrib/108748242078666868786\">Samuel Schnyder</a>'], 'photo_reference': 'AWU5eFjq8_irkv5S9d0YnLdu1P24huv7JKXbYrJPqmoA4AtS88n1Tm7hOuKOavHJwEf54GYYjj6h9PlDdYmXk7Ua7uGFtLEbJwUnAbbRIdkoQXvzMLS9Pz_nmgJ69WBmusTfYozuItY_YQ6XNbnKMgerjXYnu5wm23mBewoJqokYvdECWI31', 'width': 3264}], 'place_id': 'ChIJC7IFbPN1nkcRzrXfzReilik', 'plus_code': {'compound_code': '4HRF+8J Munich', 'global_code': '8FWH4HRF+8J'}, 'price_level': 2, 'rating': 4.1, 'reference': 'ChIJC7IFbPN1nkcRzrXfzReilik', 'types': ['restaurant', 'food', 'point_of_interest', 'establishment'], 'user_ratings_total': 245}\n",
      "Restaurant name:  Secret Garden\n",
      "Rating:   4.3\n",
      "{'business_status': 'OPERATIONAL', 'formatted_address': 'Heiliggeiststraße 2 A, 80331 München, Germany', 'geometry': {'location': {'lat': 48.1356704, 'lng': 11.5775227}, 'viewport': {'northeast': {'lat': 48.13732107989271, 'lng': 11.57904767989272}, 'southwest': {'lat': 48.13462142010727, 'lng': 11.57634802010728}}}, 'icon': 'https://maps.gstatic.com/mapfiles/place_api/icons/v1/png_71/restaurant-71.png', 'icon_background_color': '#FF9E67', 'icon_mask_base_uri': 'https://maps.gstatic.com/mapfiles/place_api/icons/v2/restaurant_pinlet', 'name': 'Secret Garden', 'opening_hours': {'open_now': False}, 'photos': [{'height': 2736, 'html_attributions': ['<a href=\"https://maps.google.com/maps/contrib/108586881141669398150\">V G</a>'], 'photo_reference': 'AWU5eFhUmO-XXu-lhqLqGdwTdFU9BsZXguryp3ImSh51qGe_cZGYbZQLOU4fizmiQYFzkIDrLysMXbVIY7c_gvquoSXCqrmi_Z3LjGO4SdEDgL00AW9kqaGQG-gxPTTMfaSob4KJ6KHmtiakVh9KiQUBkdYd9dPuX8hED21r_F7vFOawryKG', 'width': 3648}], 'place_id': 'ChIJtfhzszV1nkcRBeh7QXFaiho', 'plus_code': {'compound_code': '4HPH+72 Munich', 'global_code': '8FWH4HPH+72'}, 'rating': 4.3, 'reference': 'ChIJtfhzszV1nkcRBeh7QXFaiho', 'types': ['restaurant', 'food', 'point_of_interest', 'establishment'], 'user_ratings_total': 751}\n",
      "Restaurant name:  SAM - sushi and meat - Maxvorstadt\n",
      "Rating:   4.2\n",
      "{'business_status': 'OPERATIONAL', 'formatted_address': 'Amalienstraße 25, 80333 München, Germany', 'geometry': {'location': {'lat': 48.14756029999999, 'lng': 11.5764411}, 'viewport': {'northeast': {'lat': 48.14896462989271, 'lng': 11.57782847989272}, 'southwest': {'lat': 48.14626497010727, 'lng': 11.57512882010728}}}, 'icon': 'https://maps.gstatic.com/mapfiles/place_api/icons/v1/png_71/restaurant-71.png', 'icon_background_color': '#FF9E67', 'icon_mask_base_uri': 'https://maps.gstatic.com/mapfiles/place_api/icons/v2/restaurant_pinlet', 'name': 'SAM - sushi and meat - Maxvorstadt', 'opening_hours': {'open_now': False}, 'photos': [{'height': 3577, 'html_attributions': ['<a href=\"https://maps.google.com/maps/contrib/116187464456360419664\">Lorraine Wirtz</a>'], 'photo_reference': 'AWU5eFgkgjog5qjeQdivGUW7jGhJeElX7A3IjW5TEVVjbe8Ji7rKaeJ2QZ8CZCDvTiCSDtFD61MgiZuTNXu8i2MU7o5oJt2o7xBoYa-vPmvh2fT5Vwz_cDAczx87mssSZfApWFub6GdzBPl_1Rl_xvKNzeCR5yQlriPHeNlqZzpsFD3XVODt', 'width': 2583}], 'place_id': 'ChIJeXe8c_91nkcR9AZrozkEHFw', 'plus_code': {'compound_code': '4HXG+2H Munich', 'global_code': '8FWH4HXG+2H'}, 'rating': 4.2, 'reference': 'ChIJeXe8c_91nkcR9AZrozkEHFw', 'types': ['meal_takeaway', 'restaurant', 'food', 'point_of_interest', 'establishment'], 'user_ratings_total': 562}\n",
      "Restaurant name:  Maggie Sushi Bar\n",
      "Rating:   4.4\n",
      "{'business_status': 'OPERATIONAL', 'formatted_address': 'Westenriederstraße 13, 80331 München, Germany', 'geometry': {'location': {'lat': 48.1350822, 'lng': 11.5776787}, 'viewport': {'northeast': {'lat': 48.13610317989272, 'lng': 11.57886922989272}, 'southwest': {'lat': 48.13340352010727, 'lng': 11.57616957010728}}}, 'icon': 'https://maps.gstatic.com/mapfiles/place_api/icons/v1/png_71/restaurant-71.png', 'icon_background_color': '#FF9E67', 'icon_mask_base_uri': 'https://maps.gstatic.com/mapfiles/place_api/icons/v2/restaurant_pinlet', 'name': 'Maggie Sushi Bar', 'opening_hours': {'open_now': False}, 'photos': [{'height': 1171, 'html_attributions': ['<a href=\"https://maps.google.com/maps/contrib/104025498210625517696\">Johannes</a>'], 'photo_reference': 'AWU5eFirSH8_eX3KQe2nsOtADqrPx4TTT8eWQ9CzgZDFm9Yq8nw5mj37PjoAw9u8UiQ0LgpvVWDrDTevRMHo4wycMUVP2cC6C6i0R26VQqiFS2vUbRaBhqqfqHr8Z_mnAeIc5CMcUwGEx44Qne4qftEz-34NOvHYw0Jxg7ORNfD0dAVnBq0D', 'width': 1560}], 'place_id': 'ChIJAScEKPABCUERn6xP3GMi-gY', 'plus_code': {'compound_code': '4HPH+23 Munich', 'global_code': '8FWH4HPH+23'}, 'rating': 4.4, 'reference': 'ChIJAScEKPABCUERn6xP3GMi-gY', 'types': ['restaurant', 'food', 'point_of_interest', 'establishment'], 'user_ratings_total': 1089}\n",
      "Restaurant name:  Zento - Modern Japanese Kitchen & Sushi Bar\n",
      "Rating:   4.5\n",
      "{'business_status': 'OPERATIONAL', 'formatted_address': 'Oskar-von-Miller-Ring 36, 80333 München, Germany', 'geometry': {'location': {'lat': 48.1453746, 'lng': 11.5777515}, 'viewport': {'northeast': {'lat': 48.14676587989271, 'lng': 11.57918377989272}, 'southwest': {'lat': 48.14406622010727, 'lng': 11.57648412010728}}}, 'icon': 'https://maps.gstatic.com/mapfiles/place_api/icons/v1/png_71/restaurant-71.png', 'icon_background_color': '#FF9E67', 'icon_mask_base_uri': 'https://maps.gstatic.com/mapfiles/place_api/icons/v2/restaurant_pinlet', 'name': 'Zento - Modern Japanese Kitchen & Sushi Bar', 'opening_hours': {'open_now': False}, 'photos': [{'height': 2664, 'html_attributions': ['<a href=\"https://maps.google.com/maps/contrib/115666869349792476683\">Matheus Queiroz</a>'], 'photo_reference': 'AWU5eFhSuhRd-G21lozJ8Tw4DjdpcC1rDF4A-PJpdVHNbeVrg9wqa2KqCshFrkZsVwlZ2W17Il4JT8cxMrNo7PdPpPEHh0Ncg2fBbeO22K5gO_2VtYMB8AHz1IfupD2xqg4Qu8ktYOWUIWQmsPHEm9rX5gFkWRctviJoVBHar7NJyIQC3chF', 'width': 4030}], 'place_id': 'ChIJb4aprYF1nkcR4BY1N60gUSY', 'plus_code': {'compound_code': '4HWH+44 Munich', 'global_code': '8FWH4HWH+44'}, 'price_level': 3, 'rating': 4.5, 'reference': 'ChIJb4aprYF1nkcR4BY1N60gUSY', 'types': ['restaurant', 'food', 'point_of_interest', 'establishment'], 'user_ratings_total': 656}\n",
      "Restaurant name:  Sushi Sano\n",
      "Rating:   4.3\n",
      "{'business_status': 'OPERATIONAL', 'formatted_address': 'Brunnstraße 6, 80331 München, Germany', 'geometry': {'location': {'lat': 48.136289, 'lng': 11.568791}, 'viewport': {'northeast': {'lat': 48.13762642989272, 'lng': 11.57012092989272}, 'southwest': {'lat': 48.13492677010728, 'lng': 11.56742127010728}}}, 'icon': 'https://maps.gstatic.com/mapfiles/place_api/icons/v1/png_71/restaurant-71.png', 'icon_background_color': '#FF9E67', 'icon_mask_base_uri': 'https://maps.gstatic.com/mapfiles/place_api/icons/v2/restaurant_pinlet', 'name': 'Sushi Sano', 'opening_hours': {'open_now': False}, 'photos': [{'height': 3024, 'html_attributions': ['<a href=\"https://maps.google.com/maps/contrib/111527342796826947309\">Wallace Wong</a>'], 'photo_reference': 'AWU5eFgbWyukGyPLGJZh-bfUn99umL9ist6V6mYQ6BW4D9vtEMBhM7O8AoNbY_mQF9MDFdk0zwW6JiRCbUdraLwGBKFxcd71obrYIakBEomwMGWC1pzj12_ESthtUUWe8ADeSGTMTPQnhpNM1FfU0xmIrcjuMLS-A9K14H8tPOafbuDmlggD', 'width': 4032}], 'place_id': 'ChIJ1cfA4fV1nkcRDC6z3tlRjwg', 'plus_code': {'compound_code': '4HP9+GG Munich', 'global_code': '8FWH4HP9+GG'}, 'price_level': 2, 'rating': 4.3, 'reference': 'ChIJ1cfA4fV1nkcRDC6z3tlRjwg', 'types': ['restaurant', 'food', 'point_of_interest', 'establishment'], 'user_ratings_total': 1377}\n",
      "Restaurant name:  Sushi Tomo Fünf Höfe München\n",
      "Rating:   4.5\n",
      "{'business_status': 'OPERATIONAL', 'formatted_address': 'Fünf Höfe, Maffeistraße 6, 80333 München, Germany', 'geometry': {'location': {'lat': 48.1399341, 'lng': 11.5750778}, 'viewport': {'northeast': {'lat': 48.14098522989272, 'lng': 11.57680542989272}, 'southwest': {'lat': 48.13828557010728, 'lng': 11.57410577010728}}}, 'icon': 'https://maps.gstatic.com/mapfiles/place_api/icons/v1/png_71/restaurant-71.png', 'icon_background_color': '#FF9E67', 'icon_mask_base_uri': 'https://maps.gstatic.com/mapfiles/place_api/icons/v2/restaurant_pinlet', 'name': 'Sushi Tomo Fünf Höfe München', 'opening_hours': {'open_now': False}, 'photos': [{'height': 3072, 'html_attributions': ['<a href=\"https://maps.google.com/maps/contrib/100970803435932233800\">eduardo pagan</a>'], 'photo_reference': 'AWU5eFg3JUxEu2g2fSnOXPdZlRLxqRj7yuOirUT_8qirhYokzXImU_SvvNhz_yQxJTskTD8kCIrvf7gG0wKO1WnO_JcmXOqxRYjAM1gfmEnEwie0uZewff5qixVUwxorEEcQ1E0GJNCqvOcmMkFFpjO5nYFekJ3-wkkdTY9I9nZMEVzy46om', 'width': 4080}], 'place_id': 'ChIJyw7RvtJ1nkcRNoJGYSNF--I', 'plus_code': {'compound_code': '4HQG+X2 Munich', 'global_code': '8FWH4HQG+X2'}, 'rating': 4.5, 'reference': 'ChIJyw7RvtJ1nkcRNoJGYSNF--I', 'types': ['restaurant', 'food', 'point_of_interest', 'establishment'], 'user_ratings_total': 184}\n",
      "Restaurant name:  Sushi Xeng by Geisha\n",
      "Rating:   4.1\n",
      "{'business_status': 'OPERATIONAL', 'formatted_address': 'Sendlinger Str. 7 Innenhof Ecke, Oberanger 6, 80331 München, Germany', 'geometry': {'location': {'lat': 48.1356537, 'lng': 11.5724654}, 'viewport': {'northeast': {'lat': 48.13688272989272, 'lng': 11.57394132989272}, 'southwest': {'lat': 48.13418307010728, 'lng': 11.57124167010728}}}, 'icon': 'https://maps.gstatic.com/mapfiles/place_api/icons/v1/png_71/restaurant-71.png', 'icon_background_color': '#FF9E67', 'icon_mask_base_uri': 'https://maps.gstatic.com/mapfiles/place_api/icons/v2/restaurant_pinlet', 'name': 'Sushi Xeng by Geisha', 'opening_hours': {'open_now': False}, 'photos': [{'height': 2252, 'html_attributions': ['<a href=\"https://maps.google.com/maps/contrib/109220817191995391985\">ธรรมพร เจริญสวัสดิ์</a>'], 'photo_reference': 'AWU5eFh_dqZFSK5p97sHXcXqPfHznZh_CGkMf6_rwuTOZ-RL60ZVPsdzj6Li3ekgQS-waO2ptSiNW1FvFPQQV-SCO75hnquuknyRAo8rfX4Fu5xCsKvzU3ZIMmIvckd6pCJza2ZcW1081YLS1jUNuPa6QlypF049g6ThNwrb8mLHmh4r211k', 'width': 4000}], 'place_id': 'ChIJ6euLfnV1nkcRULTGbV41zQg', 'plus_code': {'compound_code': '4HPC+7X Munich', 'global_code': '8FWH4HPC+7X'}, 'rating': 4.1, 'reference': 'ChIJ6euLfnV1nkcRULTGbV41zQg', 'types': ['restaurant', 'food', 'point_of_interest', 'establishment'], 'user_ratings_total': 194}\n",
      "Restaurant name:  AIVI Eatery - Sushi Restaurant\n",
      "Rating:   4.7\n",
      "{'business_status': 'OPERATIONAL', 'formatted_address': 'Rumfordstraße 42, 80469 München, Germany', 'geometry': {'location': {'lat': 48.1336247, 'lng': 11.5812739}, 'viewport': {'northeast': {'lat': 48.13504212989272, 'lng': 11.58264297989272}, 'southwest': {'lat': 48.13234247010728, 'lng': 11.57994332010728}}}, 'icon': 'https://maps.gstatic.com/mapfiles/place_api/icons/v1/png_71/restaurant-71.png', 'icon_background_color': '#FF9E67', 'icon_mask_base_uri': 'https://maps.gstatic.com/mapfiles/place_api/icons/v2/restaurant_pinlet', 'name': 'AIVI Eatery - Sushi Restaurant', 'opening_hours': {'open_now': False}, 'photos': [{'height': 3024, 'html_attributions': ['<a href=\"https://maps.google.com/maps/contrib/103170896168799738440\">A Google User</a>'], 'photo_reference': 'AWU5eFjoU94xgTpKX5icL7SmZPxJghzi4iwdD_hjspwgkIjwHX3lBDV58H8hcce5FX_XxfNchMUHzgWEjvHyaGG30zGlvBsi1r45Km2q9zXo738xvFIzh_R0Dwob3x5u0AVQqZfBqBoSpxHIDtwi6dr6NOT1DPAQ1S-Jy3DYd_NNMscYO_xv', 'width': 4032}], 'place_id': 'ChIJP9wUDP7fnUcRCrWLIovKhEQ', 'plus_code': {'compound_code': '4HMJ+CG Munich', 'global_code': '8FWH4HMJ+CG'}, 'rating': 4.7, 'reference': 'ChIJP9wUDP7fnUcRCrWLIovKhEQ', 'types': ['restaurant', 'food', 'point_of_interest', 'establishment'], 'user_ratings_total': 268}\n",
      "Restaurant name:  Zen Panasia Cuisine\n",
      "Rating:   4.4\n",
      "{'business_status': 'OPERATIONAL', 'formatted_address': 'Rosenheimer Str. 6, 81669 München, Germany', 'geometry': {'location': {'lat': 48.1314421, 'lng': 11.5885873}, 'viewport': {'northeast': {'lat': 48.13283932989273, 'lng': 11.58983937989272}, 'southwest': {'lat': 48.13013967010728, 'lng': 11.58713972010728}}}, 'icon': 'https://maps.gstatic.com/mapfiles/place_api/icons/v1/png_71/restaurant-71.png', 'icon_background_color': '#FF9E67', 'icon_mask_base_uri': 'https://maps.gstatic.com/mapfiles/place_api/icons/v2/restaurant_pinlet', 'name': 'Zen Panasia Cuisine', 'opening_hours': {'open_now': False}, 'photos': [{'height': 2910, 'html_attributions': ['<a href=\"https://maps.google.com/maps/contrib/101827018336890463643\">A Google User</a>'], 'photo_reference': 'AWU5eFhlL10a9OBohDiLvuQoYqQzNjMbj5JdysaiMfCNJDeyTKiu1vZ6Gu5maC22sYs621nBZCj7T4aEt8zDUAgAJDRNMEbXcVZTqwkt2m-5Hwl7QqqeRlf2p7dbo1E4lHVVUQvLs7Ps7dfHhpmUQ3-NdhdKYXQ74oixvd7Z_6bBm0tqFSmG', 'width': 3024}], 'place_id': 'ChIJMS04D33fnUcRWvLPGFdg6jQ', 'plus_code': {'compound_code': '4HJQ+HC Munich', 'global_code': '8FWH4HJQ+HC'}, 'price_level': 2, 'rating': 4.4, 'reference': 'ChIJMS04D33fnUcRWvLPGFdg6jQ', 'types': ['restaurant', 'food', 'point_of_interest', 'establishment'], 'user_ratings_total': 619}\n",
      "Restaurant name:  BENTO YA\n",
      "Rating:   4.4\n",
      "{'business_status': 'OPERATIONAL', 'formatted_address': 'Augustenstraße 4, 80333 München, Germany', 'geometry': {'location': {'lat': 48.1444676, 'lng': 11.5600479}, 'viewport': {'northeast': {'lat': 48.14582192989272, 'lng': 11.56137827989272}, 'southwest': {'lat': 48.14312227010728, 'lng': 11.55867862010728}}}, 'icon': 'https://maps.gstatic.com/mapfiles/place_api/icons/v1/png_71/restaurant-71.png', 'icon_background_color': '#FF9E67', 'icon_mask_base_uri': 'https://maps.gstatic.com/mapfiles/place_api/icons/v2/restaurant_pinlet', 'name': 'BENTO YA', 'opening_hours': {'open_now': False}, 'photos': [{'height': 2988, 'html_attributions': ['<a href=\"https://maps.google.com/maps/contrib/105064051865019012774\">Sabine Hu</a>'], 'photo_reference': 'AWU5eFgKR45jSQhHk8BG_YYf40AykKg5FvefaVg7rWVP_bQP7rOjux9PHIaREjUqUVcAgGgPHeHHg1NhM7f6BhqFQWFjjxyf2l1kXNL28h7UEqzVD1fndRKJsm2WHT1HwvaJg6O7Rly2P_7KeZnBhwe8l2Q3-SWHlIVgbCeSAymxM6zUV5z1', 'width': 3984}], 'place_id': 'ChIJo1taZYwBCUERoLKitMOdtdw', 'plus_code': {'compound_code': '4HV6+Q2 Munich', 'global_code': '8FWH4HV6+Q2'}, 'price_level': 2, 'rating': 4.4, 'reference': 'ChIJo1taZYwBCUERoLKitMOdtdw', 'types': ['restaurant', 'food', 'point_of_interest', 'establishment'], 'user_ratings_total': 1335}\n",
      "Restaurant name:  Yuki Hana\n",
      "Rating:   4.2\n",
      "{'business_status': 'OPERATIONAL', 'formatted_address': 'Stollbergstraße 6, 80539 München, Germany', 'geometry': {'location': {'lat': 48.136464, 'lng': 11.5833871}, 'viewport': {'northeast': {'lat': 48.13782242989272, 'lng': 11.58499732989272}, 'southwest': {'lat': 48.13512277010727, 'lng': 11.58229767010728}}}, 'icon': 'https://maps.gstatic.com/mapfiles/place_api/icons/v1/png_71/restaurant-71.png', 'icon_background_color': '#FF9E67', 'icon_mask_base_uri': 'https://maps.gstatic.com/mapfiles/place_api/icons/v2/restaurant_pinlet', 'name': 'Yuki Hana', 'opening_hours': {'open_now': False}, 'photos': [{'height': 3120, 'html_attributions': ['<a href=\"https://maps.google.com/maps/contrib/104649771982026541082\">Tina Koch</a>'], 'photo_reference': 'AWU5eFhcr3zvM8ask6G7vCCYvfLtuu3I_CmQZdt550S882jw3vHkgLGcvbne06Id_TfUmfRIU-pQsWEStkqOE0frj5ckpx3Q9BSf5QC14Gt6l4yqS4Du7T0z10RPzpq4QMBmGOTZrg3AvNgq1oWLrHpOOHcYoDpwDEjOFaqnJCUDOJ0tmlAN', 'width': 4160}], 'place_id': 'ChIJ-aD-CYl1nkcR9jEeCP2TOHg', 'plus_code': {'compound_code': '4HPM+J8 Munich', 'global_code': '8FWH4HPM+J8'}, 'price_level': 2, 'rating': 4.2, 'reference': 'ChIJ-aD-CYl1nkcR9jEeCP2TOHg', 'types': ['restaurant', 'food', 'point_of_interest', 'establishment'], 'user_ratings_total': 682}\n",
      "Restaurant name:  Geisha Pan Asia & Sushi Bar\n",
      "Rating:   4.2\n",
      "{'business_status': 'OPERATIONAL', 'formatted_address': 'Hohenzollernstraße 43, 80801 München, Germany', 'geometry': {'location': {'lat': 48.1600779, 'lng': 11.5766567}, 'viewport': {'northeast': {'lat': 48.16145417989272, 'lng': 11.57802922989272}, 'southwest': {'lat': 48.15875452010727, 'lng': 11.57532957010728}}}, 'icon': 'https://maps.gstatic.com/mapfiles/place_api/icons/v1/png_71/restaurant-71.png', 'icon_background_color': '#FF9E67', 'icon_mask_base_uri': 'https://maps.gstatic.com/mapfiles/place_api/icons/v2/restaurant_pinlet', 'name': 'Geisha Pan Asia & Sushi Bar', 'opening_hours': {'open_now': False}, 'photos': [{'height': 3024, 'html_attributions': ['<a href=\"https://maps.google.com/maps/contrib/114705195447434142139\">A Google User</a>'], 'photo_reference': 'AWU5eFgSYmBvDXmT9MZJyouElXPUKMezZOwf2EGO6h7bW0XD31zIiOjr3OBYEnXM5qC0XjNKDjkso8MwS0v7koYYayJfxfD49AVG9oD3KIGRmNMV8-dNUFmeFKL7Uksugn08HhHFula1TTtgCy-qw69EZm_4OExLAeEtG2Kd1JSJHNZmZfSo', 'width': 4032}], 'place_id': 'ChIJh1mtsCN1nkcRj8imLES2tnM', 'plus_code': {'compound_code': '5H6G+2M Munich', 'global_code': '8FWH5H6G+2M'}, 'rating': 4.2, 'reference': 'ChIJh1mtsCN1nkcRj8imLES2tnM', 'types': ['restaurant', 'food', 'point_of_interest', 'establishment'], 'user_ratings_total': 824}\n",
      "Restaurant name:  BENTO BOX - München\n",
      "Rating:   4.3\n",
      "{'business_status': 'OPERATIONAL', 'formatted_address': 'Leopoldstraße 42, 80802 München, Germany', 'geometry': {'location': {'lat': 48.1568409, 'lng': 11.5847618}, 'viewport': {'northeast': {'lat': 48.15822852989272, 'lng': 11.58593337989272}, 'southwest': {'lat': 48.15552887010728, 'lng': 11.58323372010728}}}, 'icon': 'https://maps.gstatic.com/mapfiles/place_api/icons/v1/png_71/restaurant-71.png', 'icon_background_color': '#FF9E67', 'icon_mask_base_uri': 'https://maps.gstatic.com/mapfiles/place_api/icons/v2/restaurant_pinlet', 'name': 'BENTO BOX - München', 'opening_hours': {'open_now': False}, 'photos': [{'height': 4000, 'html_attributions': ['<a href=\"https://maps.google.com/maps/contrib/115819954799069610133\">Maru Yakalskovich</a>'], 'photo_reference': 'AWU5eFhK5Nkdq9F8q4mror1NqqrKu3cLVpDCNz3DJ995w2DrLUDH049HAuRd2nR44KERse-7PPLdGDZGqyalGhlllbPJl3fXGAWvWdiQXEgJMaKVwygdIfLj9PT2KFnlJM1Chdfjm0Y8CbI9C61zEln8WPWMD8hxT0T371lBf7R_z05-vCMM', 'width': 3000}], 'place_id': 'ChIJUWFHDb91nkcRs5VWZB5ZGd4', 'plus_code': {'compound_code': '5H4M+PW Munich', 'global_code': '8FWH5H4M+PW'}, 'price_level': 2, 'rating': 4.3, 'reference': 'ChIJUWFHDb91nkcRs5VWZB5ZGd4', 'types': ['restaurant', 'food', 'point_of_interest', 'establishment'], 'user_ratings_total': 935}\n",
      "Restaurant name:  Padme Hum - Asian Vegan Sushi Restaurant München\n",
      "Rating:   4.5\n",
      "{'business_status': 'OPERATIONAL', 'formatted_address': 'Adlzreiterstraße 16, 80337 München, Germany', 'geometry': {'location': {'lat': 48.1266183, 'lng': 11.5555111}, 'viewport': {'northeast': {'lat': 48.12794917989272, 'lng': 11.55697832989272}, 'southwest': {'lat': 48.12524952010727, 'lng': 11.55427867010728}}}, 'icon': 'https://maps.gstatic.com/mapfiles/place_api/icons/v1/png_71/restaurant-71.png', 'icon_background_color': '#FF9E67', 'icon_mask_base_uri': 'https://maps.gstatic.com/mapfiles/place_api/icons/v2/restaurant_pinlet', 'name': 'Padme Hum - Asian Vegan Sushi Restaurant München', 'opening_hours': {'open_now': False}, 'photos': [{'height': 4032, 'html_attributions': ['<a href=\"https://maps.google.com/maps/contrib/107632326417257899914\">Anna Fomina</a>'], 'photo_reference': 'AWU5eFiOK43B-JtiObbNQtzUFzpo7HA_zjHKH0Fw-0kDy7_3kPH10Dccr0NoriNzXmqHV1BEK9vjtMOOctz8kXIMwqAqB5Y-_yrLuscUB6LEKacy48ZPbGfPEY-64qMi3SCK2alqJhu7-d6njMOwtWp_GiYRov62b6LsjcXIO_Q5osugD28_', 'width': 2268}], 'place_id': 'ChIJI6aArrDfnUcRMC48c_g7PFE', 'plus_code': {'compound_code': '4HG4+J6 Munich', 'global_code': '8FWH4HG4+J6'}, 'rating': 4.5, 'reference': 'ChIJI6aArrDfnUcRMC48c_g7PFE', 'types': ['restaurant', 'food', 'point_of_interest', 'establishment'], 'user_ratings_total': 217}\n",
      "Restaurant name:  EAT HAPPY\n",
      "Rating:   3.6\n",
      "{'business_status': 'OPERATIONAL', 'formatted_address': 'Rewe, Sendlinger Str. 46, 80331 München, Germany', 'geometry': {'location': {'lat': 48.134784, 'lng': 11.568753}, 'viewport': {'northeast': {'lat': 48.13614877989272, 'lng': 11.57042522989272}, 'southwest': {'lat': 48.13344912010727, 'lng': 11.56772557010728}}}, 'icon': 'https://maps.gstatic.com/mapfiles/place_api/icons/v1/png_71/restaurant-71.png', 'icon_background_color': '#FF9E67', 'icon_mask_base_uri': 'https://maps.gstatic.com/mapfiles/place_api/icons/v2/restaurant_pinlet', 'name': 'EAT HAPPY', 'opening_hours': {'open_now': False}, 'photos': [{'height': 658, 'html_attributions': ['<a href=\"https://maps.google.com/maps/contrib/102054161362417213515\">A Google User</a>'], 'photo_reference': 'AWU5eFguw-4jK-78L5UfeOFcOs_o6krUgKE7ReRANTJE40BBvGRQLmUhYq_6DcFcYqreg9X1Sm4ohsRinnbFC5JGTTRsO7iMN7uAF-Kr4tYuBOMIBRL5p7R_t0idogbmslxs2sxNB3gP81Wn8eQap9_kabve_nhGNTxV-GRufUkQ1sQ1PCXz', 'width': 1172}], 'place_id': 'ChIJh0F0OgTfnUcR9vqIFznz1rs', 'plus_code': {'compound_code': '4HM9+WG Munich', 'global_code': '8FWH4HM9+WG'}, 'rating': 3.6, 'reference': 'ChIJh0F0OgTfnUcR9vqIFznz1rs', 'types': ['meal_takeaway', 'restaurant', 'food', 'point_of_interest', 'establishment'], 'user_ratings_total': 21}\n",
      "Restaurant name:  Sushi Teno\n",
      "Rating:   4.8\n",
      "{'business_status': 'OPERATIONAL', 'formatted_address': 'Georgenstraße 35, 80799 München, Germany', 'geometry': {'location': {'lat': 48.1549144, 'lng': 11.5762798}, 'viewport': {'northeast': {'lat': 48.15631407989272, 'lng': 11.57766312989272}, 'southwest': {'lat': 48.15361442010727, 'lng': 11.57496347010728}}}, 'icon': 'https://maps.gstatic.com/mapfiles/place_api/icons/v1/png_71/restaurant-71.png', 'icon_background_color': '#FF9E67', 'icon_mask_base_uri': 'https://maps.gstatic.com/mapfiles/place_api/icons/v2/restaurant_pinlet', 'name': 'Sushi Teno', 'opening_hours': {'open_now': False}, 'photos': [{'height': 1701, 'html_attributions': ['<a href=\"https://maps.google.com/maps/contrib/109532049497024122209\">A Google User</a>'], 'photo_reference': 'AWU5eFi5jRkGrNMzRbUgvSnjBiL8rFyhiCHeM1ZjpR0K-bRZuuPbVv1fmsP_msoeo6L0W8NcdXoWF7hiOEmyqNYY4Bv4obB-FXyDV1IbKMKi64FGY9T1HO36-zgqFPwONHAIVDp5YJvAIlgH7MuJdfeq-2JF0UhYktDYApXc1Xa-r-TGs6la', 'width': 3024}], 'place_id': 'ChIJZ6H9MUt1nkcRvdn0Nyy111Y', 'plus_code': {'compound_code': '5H3G+XG Munich', 'global_code': '8FWH5H3G+XG'}, 'rating': 4.8, 'reference': 'ChIJZ6H9MUt1nkcRvdn0Nyy111Y', 'types': ['restaurant', 'food', 'point_of_interest', 'establishment'], 'user_ratings_total': 179}\n",
      "Restaurant name:  Sushi+Soul\n",
      "Rating:   4.2\n",
      "{'business_status': 'OPERATIONAL', 'formatted_address': 'Klenzestraße 71, 80469 München, Germany', 'geometry': {'location': {'lat': 48.128438, 'lng': 11.5709575}, 'viewport': {'northeast': {'lat': 48.12981307989272, 'lng': 11.57227332989272}, 'southwest': {'lat': 48.12711342010728, 'lng': 11.56957367010728}}}, 'icon': 'https://maps.gstatic.com/mapfiles/place_api/icons/v1/png_71/restaurant-71.png', 'icon_background_color': '#FF9E67', 'icon_mask_base_uri': 'https://maps.gstatic.com/mapfiles/place_api/icons/v2/restaurant_pinlet', 'name': 'Sushi+Soul', 'opening_hours': {'open_now': False}, 'photos': [{'height': 4032, 'html_attributions': ['<a href=\"https://maps.google.com/maps/contrib/107822206954557807636\">A Google User</a>'], 'photo_reference': 'AWU5eFgWeh3Y8smidd5PvFJbxZjZouzxwqDoYeDtb285c_c8aWh3Knxu3JtiFAa8L6_AKiFbRFs1EMPofeRMJFeSxfXXHb5qpvTgLts56bVWZ29BcZNaqtoNXaPJWx7QNJqedHke67Kk5NCdYVr4yLuYUhhMRBfqABnKrw01cMkp5-1EFy58', 'width': 3024}], 'place_id': 'ChIJNWfeiF3fnUcRt5xTeHkBeRA', 'plus_code': {'compound_code': '4HHC+99 Munich', 'global_code': '8FWH4HHC+99'}, 'price_level': 3, 'rating': 4.2, 'reference': 'ChIJNWfeiF3fnUcRt5xTeHkBeRA', 'types': ['restaurant', 'food', 'point_of_interest', 'establishment'], 'user_ratings_total': 1631}\n",
      "Restaurant name:  kokumi\n",
      "Rating:   4.3\n",
      "{'business_status': 'OPERATIONAL', 'formatted_address': 'Christophstraße 3, 80538 München, Germany', 'geometry': {'location': {'lat': 48.141305, 'lng': 11.5838929}, 'viewport': {'northeast': {'lat': 48.14267397989271, 'lng': 11.58527662989272}, 'southwest': {'lat': 48.13997432010727, 'lng': 11.58257697010728}}}, 'icon': 'https://maps.gstatic.com/mapfiles/place_api/icons/v1/png_71/restaurant-71.png', 'icon_background_color': '#FF9E67', 'icon_mask_base_uri': 'https://maps.gstatic.com/mapfiles/place_api/icons/v2/restaurant_pinlet', 'name': 'kokumi', 'opening_hours': {'open_now': False}, 'photos': [{'height': 1836, 'html_attributions': ['<a href=\"https://maps.google.com/maps/contrib/101948227795043743378\">Lutz Staacke</a>'], 'photo_reference': 'AWU5eFjDIpDEFPDsH06WSQAFKQbtjhn2ftx0IilK_Z_yJOAGiq1CIsXx14waL_iUE_3LDnQKH3WnlABCgyU_0-aFQ0V_Hz2eRFtAf1oL3UBYB6urYTr9R5UNapOBiXvh_zkxs5XBaOyGziUmlu0_o2KUXYQfU3dsrlWtD4zXJTYYZ9ONq89B', 'width': 3264}], 'place_id': 'ChIJeT91h451nkcReB8T5CydyBY', 'plus_code': {'compound_code': '4HRM+HH Munich', 'global_code': '8FWH4HRM+HH'}, 'rating': 4.3, 'reference': 'ChIJeT91h451nkcReB8T5CydyBY', 'types': ['restaurant', 'food', 'point_of_interest', 'establishment'], 'user_ratings_total': 296}\n"
     ]
    }
   ],
   "source": [
    "# LMU coordiantes\n",
    "# lmu_coordinates = '48.148794,11.579980'\n",
    "lmu_coordinates = '48.1450909,11.5743243'\n",
    "    \n",
    "# Set radius and keyword\n",
    "# get_nearby_restaurants(location,tag, radius=500, keyword='restaurant', num_results=5)\n",
    "restaurants = get_nearby_restaurants(lmu_coordinates, radius=500, keyword='restaurant', num_results=20, tag='italian,indian,')\n",
    "\n",
    "# Print the names of the found restaurants\n",
    "for restaurant in restaurants:\n",
    "    #Print Restaurant name and average rating\n",
    "    print(\"Restaurant name: \", restaurant.get('name'))\n",
    "    print(\"Rating:  \", restaurant.get('rating'))\n",
    "    \n",
    "    print(restaurant)"
   ]
  },
  {
   "cell_type": "markdown",
   "metadata": {},
   "source": [
    "### Reviews Summary"
   ]
  },
  {
   "cell_type": "markdown",
   "metadata": {},
   "source": [
    "##### Method 1: Overall Tendency"
   ]
  },
  {
   "cell_type": "code",
   "execution_count": 11,
   "metadata": {},
   "outputs": [
    {
     "name": "stdout",
     "output_type": "stream",
     "text": [
      "Summary for restaurant:  Conti Restaurant\n",
      "Summary for restaurant:  Wai's Kitchen\n",
      "Summary for restaurant:  Oskar Maria Brasserie\n",
      "Summary for restaurant:  Pietra Piccina\n",
      "Summary for restaurant:  La Nonna\n"
     ]
    },
    {
     "data": {
      "text/plain": [
       "[\"Overall tendency of the review: Mixed\\n\\nImportant details about the restaurant:\\n- The spargel-potatoe dish was described as mid, lacking outstanding flavors and being quite bland.\\n- The kitchen closed before the reviewer could try their crème brulé.\\n- The beer and one dish cost 36 euros, which the reviewer found pricey compared to a previous 3-course meal for 32 euros.\\n- The reviewer did not like the terminals that prompt customers to tip and declined to tip.\\n- The staff was generally courteous.\\n- The reviewer felt like they were paying for the location rather than the food.\\n- The reviewer did not endorse the restaurant and found the rating of 4.4 unfitting.\\n- Another star was deducted for poor business practices.\\n- One positive review mentioned that the food was tender and juicy, and the service was great.\\n- Another positive review described the restaurant as having the best service and food in Munich.\\n- Another positive review recommended trying the business lunch, which offers a variety of high-quality dishes for less than 10 euros.\\n- One review praised the wonderful and charming staff, as well as the delicious food. However, they mentioned that their girlfriend's birthday was not acknowledged during the service.\",\n",
       " 'Overall tendency: Very positive\\n\\nImportant details about this restaurant:\\n- Highly praised for its Chinese food with super fresh ingredients and rich taste\\n- Chicken dishes are described as spectacular\\n- Very friendly service and reasonable prices\\n- Limited seating outside for a perfect spring lunch\\n- Quick service with no waiting times\\n- Vegetables were crisp and fresh, and wontons were perfect\\n- No bathroom on-site, but one is available down the street\\n- Owners are described as very nice and hospitable\\n- Food is authentic and delicious, with a feeling of a home cooked meal\\n- Some reviewers express a desire to become regular customers due to the excellent experience',\n",
       " 'Mixed: The reviews for this restaurant are mixed, with both positive and negative feedback. \\n\\nImportant details:\\n- The restaurant offers a good variety of vegetarian and vegan options, including a delicious Beyond burger and a delightful bowl option.\\n- The French dining experience is described as wonderful and delectable, with a good understanding of seafood. However, some sauces were noted to be slightly salty.\\n- One reviewer had a negative experience, describing their last visit as a huge disappointment. They were frequently disturbed by a stressed and rushed waiter, who changed the placement of their stool multiple times and bumped their bag.\\n- Another reviewer echoed the negative service experience, describing the waiter as stressed out, rude, and condescending. They also noted that the service did not meet the level expected for the price.\\n- On the other hand, one positive review mentioned that the menu and food were outstanding, with a flawless kitchen.\\n- The cool ambiance of the restaurant, along with good coffee, food, and live music, were appreciated by another reviewer who stated that they love the place.\\n\\nOverall, the restaurant has a mix of positive and negative feedback, with praise for the food and ambiance, but criticism of the service in some cases.',\n",
       " 'Overall tendency: Very positive\\n\\nImportant details about the restaurant:\\n- The restaurant is described as a hidden gem, small and cosy.\\n- It is recommended for special occasions like date nights or birthdays.\\n- There is no fixed menu, but daily specials are written on a blackboard.\\n- Vegetarian and meat options are always available, and the kitchen is willing to make custom dishes.\\n- Every meal includes a complimentary starter and dessert.\\n- The food is described as excellent, outstanding, and delicious.\\n- The service is highly praised for being attentive, friendly, and authentic.\\n- The ambiance is described as inspiring, great, and romantic.\\n- The prices are a bit higher, but considered worth it.\\n- Multiple reviewers express their desire to return to the restaurant.',\n",
       " 'Overall tendency of the reviews: Mixed\\n\\nImportant details about the restaurant:\\n- Lovely atmosphere and friendly staff\\n- Portions are big\\n- Mixed opinions on food quality (some found it delicious, others found it salty and overcooked)\\n- Prices are reasonable\\n- Some reviewers experienced food poisoning after eating certain dishes\\n- Outdoor dining available during the summer\\n- Lively atmosphere and vibrant dining experience\\n- Authentic food and attentive staff\\n- Limited seating areas']"
      ]
     },
     "execution_count": 11,
     "metadata": {},
     "output_type": "execute_result"
    }
   ],
   "source": [
    "prompt = \"I have 5 reviews for this restaurant. Please summarize it and give me the Important details about this restaurant. It is very important that you start the summary with the overall tendency of the review, e.g. mixed, negative, positive, very positive, etc.\"\n",
    "\n",
    "get_all_summaries(restaurants, prompt)"
   ]
  },
  {
   "cell_type": "markdown",
   "metadata": {},
   "source": [
    "##### Method 2: No more than 4 Sentences"
   ]
  },
  {
   "cell_type": "code",
   "execution_count": 13,
   "metadata": {},
   "outputs": [
    {
     "name": "stdout",
     "output_type": "stream",
     "text": [
      "Summary for restaurant:  Conti Restaurant\n",
      "Summary for restaurant:  Wai's Kitchen\n",
      "Summary for restaurant:  Oskar Maria Brasserie\n",
      "Summary for restaurant:  Pietra Piccina\n",
      "Summary for restaurant:  La Nonna\n"
     ]
    },
    {
     "data": {
      "text/plain": [
       "[\"The restaurant received mixed reviews, with one reviewer finding the spargel-potato dish to be bland and the prices expensive. They also didn't like the tipping terminals. Another reviewer felt that they were paying for the location and had an underwhelming experience. However, there were positive reviews praising the tender meat, great service, and delicious food. One customer mentioned that it was their girlfriend's birthday, but the staff didn't acknowledge it. Overall, the reviews were mixed but leaned towards the negative side.\",\n",
       " 'The food is amazing, with fresh and authentic flavors. The service is extremely friendly and welcoming. The owners make you feel like family.',\n",
       " 'Great coffee, delicious food, and live music at a reasonable volume. A cool spot to relax and spend time with friends.',\n",
       " 'The restaurant has received rave reviews for its outstanding food, excellent service, and cozy atmosphere. Customers have praised the authentic Italian cuisine and the attentive waitstaff. The menu consists of daily specials and includes vegetarian and meat options. Despite the slightly higher prices, many customers feel that the dining experience is well worth it and are eager to return.',\n",
       " 'Overall, the reviews for the restaurant are mixed. Some reviewers had a pleasant experience, praising the atmosphere, friendliness of the staff, and the delicious food. However, there were also negative reviews highlighting issues such as overcooked and salty pasta, expensive prices, and even reports of food poisoning. Despite this, there were still positive comments about the authentic food, reasonable prices, and attentive staff.']"
      ]
     },
     "execution_count": 13,
     "metadata": {},
     "output_type": "execute_result"
    }
   ],
   "source": [
    "prompt = \"Please give me a very short summary of the reviews for a restaurant. Do absolutely not use more than 4 sentences\"\n",
    "\n",
    "get_all_summaries(restaurants, prompt)"
   ]
  },
  {
   "cell_type": "markdown",
   "metadata": {},
   "source": [
    "##### Method 3:"
   ]
  },
  {
   "cell_type": "code",
   "execution_count": 16,
   "metadata": {},
   "outputs": [
    {
     "name": "stdout",
     "output_type": "stream",
     "text": [
      "Summary for restaurant:  Conti Restaurant\n",
      "Summary for restaurant:  Wai's Kitchen\n",
      "Summary for restaurant:  Oskar Maria Brasserie\n",
      "Summary for restaurant:  Pietra Piccina\n",
      "Summary for restaurant:  La Nonna\n"
     ]
    },
    {
     "data": {
      "text/plain": [
       "[\"The restaurant received mixed reviews. Some found the dishes bland and overpriced, and were disappointed with the overall experience. However, others praised the food and service, particularly the business lunch menu. The staff was generally courteous, but one reviewer felt ignored when they mentioned it was their girlfriend's birthday. Overall, opinions were divided and the rating seemed questionable.\",\n",
       " 'This restaurant is highly rated for its Chinese food, fresh ingredients, and friendly service. Customers appreciate the variety of dishes, quick service, and the authentic flavors. The owners are hospitable, and the overall experience is enjoyable. Limited seating and lack of a bathroom are minor drawbacks.',\n",
       " 'Mixed reviews: Varied and delicious vegetarian options, juicy Beyond burger; wonderful French cuisine but sauces too salty; disappointed with café experience due to rude and stressed waiter; outstanding food and kitchen, but terrible and condescending service; cool place with good coffee, food, and live music.',\n",
       " 'Pietra Piccina is a small, hidden gem of a restaurant with outstanding food and sensational service. The atmosphere is inspiring and perfect for special occasions. The daily menu offers fresh and excellent food with good portion sizes. The staff is very attentive and friendly. The overall experience is excellent and leaves customers satisfied and wanting to return. The restaurant is cozy and perfect for date nights. The price is a bit high, but worth it for the quality of food and service.',\n",
       " 'Lovely atmosphere, friendly staff, and good prices. However, some reviewers found the pasta overcooked and lacking in taste. One group experienced food poisoning after eating carbonara. Overall, the restaurant offers delicious food with generous portions and a lively atmosphere.']"
      ]
     },
     "execution_count": 16,
     "metadata": {},
     "output_type": "execute_result"
    }
   ],
   "source": [
    "prompt = \"Please give me a summary of the reviews of this restaurant. I want one single summary for all 5 reviews. Please limit the summary to a maximum of 400 characters. It is extremely important that you limit the summary to a maximum of 400 characters.\"\n",
    "\n",
    "get_all_summaries(restaurants, prompt)"
   ]
  },
  {
   "cell_type": "markdown",
   "metadata": {},
   "source": [
    "#### Method 4:"
   ]
  },
  {
   "cell_type": "code",
   "execution_count": 31,
   "metadata": {},
   "outputs": [
    {
     "name": "stdout",
     "output_type": "stream",
     "text": [
      "Summary for restaurant:  Wai's Kitchen\n",
      "Summary for restaurant:  Sangeet\n",
      "Summary for restaurant:  The Italian Shot Maxvorstadt\n",
      "Summary for restaurant:  Conti Restaurant\n",
      "Summary for restaurant:  Döner Öz Urfa\n"
     ]
    },
    {
     "data": {
      "text/plain": [
       "['Summary: This restaurant is highly praised for its fresh and flavorful Chinese food. The chicken dishes are particularly spectacular. The service is friendly and accommodating, with quick service and recommendations for dishes. The owners are hospitable and kind. Limited seating outside is available for enjoying a spring lunch. Overall, it is a favorite spot for Asian food in Munich.',\n",
       " 'This restaurant has a cosy and warming atmosphere with excellent service and food quality. It offers a great Indian taste and has traditional decorations that add to its charm. The staff is friendly and the food is amazing. However, some reviewers pointed out that it is actually a Pakistani/Bangladeshi restaurant and not truly Indian. There were also complaints about rude staff and average food. Overall, it is a decent place for authentic North Indian food with a great ambiance and quick service.',\n",
       " 'Review Summary: This Italian restaurant is highly praised for its excellent pizza and pasta dishes. The menu offers inventive cocktails, and the pistachio pesto pasta is a standout dish. Service is prompt and friendly, but booking in advance is recommended due to its popularity. It is considered a cozy and romantic spot for couples. However, there have been minor inconsistencies with the pizza dough. Overall, it is recommended for its amazing pizza and authentic Italian taste.',\n",
       " 'Overall, the reviews for this restaurant are mixed. Some reviewers found the food to be bland and overpriced, while others praised the quality and variety of the dishes. The staff received positive comments for their courteousness and service. One reviewer mentioned disappointment in not being acknowledged for a special occasion.',\n",
       " 'This restaurant serves delicious, flavorful kebab sandwiches with generous portions and fresh ingredients. The service is friendly and quick, although the tables can be cramped and dirty. The meat, pita bread, and yogurt sauce are all top quality and the atmosphere is unique. The location next to the architecture museum adds to its charm.']"
      ]
     },
     "execution_count": 31,
     "metadata": {},
     "output_type": "execute_result"
    }
   ],
   "source": [
    "prompt = \"Please give me a summary of the reviews of this restaurant. I want one single summary for all 5 reviews. Please limit the summary to a maximum of 400 characters. If you don't, I might have to kill myself\"\n",
    "\n",
    "get_all_summaries(restaurants, prompt)"
   ]
  },
  {
   "cell_type": "markdown",
   "metadata": {},
   "source": [
    "## GPT4"
   ]
  },
  {
   "cell_type": "code",
   "execution_count": 18,
   "metadata": {},
   "outputs": [],
   "source": [
    "def generate_summary_gpt4(client, reviews, prompt):\n",
    "    #Concatenate all reviews\n",
    "    review_text = \"\\n\".join(review.get('text', '') for review in reviews)\n",
    "\n",
    "    #Define the prompt for GPT\n",
    "    prompt = f\"{prompt} \\n{review_text}\"\n",
    "\n",
    "    response = client.chat.completions.create(\n",
    "        model=\"gpt-4\",\n",
    "        messages=[\n",
    "            {\"role\": \"user\", \"content\": prompt},\n",
    "        ]\n",
    "    )\n",
    "    #Extract the generated summary from GPT's response\n",
    "    summary = response.choices[0].message.content\n",
    "\n",
    "    return summary\n",
    "\n",
    "def get_summary_gpt4(place_id, prompt):\n",
    "    # review_array = fetch_review(place_id)\n",
    "\n",
    "    # if len(review_array) > 0:\n",
    "    #     print(\"Found in database!\")\n",
    "    #     review = review_array[0]\n",
    "    #     summary = review[1]\n",
    "    # else:\n",
    "    place_details = get_place_details(place_id)\n",
    "    print(\"Summary for restaurant: \", place_details.get('name'))\n",
    "    reviews = place_details.get('reviews', [])\n",
    "    summary = generate_summary_gpt4(OpenAI(), reviews, prompt)\n",
    "    # cursor.execute('INSERT INTO review_summaries (id, review_summary) VALUES (?, ?)', (place_id, summary))\n",
    "    # conn.commit()\n",
    "\n",
    "    return summary\n",
    "\n",
    "def get_all_summaries_gpt4(restaurants, prompt):\n",
    "    summaries = []\n",
    "    for restaurant in restaurants:\n",
    "        summaries.append(get_summary_gpt4(restaurant['place_id'], prompt))\n",
    "\n",
    "    return summaries"
   ]
  },
  {
   "cell_type": "code",
   "execution_count": 19,
   "metadata": {},
   "outputs": [
    {
     "name": "stdout",
     "output_type": "stream",
     "text": [
      "Summary for restaurant:  Conti Restaurant\n",
      "Summary for restaurant:  Wai's Kitchen\n",
      "Summary for restaurant:  Oskar Maria Brasserie\n",
      "Summary for restaurant:  Pietra Piccina\n",
      "Summary for restaurant:  La Nonna\n"
     ]
    },
    {
     "data": {
      "text/plain": [
       "['Reviews for the restaurant are mixed. Some patrons complain of overpricing, bland flavors, and potentially fake reviews lowering their overall ratings. However, other reviews celebrate the quality of food and service, with specific praise for the business lunch and mentioning that the staff was friendly and accommodating. There was disappointment in the lack of acknowledgment for a special occasion.',\n",
       " 'The restaurant is highly popular for its Chinese food, with many praising its super fresh and flavorful ingredients, with no artificial flavors needed. The chicken dishes are particularly popular. The service is also praised as very friendly and hospitable. The restaurant offers timely service, serving food quickly. The vegetables are reported as crispand fresh, and the wontons perfect. Their food provides a feeling of a home-cooked meal. Some have noted limited outdoor seating and lack of an on-site bathroom.',\n",
       " 'The restaurant offers a variety of vegetarian and vegan options, including a juicy plant-based Beyond burger. French dining and seafood are also offered, albeit with sometimes salty sauces. The cafe atmosphere and live music are praised, as is the food quality. However, customer service is lacking - frequent disturbances, rushed service, and rudeness were noted. This resulted in some reviewers refusing to return, despite enjoying the food.',\n",
       " 'Customers have highly rated the restaurant, especially for its outstanding food, excellent dining experience, and top-tier service. Many patrons have revisited the restaurant more than once. Notable dishes include the truffle ravioli and spaghetti, with the daily menu frequently commended for its freshness and variety. The location is described as a small, cosy, and romantic Italian place, making it an excellent venue for any special occasion. While some found the pricing a bit high, they felt it was worth it for the quality of the meal and experience.',\n",
       " \"The restaurant's atmosphere is generally enjoyed, with praise for friendly staff and large portions. However, food quality varies with some patrons finding certain dishes delicious, particularly the carbonara and apple strudel, while others report over-cooking and excessive saltiness. Some diners criticized the awful taste and even reported food poisoning from the carbonara. Despite this, some guests still commend the authentic food, reasonable prices, and an overall vibrant dining experience.\"]"
      ]
     },
     "execution_count": 19,
     "metadata": {},
     "output_type": "execute_result"
    }
   ],
   "source": [
    "prompt = \"Please give me a summary of the reviews of this restaurant. I want one single summary for all 5 reviews. Please limit the summary to a maximum of 400 characters. It is extremely important that you limit the summary to a maximum of 400 characters.\"\n",
    "\n",
    "get_all_summaries_gpt4(restaurants, prompt)"
   ]
  }
 ],
 "metadata": {
  "kernelspec": {
   "display_name": ".venv",
   "language": "python",
   "name": "python3"
  },
  "language_info": {
   "codemirror_mode": {
    "name": "ipython",
    "version": 3
   },
   "file_extension": ".py",
   "mimetype": "text/x-python",
   "name": "python",
   "nbconvert_exporter": "python",
   "pygments_lexer": "ipython3",
   "version": "3.11.3"
  }
 },
 "nbformat": 4,
 "nbformat_minor": 2
}
